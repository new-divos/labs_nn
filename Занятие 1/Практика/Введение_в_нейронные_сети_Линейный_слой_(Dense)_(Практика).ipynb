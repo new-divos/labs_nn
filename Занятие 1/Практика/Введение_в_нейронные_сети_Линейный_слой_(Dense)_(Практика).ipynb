{
  "nbformat": 4,
  "nbformat_minor": 0,
  "metadata": {
    "colab": {
      "provenance": []
    },
    "kernelspec": {
      "name": "python3",
      "display_name": "Python 3"
    },
    "language_info": {
      "name": "python"
    },
    "accelerator": "GPU"
  },
  "cells": [
    {
      "cell_type": "markdown",
      "metadata": {
        "id": "MIp13M39X4pG"
      },
      "source": [
        "**Содержание**:\n",
        "\n",
        "1. [Теория](https://colab.research.google.com/drive/1WTRaTx9Rgpr5Sj6bovZWiQb72HPjXzw2?usp=sharing)\n",
        "2. Практический ноутбук"
      ]
    },
    {
      "cell_type": "markdown",
      "metadata": {
        "id": "uQLqsf5_qbzl"
      },
      "source": [
        "# Создание модели нейронной сети"
      ]
    },
    {
      "cell_type": "markdown",
      "metadata": {
        "id": "N6hhUkv_qyAh"
      },
      "source": [
        "В этой части вы научитесь создавать собственную нейронную сеть. Это можно сделать всего в несколько строк с помощью библиотеки **Keras**. Подключите основу – класс создания последовательной модели **Sequential**.\n"
      ]
    },
    {
      "cell_type": "markdown",
      "metadata": {
        "id": "zgVXcV6ipkqt"
      },
      "source": [
        "---\n",
        "\n",
        "**Важно!** Для ускорения обучения модели стоит переключиться на **GPU** в верхнем меню Colab:\n",
        "\n",
        "    Среда выполнения --> Сменить среду выполнения --> Аппаратный ускоритель\n",
        "\n",
        "---"
      ]
    },
    {
      "cell_type": "markdown",
      "metadata": {
        "id": "JJ41bZvhjQSM"
      },
      "source": [
        "\n",
        "---\n",
        "Дополнительная информация: ([База знаний УИИ - «**Выбор GPU для обучения нейронной сети в Google Colaboratory**»](https://colab.research.google.com/drive/1p735mwS1wUP7iGeSLsWm06iTt9NPfNvY?usp=sharing))\n",
        "\n",
        "---"
      ]
    },
    {
      "cell_type": "code",
      "metadata": {
        "id": "uwa6i4wAqA_o"
      },
      "source": [
        "from tensorflow.keras.models import Sequential"
      ],
      "execution_count": null,
      "outputs": []
    },
    {
      "cell_type": "markdown",
      "metadata": {
        "id": "o41umt92rzAC"
      },
      "source": [
        "С помощью него создайте экземпляр вашей модели:"
      ]
    },
    {
      "cell_type": "code",
      "metadata": {
        "id": "5L7YjGn7qbEV"
      },
      "source": [
        "model = Sequential()"
      ],
      "execution_count": null,
      "outputs": []
    },
    {
      "cell_type": "markdown",
      "metadata": {
        "id": "SHVFI73xsBF6"
      },
      "source": [
        "Это и есть ваша модель! Сейчас она больше похожа на пустую коробку. Чтобы она что-то делала, нужно поместить в нее какой-нибудь механизм. Это не механизм в обычном смысле слова, потому что вы будете оперировать не предметами, а информацией – главным ресурсом XXI века. Механизм будет принимать на вход и выдавать на выходе какие-то данные.\n",
        "\n",
        "**Объекты**\n",
        "\n",
        "Так из чего же вы можете создать механизм? Для начала определитесь, сколько информации вы будете давать нейросети на вход. Один экземпляр такой информации называется **объектом**, который всегда состоит из чисел. Позже вы рассмотрите, как они устроены и какими бывают.\n",
        "\n",
        "Допустим, вы решили, что каждый ваш входной объект состоит из **10** чисел. Настройте сеть на вход из **10** чисел:"
      ]
    },
    {
      "cell_type": "code",
      "metadata": {
        "id": "pc872zkW1Z0o"
      },
      "source": [
        "from tensorflow.keras.layers import Dense\n",
        "model.add(Dense(32, input_dim=10))"
      ],
      "execution_count": null,
      "outputs": []
    },
    {
      "cell_type": "markdown",
      "metadata": {
        "id": "xQ277C5x32N7"
      },
      "source": [
        "Внутри нейросеть состоит из слоев нейронов, и только что вы создали один из них. Этот первый слой называется ***Dense***-слоем (линейным или полносвязным слоем). Здесь же вы указали с помощью параметра **input_dim**, что ваша сеть принимает на вход последовательность из **10** чисел:\n",
        "\n",
        "Полносвязный слой чаще других используется в нейросетях. Как механизм делится по слоям, так и некоторые слои тоже делятся на составляющие элементы. В разных слоях они имеют разные функции и названия. Например, в линейном слое этими элементами выступают **полносвязные нейроны**.\n",
        "\n",
        "Их количество задается самым первым аргументом (в примере: **32**).\n",
        "\n",
        "Нужно ли создавать выход сети? На самом деле нет. Результат, который выдает последний слой, и есть выход сети.\n",
        "\n",
        "Значит, сеть готова к работе? Еще нет, потому что для работы нужно ее еще скомпилировать (собрать, подготовить к обучению) и обучить.\n",
        "\n",
        "Для подготовки к обучению вам понадобятся еще две вещи – ***оптимизатор*** и ***функция потерь*** (или ***функция ошибки***). Они задаются с помощью метода модели `.compile()`:"
      ]
    },
    {
      "cell_type": "code",
      "metadata": {
        "id": "ao55osyv5Wkg"
      },
      "source": [
        "model.compile(loss='categorical_crossentropy',\n",
        "              optimizer='adam')"
      ],
      "execution_count": null,
      "outputs": []
    },
    {
      "cell_type": "markdown",
      "metadata": {
        "id": "3hL8135BycKC"
      },
      "source": [
        "При обучении нейронной сети обязательно указывают оптимизатор и функцию ошибки.\n",
        "\n",
        "---\n",
        "Дополнительная информация ([База знаний УИИ - «**Оптимизаторы (Light-версия)**»](https://colab.research.google.com/drive/1F9NTQzqEOrZeVbYm-urrxh7SrrrFZ1yg?usp=sharing))\n",
        "\n",
        "Дополнительная информация ([База знаний УИИ - «**Оптимизаторы (Pro-версия)**»](https://colab.research.google.com/drive/1ErzVXvNJoSURyua5RPVG_eawaLAP6_PE?usp=sharing))\n",
        "\n",
        "---\n",
        "---\n",
        "Дополнительная информация ([База знаний УИИ - «**Функции потерь**»](https://colab.research.google.com/drive/1ZlmUDi7csXboFXwN22D_pLDYQcvJmt07?usp=sharing))\n",
        "\n",
        "---\n",
        "Посмотрим, как теперь выглядит сеть, вызывая метод `.summary()`:\n"
      ]
    },
    {
      "cell_type": "code",
      "metadata": {
        "colab": {
          "base_uri": "https://localhost:8080/"
        },
        "id": "1z8jTdAj8Ty_",
        "outputId": "b0d6aa39-a422-4840-a772-a86c241d96a9"
      },
      "source": [
        "model.summary()"
      ],
      "execution_count": null,
      "outputs": [
        {
          "output_type": "stream",
          "name": "stdout",
          "text": [
            "Model: \"sequential\"\n",
            "_________________________________________________________________\n",
            " Layer (type)                Output Shape              Param #   \n",
            "=================================================================\n",
            " dense (Dense)               (None, 32)                352       \n",
            "                                                                 \n",
            "=================================================================\n",
            "Total params: 352\n",
            "Trainable params: 352\n",
            "Non-trainable params: 0\n",
            "_________________________________________________________________\n"
          ]
        }
      ]
    },
    {
      "cell_type": "markdown",
      "metadata": {
        "id": "0PVW6aXdVIJd"
      },
      "source": [
        "Внимательно посмотрите на получившееся количество параметров.\n",
        "\n",
        "При входе сети из **10** чисел и Dense-слое с **32** нейронами количество весовых коэффициентов будет $10 * 32 = 320$. Но, как видите, оно получается на **32** больше. Это происходит из-за наличия в слое ***нейрона смещения***.\n",
        "\n",
        "Для чего он нужен? Бывают ситуации, в которых нейросеть просто не сможет найти верное решение из-за того, что нужная точка будет находиться вне пределов досягаемости. Именно для этого и нужны такие нейроны, чтобы иметь возможность сместить область определения.\n",
        "\n",
        "Схематически нейроны смещения обычно не обозначаются, их вес учитывается по умолчанию при работе нейрона.\n",
        "\n",
        "---\n",
        "Дополнительная информация ([База знаний УИИ - «**Нейрон смещения**»](https://colab.research.google.com/drive/1gjMlYAC3J-COIy5QX41y5Sa1pdXrP5RP?usp=sharing))\n",
        "\n",
        "---\n",
        "\n",
        "\n"
      ]
    },
    {
      "cell_type": "markdown",
      "metadata": {
        "id": "7um03-a28oZw"
      },
      "source": [
        "Вы можете заметить, что у сети есть название **\"sequential\"**. Оно автоматически присваивается при создании.\n",
        "\n",
        "У слоев также есть названия. Они указаны в левой колонке.\n",
        "\n",
        "Колонка **\"Output Shape\"** показывает форму данных на выходе нейронного слоя.\n",
        "\n",
        "В данном случае у вас получается:\n",
        "* на вход нейронной сети подается последовательность из **10** элементов (вы указали это с помощью параметра **input_dim**)\n",
        "* нейронная сеть состоит из одного слоя (**Dense**), который состоит из **32** нейронов (количество нейронов вы указали при создании слоя)\n",
        "* на выходе нейронной сети будет последовательность из **32** элементов (выход нейронной сети равен выходу последнего слоя)\n",
        "\n",
        "В выведенной информации вы можете увидеть строку **\"Total params: 352\"**. В ней указано общее количество параметров модели.\n",
        "\n",
        "**Параметры**\n",
        "\n",
        "Параметры модели – это все веса, внутренние настройки сети, которые определяют, как будет преобразован объект, подаваемый в сеть, прежде чем оказаться на выходе. Они автоматически изменяются при обучении.\n",
        "\n",
        "Вы можете добавлять неограниченное количество слоев к сети:"
      ]
    },
    {
      "cell_type": "code",
      "metadata": {
        "colab": {
          "base_uri": "https://localhost:8080/"
        },
        "id": "2xMiZgC8-3Iu",
        "outputId": "29d1ab36-618c-48a6-88ec-cdcd37800c19"
      },
      "source": [
        "model = Sequential()\n",
        "model.add(Dense(32, input_dim=10))\n",
        "model.add(Dense(5))\n",
        "model.add(Dense(1))\n",
        "\n",
        "model.summary()"
      ],
      "execution_count": null,
      "outputs": [
        {
          "output_type": "stream",
          "name": "stdout",
          "text": [
            "Model: \"sequential_1\"\n",
            "_________________________________________________________________\n",
            " Layer (type)                Output Shape              Param #   \n",
            "=================================================================\n",
            " dense_1 (Dense)             (None, 32)                352       \n",
            "                                                                 \n",
            " dense_2 (Dense)             (None, 5)                 165       \n",
            "                                                                 \n",
            " dense_3 (Dense)             (None, 1)                 6         \n",
            "                                                                 \n",
            "=================================================================\n",
            "Total params: 523\n",
            "Trainable params: 523\n",
            "Non-trainable params: 0\n",
            "_________________________________________________________________\n"
          ]
        }
      ]
    },
    {
      "cell_type": "markdown",
      "metadata": {
        "id": "FeuH33JH_FzH"
      },
      "source": [
        "Выше добавлено еще два линейных слоя. Теперь выход изменился: сеть на выходе выдает одно число. Как видите, также изменилось и общее число параметров. Чем больше слоев и нейронов в слоях, тем больше параметров сети.\n",
        "\n",
        "Далее вы узнаете, как обучить модель нейронной сети.\n"
      ]
    },
    {
      "cell_type": "markdown",
      "metadata": {
        "id": "nqZpzs2nBs63"
      },
      "source": [
        "# Распознавание рукописных цифр **MNIST**"
      ]
    },
    {
      "cell_type": "markdown",
      "metadata": {
        "id": "09mNX8pfryle"
      },
      "source": [
        "Теперь вы научитесь делать удивительные вещи благодаря нейронным сетям. Если быть точнее, вы буквально в несколько строчек кода создадите собственную нейронную сеть и научите ее с высокой точностью распознавать рукописные цифры, изображенные на картинках. То есть на вход нейросети будет приходить картинка с изображением цифры, а на выходе вы получите значение цифры (число).\n"
      ]
    },
    {
      "cell_type": "markdown",
      "metadata": {
        "id": "qLX9aj3eFCPB"
      },
      "source": [
        "## Подготовка данных"
      ]
    },
    {
      "cell_type": "markdown",
      "metadata": {
        "id": "WuUPhk0LxJBJ"
      },
      "source": [
        "Для начала добавьте в проект все необходимые модули:\n",
        "* **mnist** – модуль для загрузки набора данных рукописных цифр, который вы используете при обучении нейронной сети;\n",
        "* **Sequential** – модуль для создания последовательной модели нейронной сети;\n",
        "* **Dense** – линейный (полносвязный) слой. Из таких слоев будет создана ваша нейросеть;\n",
        "* **utils** – модуль с полезными инструментами для подготовки данных;\n",
        "* **plt** – модуль рисования графиков."
      ]
    },
    {
      "cell_type": "code",
      "metadata": {
        "id": "co9Q1s42SciM"
      },
      "source": [
        "from tensorflow.keras.datasets import mnist     # Библиотека с базой рукописных цифр\n",
        "from tensorflow.keras.models import Sequential  # Подключение класса создания модели Sequential\n",
        "from tensorflow.keras.layers import Dense       # Подключение класса Dense - полносвязный слой\n",
        "from tensorflow.keras import utils              # Утилиты для подготовки данных\n",
        "import numpy as np                              # Работа с массивами\n",
        "import matplotlib.pyplot as plt                 # Отрисовка изображений\n",
        "\n",
        "# Отрисовка изображений в ячейках ноутбука\n",
        "%matplotlib inline"
      ],
      "execution_count": null,
      "outputs": []
    },
    {
      "cell_type": "markdown",
      "metadata": {
        "id": "qcl42oYz1wUy"
      },
      "source": [
        "Чтобы чему-то научить вашу нейронную сеть, понадобится набор данных для задачи, которую вы собираетесь решать. У вас это набор картинок, на которых изображены рукописные цифры от **0** до **9**. Следующей строкой кода вы скачаете эти данные:\n",
        "* **x_train_org**, **y_train_org** – изображения для обучения нейронной сети;\n",
        "* **x_test_org**, **y_test_org** – изображения для тестирования нейронной сети.\n"
      ]
    },
    {
      "cell_type": "code",
      "metadata": {
        "id": "xnYVjcnJC4TY",
        "colab": {
          "base_uri": "https://localhost:8080/"
        },
        "outputId": "1063ef0b-92d4-45fb-8ae8-bddf60d14f34"
      },
      "source": [
        "# Загрузка из облака данных Mnist\n",
        "(x_train_org, y_train_org), (x_test_org, y_test_org) = mnist.load_data()"
      ],
      "execution_count": null,
      "outputs": [
        {
          "output_type": "stream",
          "name": "stdout",
          "text": [
            "Downloading data from https://storage.googleapis.com/tensorflow/tf-keras-datasets/mnist.npz\n",
            "11490434/11490434 [==============================] - 0s 0us/step\n"
          ]
        }
      ]
    },
    {
      "cell_type": "markdown",
      "metadata": {
        "id": "Yoc55EeF5HSw"
      },
      "source": [
        "Сейчас те самые картинки, с помощью которых вы будете обучать нейронную сеть, представляют из себя матрицы чисел, где каждое число – это значение яркости пиксела (от **0** до **255**). Таких изображений в вашем тренировочном наборе данных **60000**, и их размер **28** на **28** пикселов. Поэтому форма массива данных выглядит так:"
      ]
    },
    {
      "cell_type": "code",
      "metadata": {
        "id": "ixb5KVPvdHT7",
        "colab": {
          "base_uri": "https://localhost:8080/"
        },
        "outputId": "6e100f1f-05d9-496d-906a-0cda25a90376"
      },
      "source": [
        "# Вывод формы данных для обучения\n",
        "x_train_org.shape"
      ],
      "execution_count": null,
      "outputs": [
        {
          "output_type": "execute_result",
          "data": {
            "text/plain": [
              "(60000, 28, 28)"
            ]
          },
          "metadata": {},
          "execution_count": 9
        }
      ]
    },
    {
      "cell_type": "markdown",
      "metadata": {
        "id": "d6FaooGK7Epa"
      },
      "source": [
        "Убедитесь, что ваши данные действительно представляют собой картинки с числами.\n",
        "\n",
        "Для этого выберите из массива **x_train_org** какую-нибудь матрицу чисел и отобразите ее в серой шкале:"
      ]
    },
    {
      "cell_type": "code",
      "metadata": {
        "id": "ts-z0Oh_EJJ_",
        "colab": {
          "base_uri": "https://localhost:8080/",
          "height": 430
        },
        "outputId": "56b55988-5f05-420f-fc03-347f42279fc6"
      },
      "source": [
        "# Номер картинки\n",
        "n = 143\n",
        "\n",
        "# Отрисовка картинки\n",
        "plt.imshow(x_train_org[n], cmap='gray')\n",
        "\n",
        "# Вывод n-й картинки\n",
        "plt.show()"
      ],
      "execution_count": null,
      "outputs": [
        {
          "output_type": "display_data",
          "data": {
            "text/plain": [
              "<Figure size 640x480 with 1 Axes>"
            ],
            "image/png": "[encoded data removed]"
          },
          "metadata": {}
        }
      ]
    },
    {
      "cell_type": "markdown",
      "metadata": {
        "id": "Dbkf_3xo9FL0"
      },
      "source": [
        "Видите изображение цифры **2**?\n",
        "\n",
        "Если же вы взглянете на массив **y_train_org**, который содержит в себе метки для картинок (то есть правильные значения распознаваемых цифр на картинках), то увидите, что этой картинке соответствует значение **2**:\n"
      ]
    },
    {
      "cell_type": "code",
      "metadata": {
        "id": "3D8FrTQMx8cs",
        "colab": {
          "base_uri": "https://localhost:8080/"
        },
        "outputId": "c077eb2c-c3e0-4b66-b553-999cc1760194"
      },
      "source": [
        "# Вывод метки класса для n-го изображения\n",
        "print(y_train_org[n])"
      ],
      "execution_count": null,
      "outputs": [
        {
          "output_type": "stream",
          "name": "stdout",
          "text": [
            "2\n"
          ]
        }
      ]
    },
    {
      "cell_type": "markdown",
      "metadata": {
        "id": "MYxONEpQ9oAI"
      },
      "source": [
        "Сейчас ваши данные имеют сложную структуру, где каждая картинка представляет собой двумерный массив данных.\n",
        "\n",
        "Для обучения нейронной сети вам необходимо преобразовать изображение в более простой вид – в одномерную последовательность чисел (вектор).\n",
        "\n",
        "Сделайте это с помощью метода `.reshape()`:\n"
      ]
    },
    {
      "cell_type": "code",
      "metadata": {
        "id": "StxOw0C6EQQd",
        "colab": {
          "base_uri": "https://localhost:8080/"
        },
        "outputId": "be3ed364-1ca8-4315-a420-298ca813a363"
      },
      "source": [
        "# Изменение формы входных картинок с 28х28 на 784\n",
        "# первая ось остается без изменения, остальные складываются в вектор\n",
        "x_train = x_train_org.reshape(x_train_org.shape[0], -1)\n",
        "x_test = x_test_org.reshape(x_test_org.shape[0], -1)\n",
        "\n",
        "# Проверка результата\n",
        "print(f'Форма обучающих данных: {x_train_org.shape} -> {x_train.shape}')\n",
        "print(f'Форма  тестовых данных: {x_test_org.shape} -> {x_test.shape}')"
      ],
      "execution_count": null,
      "outputs": [
        {
          "output_type": "stream",
          "name": "stdout",
          "text": [
            "Форма обучающих данных: (60000, 28, 28) -> (60000, 784)\n",
            "Форма  тестовых данных: (10000, 28, 28) -> (10000, 784)\n"
          ]
        }
      ]
    },
    {
      "cell_type": "markdown",
      "metadata": {
        "id": "q8FvBEVo_Suv"
      },
      "source": [
        "Теперь каждая картинка представлена в вашем наборе данных последовательностью из **784** чисел **(28x28)**.\n",
        "\n",
        "Как вы уже знаете, чтобы нейронной сети было легче учиться, необходимо привести входные данные к некоему стандартному виду. В нашем случае числа, которые описывают картинку (те самые **784** числа), должны находиться в диапазоне от **0** до **1**, хотя сейчас они  в диапазоне от **0** до **255**, ведь они описывают интенсивность каждого пиксела. Поделив все эти значения на **255**, вы нормализуете входные данные:\n"
      ]
    },
    {
      "cell_type": "code",
      "metadata": {
        "id": "R5cW-u8eEXBN"
      },
      "source": [
        "# Нормализация входных картинок\n",
        "# Преобразование x_train в тип float32 (числа с плавающей точкой) и нормализация\n",
        "x_train = x_train.astype('float32') / 255.\n",
        "\n",
        "# Преобразование x_test в тип float32 (числа с плавающей точкой) и нормализация\n",
        "x_test = x_test.astype('float32') / 255."
      ],
      "execution_count": null,
      "outputs": []
    },
    {
      "cell_type": "markdown",
      "metadata": {
        "id": "GHxQ4sxXAtGH"
      },
      "source": [
        "Также нужно провести некоторые преобразования и с метками классов, то есть с теми числами, которые отвечают на вопрос «Что же изображено на картинке?».\n",
        "\n",
        "Для этого нужно привести все метки к виду ***one hot encoding***.\n",
        "\n",
        "Это значит, что каждое число будет представлять собой последовательность (вектор) значений **0** или **1**. Последовательность будет длиной **10**, потому что всего существует **10** цифр, которые вы будете распознавать (от **0** до **9**). В векторе one hot encoding везде стоят нули, кроме позиции самой метки.\n",
        "* Если ответ равен **5**, то one hot encoding представление будет таким:\n",
        "\n",
        "      [0., 0., 0., 0., 0., 1., 0., 0., 0., 0.]\n",
        "\n",
        "* А, например, для класса **3**:\n",
        "\n",
        "      [0., 0., 0., 1., 0., 0., 0., 0., 0., 0.]\n"
      ]
    },
    {
      "cell_type": "markdown",
      "metadata": {
        "id": "Vnv-c-dwXLhy"
      },
      "source": [
        "Чтобы не указывать везде явно число классов, хорошим тоном будет назначить константу. Тогда, если вам захочется использовать удачную архитектуру модели на других данных с другим количеством классов, не придется менять это значение в каждом месте, где оно требуется:"
      ]
    },
    {
      "cell_type": "code",
      "metadata": {
        "id": "Sj3OcBlZMQbo"
      },
      "source": [
        "# Задание константы количества распознаваемых классов\n",
        "\n",
        "CLASS_COUNT = 10"
      ],
      "execution_count": null,
      "outputs": []
    },
    {
      "cell_type": "markdown",
      "metadata": {
        "id": "QWhdJfXSXs7Q"
      },
      "source": [
        "Преобразуйте выходные данные в векторы one hot encoding с помощью функции `to_categorical()` модуля **utils**:"
      ]
    },
    {
      "cell_type": "code",
      "metadata": {
        "id": "zrxFxFA5EsVU"
      },
      "source": [
        "# Преобразование ответов в формат one_hot_encoding\n",
        "y_train = utils.to_categorical(y_train_org, CLASS_COUNT)\n",
        "y_test = utils.to_categorical(y_test_org, CLASS_COUNT)"
      ],
      "execution_count": null,
      "outputs": []
    },
    {
      "cell_type": "markdown",
      "metadata": {
        "id": "mmkdSUiuDjrg"
      },
      "source": [
        "Теперь выходные данные для вашей нейронной сети выглядят следующим образом:"
      ]
    },
    {
      "cell_type": "code",
      "metadata": {
        "id": "7AiDf79FE2Xk",
        "colab": {
          "base_uri": "https://localhost:8080/"
        },
        "outputId": "eefb16af-8981-42c4-9e04-2b4247e7d778"
      },
      "source": [
        "# Вывод формы y_train\n",
        "# 60 тысяч примеров, каждый длины 10 по числу классов\n",
        "print(y_train.shape)"
      ],
      "execution_count": null,
      "outputs": [
        {
          "output_type": "stream",
          "name": "stdout",
          "text": [
            "(60000, 10)\n"
          ]
        }
      ]
    },
    {
      "cell_type": "code",
      "metadata": {
        "id": "i7MZ1HbBE7me",
        "colab": {
          "base_uri": "https://localhost:8080/"
        },
        "outputId": "f2a1f10a-3343-494f-8832-b1d86a97e411"
      },
      "source": [
        "# Вывод примера одного выходного вектора\n",
        "print(y_train[0])"
      ],
      "execution_count": null,
      "outputs": [
        {
          "output_type": "stream",
          "name": "stdout",
          "text": [
            "[0. 0. 0. 0. 0. 1. 0. 0. 0. 0.]\n"
          ]
        }
      ]
    },
    {
      "cell_type": "markdown",
      "metadata": {
        "id": "7u4EFl16Ms1T"
      },
      "source": [
        "Для сравнения - в оригинальных выходных данных все метки классов - просто одиночные числа:"
      ]
    },
    {
      "cell_type": "code",
      "metadata": {
        "id": "LyIjTL5BNxus",
        "colab": {
          "base_uri": "https://localhost:8080/"
        },
        "outputId": "a2e005ee-fc32-42c1-9113-82cd413c0575"
      },
      "source": [
        "# Вывод формы массива меток\n",
        "print(y_train_org.shape)"
      ],
      "execution_count": null,
      "outputs": [
        {
          "output_type": "stream",
          "name": "stdout",
          "text": [
            "(60000,)\n"
          ]
        }
      ]
    },
    {
      "cell_type": "code",
      "metadata": {
        "id": "L6kqzxeiN0IK",
        "colab": {
          "base_uri": "https://localhost:8080/"
        },
        "outputId": "03b77593-806a-4152-8838-d726b6fffe20"
      },
      "source": [
        "# Вывод метки, соответствующей 36-му элементу\n",
        "print(y_train_org[36])"
      ],
      "execution_count": null,
      "outputs": [
        {
          "output_type": "stream",
          "name": "stdout",
          "text": [
            "6\n"
          ]
        }
      ]
    },
    {
      "cell_type": "markdown",
      "metadata": {
        "id": "TR6ua7t7FEzn"
      },
      "source": [
        "## Создание нейронной сети"
      ]
    },
    {
      "cell_type": "markdown",
      "metadata": {
        "id": "JtIA5AnuJGDx"
      },
      "source": [
        "Теперь самое интересное. Буквально за несколько строчек кода вы создадите свою собственную нейронную сеть, а потом научите ее распознавать цифры!\n",
        "\n",
        "Для начала создайте объект нейронной сети с помощью класса **Sequential**:\n",
        "\n",
        "    model = Sequential()\n",
        "\n",
        "Сейчас это пустая нейронная сеть, не содержащая в себе никаких слоев и нейронов. Добавьте в нее несколько слоев нейронов, идущих друг за другом, последовательно, по образцу:\n",
        "\n",
        "    model.add(Dense(400, activation='relu'))\n",
        "    \n",
        "В данном случае **400** – это количество нейронов в слое, а **'relu'** – функция активации, которая будет применяться после умножения значений входов нейрона на его веса.\n",
        "\n",
        "---\n",
        "Дополнительная информация ([База знаний УИИ - «**Функции активации**»](https://colab.research.google.com/drive/1pGc7CFdrkKBhcXLqZNUzLXH4N83rRAl7?usp=sharing))\n",
        "\n",
        "---"
      ]
    },
    {
      "cell_type": "code",
      "metadata": {
        "id": "odi8yVyxE-w5"
      },
      "source": [
        "# Создание последовательной модели\n",
        "model = Sequential()\n",
        "\n",
        "# Добавление полносвязного слоя на 800 нейронов с relu-активацией\n",
        "model.add(Dense(800, input_dim=784, activation='relu'))\n",
        "\n",
        "# Добавление полносвязного слоя на 400 нейронов с relu-активацией\n",
        "model.add(Dense(400, activation='relu'))\n",
        "\n",
        "# Добавление полносвязного слоя с количеством нейронов по числу классов с softmax-активацией\n",
        "model.add(Dense(CLASS_COUNT, activation='softmax'))"
      ],
      "execution_count": null,
      "outputs": []
    },
    {
      "cell_type": "markdown",
      "metadata": {
        "id": "QmM-RZmRK2ky"
      },
      "source": [
        "В целом, вы уже создали нейронную сеть. Теперь нужно подготовить ее к обучению (скомпилировать) и запустить само обучение.\n",
        "\n",
        "Следующей строкой кода вы скомпилируете модель:\n",
        "\n",
        "    model.compile(loss='categorical_crossentropy', optimizer='adam', metrics=['accuracy'])\n",
        "\n",
        "В методе `.compile()` вы назначаете функцию ошибки (**'categorical_crossentropy'**), оптимизатор нейронной сети (**'adam'**) и метрики, которые будут подсчитываться в процессе обучения нейросети (**['accuracy']**).\n",
        "\n"
      ]
    },
    {
      "cell_type": "markdown",
      "metadata": {
        "id": "SCDx-ZER1Nfw"
      },
      "source": [
        "Метод `.summary()` выведет на экран структуру вашей нейронной сети в виде таблицы:"
      ]
    },
    {
      "cell_type": "code",
      "metadata": {
        "id": "6EMUkxTqFkc1",
        "colab": {
          "base_uri": "https://localhost:8080/"
        },
        "outputId": "cd904c11-df9b-4d09-bdef-bd22e9658ea1"
      },
      "source": [
        "# Компиляция модели\n",
        "model.compile(loss='categorical_crossentropy', optimizer='adam', metrics=['accuracy'])\n",
        "\n",
        "# Вывод структуры модели\n",
        "print(model.summary())"
      ],
      "execution_count": null,
      "outputs": [
        {
          "output_type": "stream",
          "name": "stdout",
          "text": [
            "Model: \"sequential_2\"\n",
            "_________________________________________________________________\n",
            " Layer (type)                Output Shape              Param #   \n",
            "=================================================================\n",
            " dense_4 (Dense)             (None, 800)               628000    \n",
            "                                                                 \n",
            " dense_5 (Dense)             (None, 400)               320400    \n",
            "                                                                 \n",
            " dense_6 (Dense)             (None, 10)                4010      \n",
            "                                                                 \n",
            "=================================================================\n",
            "Total params: 952,410\n",
            "Trainable params: 952,410\n",
            "Non-trainable params: 0\n",
            "_________________________________________________________________\n",
            "None\n"
          ]
        }
      ]
    },
    {
      "cell_type": "markdown",
      "metadata": {
        "id": "OH1CnyRlMDOs"
      },
      "source": [
        "Функция `plot_model()` модуля `utils` нарисует наглядную схему (граф) нейронной сети, она удобна для понимания и более сложных моделей.\n",
        "\n",
        "Эта функция принимает следующие аргументы:\n",
        "\n",
        "* **model** - модель, схему которой вы хотите построить (обязательный параметр);\n",
        "* **to_file** - имя файла или путь к файлу, в который сохраняется схема (обязательный параметр);\n",
        "* **show_shapes** - Показывать или нет формы входных/выходных данных каждого слоя (необязательный параметр, по умолчанию **False**);\n",
        "* **show_layer_names** - показывать или нет название каждого слоя (необязательный параметр, по умолчанию **True**)."
      ]
    },
    {
      "cell_type": "code",
      "metadata": {
        "colab": {
          "base_uri": "https://localhost:8080/",
          "height": 422
        },
        "id": "37NcuApHNe0D",
        "outputId": "3ecba79d-abed-492f-fa82-0d69530db9a9"
      },
      "source": [
        "utils.plot_model(model, to_file='model_plot.png', show_shapes=True, show_layer_names=False)"
      ],
      "execution_count": null,
      "outputs": [
        {
          "output_type": "execute_result",
          "data": {
            "image/png": "[encoded data removed]",
            "text/plain": [
              "<IPython.core.display.Image object>"
            ]
          },
          "metadata": {},
          "execution_count": 22
        }
      ]
    },
    {
      "cell_type": "markdown",
      "metadata": {
        "id": "ML7Az8zNOviq"
      },
      "source": [
        "Здесь вы впервые сталкиваетесь с сохранением данных.\n",
        "\n",
        "Сейчас сохранение графа модели произойдёт в хранилище виртуальной машины ноутбука. Найти сохраненный файл можно, нажав на иконку **\"Файлы\"** в левой части рабочего пространства Google Colab.\n",
        "\n",
        "В данном случае при завершении сеанса все файлы будут удалены вместе с виртуальной машиной.\n",
        "\n",
        "Если необходимо воспользоваться файлами в дальнейшем, можно сохранить их на свой Google-диск - это постоянное хранилище. Для этого необходимо подключить его:\n",
        "\n",
        "```\n",
        "from google.colab import drive\n",
        "drive.mount('/content/drive/')\n",
        "```\n",
        "Необходимо перейти по ссылке и разрешить доступ.\n",
        "\n",
        "Теперь данные могут быть загружены на диск, но для этого необходимо указывать полный путь для сохранения.\n"
      ]
    },
    {
      "cell_type": "markdown",
      "metadata": {
        "id": "H4WWjjxnF3qn"
      },
      "source": [
        "## Обучение нейронной сети"
      ]
    },
    {
      "cell_type": "markdown",
      "metadata": {
        "id": "ZdW3f5TZN-da"
      },
      "source": [
        "Именно сейчас начнется самая настоящая магия!\n",
        "\n",
        "Одной строчкой кода вы запустите обучение нейронной сети и сможете наблюдать за процессом.\n",
        "\n",
        "Для этого вызовите метод модели `.fit()` и передайте ему данные для обучения - **x_train, y_train**:\n",
        "\n",
        "    model.fit(x_train, y_train, batch_size=128, epochs=15, verbose=1)\n",
        "\n",
        "**batch_size** – размер батча, который указывает нейросети на то, сколько картинок она будет обрабатывать за один раз.\n",
        "\n",
        "**epochs** – количество циклов обучения, то есть сколько раз нейронная сеть повторит просмотр и обучение на всех ваших данных.\n"
      ]
    },
    {
      "cell_type": "code",
      "metadata": {
        "id": "tzArU3n3F6Lo",
        "colab": {
          "base_uri": "https://localhost:8080/"
        },
        "outputId": "51c51cdb-79c3-4c45-ef5f-d67ed8f5fc3f"
      },
      "source": [
        "model.fit(x_train,        # обучающая выборка, входные данные\n",
        "          y_train,        # обучающая выборка, выходные данные\n",
        "          batch_size=128, # кол-во примеров, которое обрабатывает нейронка перед одним изменением весов\n",
        "          epochs=15,      # количество эпох, когда нейронка обучается на всех примерах выборки\n",
        "          verbose=1)      # 0 - не визуализировать ход обучения, 1 - визуализировать"
      ],
      "execution_count": null,
      "outputs": [
        {
          "output_type": "stream",
          "name": "stdout",
          "text": [
            "Epoch 1/15\n",
            "469/469 [==============================] - 7s 4ms/step - loss: 0.2073 - accuracy: 0.9383\n",
            "Epoch 2/15\n",
            "469/469 [==============================] - 2s 4ms/step - loss: 0.0755 - accuracy: 0.9762\n",
            "Epoch 3/15\n",
            "469/469 [==============================] - 2s 3ms/step - loss: 0.0477 - accuracy: 0.9853\n",
            "Epoch 4/15\n",
            "469/469 [==============================] - 2s 3ms/step - loss: 0.0336 - accuracy: 0.9893\n",
            "Epoch 5/15\n",
            "469/469 [==============================] - 2s 3ms/step - loss: 0.0270 - accuracy: 0.9912\n",
            "Epoch 6/15\n",
            "469/469 [==============================] - 2s 3ms/step - loss: 0.0206 - accuracy: 0.9931\n",
            "Epoch 7/15\n",
            "469/469 [==============================] - 2s 3ms/step - loss: 0.0185 - accuracy: 0.9936\n",
            "Epoch 8/15\n",
            "469/469 [==============================] - 2s 3ms/step - loss: 0.0158 - accuracy: 0.9948\n",
            "Epoch 9/15\n",
            "469/469 [==============================] - 2s 5ms/step - loss: 0.0125 - accuracy: 0.9959\n",
            "Epoch 10/15\n",
            "469/469 [==============================] - 2s 3ms/step - loss: 0.0157 - accuracy: 0.9947\n",
            "Epoch 11/15\n",
            "469/469 [==============================] - 2s 3ms/step - loss: 0.0095 - accuracy: 0.9969\n",
            "Epoch 12/15\n",
            "469/469 [==============================] - 2s 3ms/step - loss: 0.0122 - accuracy: 0.9958\n",
            "Epoch 13/15\n",
            "469/469 [==============================] - 2s 3ms/step - loss: 0.0094 - accuracy: 0.9973\n",
            "Epoch 14/15\n",
            "469/469 [==============================] - 2s 3ms/step - loss: 0.0080 - accuracy: 0.9973\n",
            "Epoch 15/15\n",
            "469/469 [==============================] - 2s 3ms/step - loss: 0.0127 - accuracy: 0.9958\n"
          ]
        },
        {
          "output_type": "execute_result",
          "data": {
            "text/plain": [
              "<keras.callbacks.History at 0x7f40d00bf970>"
            ]
          },
          "metadata": {},
          "execution_count": 23
        }
      ]
    },
    {
      "cell_type": "markdown",
      "metadata": {
        "id": "tEkw1UT8PMJz"
      },
      "source": [
        "Только что вы наблюдали процесс обучения нейронной сети на 15 эпохах. После каждого цикла обучения вы можете видеть среднее значение ошибки. Обратите внимание, что практически каждую эпоху значение метрики точности (**accuracy**) увеличивается. Это означает, что ваша нейронная сеть с каждым разом делает все более точное распознавание!\n",
        "\n",
        "Теперь сохраните веса вашей модели, чтобы потом можно было снова их использовать:\n"
      ]
    },
    {
      "cell_type": "code",
      "metadata": {
        "id": "nmxH0W_QSOIX"
      },
      "source": [
        "model.save_weights('model.h5')\n",
        "model.load_weights('model.h5')"
      ],
      "execution_count": null,
      "outputs": []
    },
    {
      "cell_type": "markdown",
      "metadata": {
        "id": "h0h2T-M21m0l"
      },
      "source": [
        "Метод `.save_weights()` сохранит веса вашей модели в хранилище, а метод `.load_weights()` загрузит их обратно.\n"
      ]
    },
    {
      "cell_type": "markdown",
      "metadata": {
        "id": "ExUOoWQOGvw6"
      },
      "source": [
        "## Распознавание рукописных цифр"
      ]
    },
    {
      "cell_type": "markdown",
      "metadata": {
        "id": "XRe5XORb12KC"
      },
      "source": [
        "Ура! Вы научили нейронную сеть распознавать цифры на картинках с огромной точностью – более **99**%.\n",
        "\n",
        "Теперь вы можете использовать модель по прямому назначению. Выведите на экран какой-нибудь образец из тестового набора данных:\n"
      ]
    },
    {
      "cell_type": "code",
      "metadata": {
        "id": "ydE7Bb-5G82-",
        "colab": {
          "base_uri": "https://localhost:8080/",
          "height": 430
        },
        "outputId": "d2ad876e-bc98-42dc-9b2e-d3f45747a15b"
      },
      "source": [
        "# Номер тестовой цифры, которую будем распознавать\n",
        "n_rec = np.random.randint(x_test_org.shape[0])\n",
        "\n",
        "# Отображение картинки из тестового набора под номером n_rec\n",
        "plt.imshow(x_test_org[n_rec], cmap='gray')\n",
        "plt.show()"
      ],
      "execution_count": null,
      "outputs": [
        {
          "output_type": "display_data",
          "data": {
            "text/plain": [
              "<Figure size 640x480 with 1 Axes>"
            ],
            "image/png": "[encoded data removed]"
          },
          "metadata": {}
        }
      ]
    },
    {
      "cell_type": "markdown",
      "metadata": {
        "id": "f6fqhME64Sf7"
      },
      "source": [
        "Теперь сохраните в переменную **x** эту картинку в виде набора из **784** чисел.\n",
        "\n",
        "Это нужно для того, чтобы нейросеть сделала ***предсказание***, ведь она обучалась работать именно с такими последовательностями чисел:\n"
      ]
    },
    {
      "cell_type": "code",
      "metadata": {
        "id": "_85gvY6uHABc",
        "colab": {
          "base_uri": "https://localhost:8080/"
        },
        "outputId": "c6045401-b88d-45ff-887f-05543d4004cd"
      },
      "source": [
        "# Выбор нужной картинки из тестовой выборки\n",
        "x = x_test[n_rec]\n",
        "\n",
        "# Проверка формы данных\n",
        "print(x.shape)"
      ],
      "execution_count": null,
      "outputs": [
        {
          "output_type": "stream",
          "name": "stdout",
          "text": [
            "(784,)\n"
          ]
        }
      ]
    },
    {
      "cell_type": "code",
      "metadata": {
        "id": "IljyFhj0HPPC",
        "colab": {
          "base_uri": "https://localhost:8080/"
        },
        "outputId": "d7077e0c-995b-43e5-9e23-629585fa748c"
      },
      "source": [
        "# Добавление одной оси в начале, чтобы нейронка могла распознать пример\n",
        "# Массив из одного примера, так как нейронка принимает именно массивы примеров (батчи) для распознавания\n",
        "x = np.expand_dims(x, axis=0)\n",
        "\n",
        "# Проверка формы данных\n",
        "print(x.shape)"
      ],
      "execution_count": null,
      "outputs": [
        {
          "output_type": "stream",
          "name": "stdout",
          "text": [
            "(1, 784)\n"
          ]
        }
      ]
    },
    {
      "cell_type": "markdown",
      "metadata": {
        "id": "l9nE0l5L483D"
      },
      "source": [
        "Чтобы ваша сеть сделала предсказание, нужно вызвать метод `.predict()` и передать в него данные для распознавания:\n"
      ]
    },
    {
      "cell_type": "code",
      "metadata": {
        "id": "VigT6aeAHQ91",
        "colab": {
          "base_uri": "https://localhost:8080/"
        },
        "outputId": "32b9f587-712a-47b4-f24c-596d3fec4a99"
      },
      "source": [
        "# Распознавание примера\n",
        "prediction = model.predict(x)"
      ],
      "execution_count": null,
      "outputs": [
        {
          "output_type": "stream",
          "name": "stdout",
          "text": [
            "1/1 [==============================] - 0s 77ms/step\n"
          ]
        }
      ]
    },
    {
      "cell_type": "markdown",
      "metadata": {
        "id": "GoD4R1fw6YZ8"
      },
      "source": [
        "Ответом вашей нейронной сети будет такой массив чисел:\n"
      ]
    },
    {
      "cell_type": "code",
      "metadata": {
        "id": "fGF9xUCRHSOE",
        "colab": {
          "base_uri": "https://localhost:8080/"
        },
        "outputId": "dd078996-0d10-4bfe-f866-337452a7cb08"
      },
      "source": [
        "# Вывод результата - вектор из 10 чисел\n",
        "print(prediction)"
      ],
      "execution_count": null,
      "outputs": [
        {
          "output_type": "stream",
          "name": "stdout",
          "text": [
            "[[1.0000000e+00 1.2950315e-27 5.8127598e-15 4.3103217e-25 2.2470348e-24\n",
            "  6.9105766e-28 2.4424716e-20 4.8785067e-22 2.0655704e-23 7.1440537e-18]]\n"
          ]
        }
      ]
    },
    {
      "cell_type": "markdown",
      "metadata": {
        "id": "4GTjsZ2s6x0B"
      },
      "source": [
        "Эти числа характеризуют вероятности принадлежности к конкретному классу. Самое первое число в этой последовательности отвечает на вопрос, какова вероятность, что на картинке изображена цифра **0**. Второе число говорит то же самое про цифру **1**. Сумма всех вероятностей равна единице, то есть предполагатся полный набор событий (только цифры от **0** до **9** и ничего другого):"
      ]
    },
    {
      "cell_type": "code",
      "metadata": {
        "id": "LKR0oFGAYyFi",
        "colab": {
          "base_uri": "https://localhost:8080/"
        },
        "outputId": "af51c340-4c65-488c-a5da-47186b46bccc"
      },
      "source": [
        "sum(prediction[0])"
      ],
      "execution_count": null,
      "outputs": [
        {
          "output_type": "execute_result",
          "data": {
            "text/plain": [
              "1.0000000000000058"
            ]
          },
          "metadata": {},
          "execution_count": 31
        }
      ]
    },
    {
      "cell_type": "markdown",
      "metadata": {
        "id": "Jk-eIuw0RSvN"
      },
      "source": [
        "Таким образом, индекс самой большой вероятности в этом списке чисел и будет ответом вашей нейронной сети:"
      ]
    },
    {
      "cell_type": "code",
      "metadata": {
        "id": "9pg67PW9HV4A",
        "colab": {
          "base_uri": "https://localhost:8080/"
        },
        "outputId": "c464e562-53e3-44ab-c82a-d21b1c50410a"
      },
      "source": [
        "# Получение и вывод индекса самого большого элемента (это значение цифры, которую распознала сеть)\n",
        "pred = np.argmax(prediction)\n",
        "print(f'Распознана цифра: {pred}')"
      ],
      "execution_count": null,
      "outputs": [
        {
          "output_type": "stream",
          "name": "stdout",
          "text": [
            "Распознана цифра: 0\n"
          ]
        }
      ]
    },
    {
      "cell_type": "markdown",
      "metadata": {
        "id": "v3tYZT8U7Sk7"
      },
      "source": [
        "Как видите, ваша сеть находит правильный ответ."
      ]
    },
    {
      "cell_type": "code",
      "metadata": {
        "id": "72Rbs1E9HeRZ",
        "colab": {
          "base_uri": "https://localhost:8080/"
        },
        "outputId": "cf97f722-0eb6-4f0b-fe53-dc8d78cdc51e"
      },
      "source": [
        "# Вывод правильного ответа для сравнения\n",
        "print(y_test_org[n_rec])"
      ],
      "execution_count": null,
      "outputs": [
        {
          "output_type": "stream",
          "name": "stdout",
          "text": [
            "0\n"
          ]
        }
      ]
    },
    {
      "cell_type": "markdown",
      "metadata": {
        "id": "uf_Rqrm74dmq"
      },
      "source": [
        "# Подведем итоги: вспомним изученный материал"
      ]
    },
    {
      "cell_type": "markdown",
      "metadata": {
        "id": "JIig80OvHr4Q"
      },
      "source": [
        "В первой части вы познакомились с ИИ, узнали, что он бывает сильным и слабым, и то, что к 2050 развитие технологии достигнет пика. Для ИИ практически нет неразрешимых задач, и область его использования безгранична. Еще вы узнали, что нейронная сеть неспроста так называется, и у нее есть прототип – человеческий мозг и нейроны, из которых он состоит.\n",
        "\n",
        "Далее вы перешли к рассмотрению различных моделей нейрона (биологической и математической). В НС нейроны отвечают за выделение определенного признака, при этом некоторое количество нейронов организовано в слои. Несколько слоев нейронов могут называться полноценной НС.\n",
        "\n",
        "Сама по себе сеть без обучения не может хорошо решать задачи. Для этого ей требуются две выборки – обучающая и проверочная. Используя их, НС узнает, как правильно выполнить задачу. В этом ей помогает функция ошибки, которая указывает, в правильную ли сторону НС меняет свои веса. После этого вы познакомились с полносвязным слоем, нейроны которого связаны со всеми входными нейронами.\n",
        "\n",
        "Во второй части вы попробовали создать свою первую модель нейронной сети. Подгрузили в ноутбук основу **Sequential**, которая отвечает за построение модели, и создали начальную модель: `model = Sequential()`. Но она выглядела как пустая коробка, в которую необходимо что-то положить. И первым стал слой **Dense** (полносвязный слой). Так появилась модель, но ее еще нужно было обучить, и для этого вы указали оптимизатор и функцию потерь при помощи метода `.compile()`. Завершили все это вызовом метода `.summary()`, посмотрев, как выглядит структура НС.\n",
        "\n",
        "Затем вы перешли к практике и решили первую задачу по распознаванию рукописных цифр. Для этого импортировали все необходимые инструменты и загрузили данные **MNIST**. Определили форму массива данных и представление данных в виде картинки. Преобразовали данные для модели НС, превратив картинку **28x28** пикселов в последовательность из **784** чисел. Не оставили без внимания и метки классов. Чтобы сеть лучше классифицировала, перевели метки в формат **one hot encoding**. По изученной схеме создали НС и приступили к ее обучению. В завершение проверили, как обученная НС распознает отдельные изображения рукописных цифр из набора, на котором сеть не обучалась.\n",
        "\n",
        "Итак, вы вспомнили все, что прошли в этом ноутбукe.\n",
        "\n",
        "Поздравляем с первым шагом на пути изучения и применения нейронных сетей!\n"
      ]
    },
    {
      "cell_type": "markdown",
      "metadata": {
        "id": "wclLlFiT30U7"
      },
      "source": [
        "Небольшой практический задачник для закрепления пройденного материала:\n",
        "\n",
        "\n",
        "---\n",
        "\n",
        "[УИИ **Задачник** к теме \"Введение в нейронные сети. Линейный слой (Dense)\"](https://colab.research.google.com/drive/1UFXceobaybcHUdzxHgyQHtiQaqX-5A8-?usp=sharing)\n",
        "\n",
        "---\n",
        "\n"
      ]
    },
    {
      "cell_type": "markdown",
      "metadata": {
        "id": "e5VRwRRiY09d"
      },
      "source": [
        "**Содержание**:\n",
        "\n",
        "1. [Теория](https://colab.research.google.com/drive/1WTRaTx9Rgpr5Sj6bovZWiQb72HPjXzw2?usp=sharing)\n",
        "2. Практический ноутбук"
      ]
    },
    {
      "cell_type": "code",
      "source": [],
      "metadata": {
        "id": "lNkjv1cSwwIx"
      },
      "execution_count": null,
      "outputs": []
    }
  ]
}