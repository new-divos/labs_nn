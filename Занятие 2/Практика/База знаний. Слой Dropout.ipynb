{
  "nbformat": 4,
  "nbformat_minor": 0,
  "metadata": {
    "colab": {
      "provenance": []
    },
    "kernelspec": {
      "name": "python3",
      "display_name": "Python 3"
    },
    "language_info": {
      "name": "python"
    },
    "accelerator": "GPU"
  },
  "cells": [
    {
      "cell_type": "markdown",
      "metadata": {
        "id": "sj_6r-zf_ZXJ"
      },
      "source": [
        "Класс `tf.keras.layers.Dropout`, создающий dropout-слой."
      ]
    },
    {
      "cell_type": "code",
      "source": [
        "import tensorflow as tf"
      ],
      "metadata": {
        "id": "DgMg5TF-2b6u"
      },
      "execution_count": null,
      "outputs": []
    },
    {
      "cell_type": "code",
      "metadata": {
        "id": "-hAvHJfX_SiR"
      },
      "source": [
        "tf.keras.layers.Dropout(rate,                   # Шанс отбрасывания значения\n",
        "                        noise_shape=None,       # Маска исключения\n",
        "                        seed=None,\n",
        "                        **kwargs)"
      ],
      "execution_count": null,
      "outputs": []
    },
    {
      "cell_type": "markdown",
      "metadata": {
        "id": "2gaN07k2t-DC"
      },
      "source": [
        "Слой dropout случайным образом устанавливает для входных единиц значение 0 с частотой на каждом шаге во время обучения, что помогает предотвратить переобучение. Входы, для которых не установлено значение 0, умножаются на $\\frac{1}{1 - rate}$.\n",
        "\n",
        "Обратите внимание, что слой Dropout применяется только тогда, когда для обучения установлено значение `True`, так что во время вывода значения не удаляются. При использовании `model.fit` для обучения будет автоматически установлено значение `True`, а в других контекстах вы можете явно установить значение `training = True` при вызове слоя.\n",
        "\n",
        "Это контрастирует с установкой `trainable = False` для слоя Dropout. `trainable` не влияет на поведение слоя, так как Dropout не имеет никаких переменных / весов, которые можно заморозить во время обучения"
      ]
    },
    {
      "cell_type": "markdown",
      "metadata": {
        "id": "TPHIxnfiCV2M"
      },
      "source": [
        "# Параметры"
      ]
    },
    {
      "cell_type": "markdown",
      "metadata": {
        "id": "QQMDuMnjCdK9"
      },
      "source": [
        "## `rate`"
      ]
    },
    {
      "cell_type": "markdown",
      "metadata": {
        "id": "96Pk3_U1Cibt"
      },
      "source": [
        "Тип: `float` в пределах отрезка [0, 1].\n",
        "\n",
        "Описание: шанс отбрасывания значения. Каждое из значений входной матрицы либо обнуляется, либо умножается на $\\frac{1}{1 - rate}$.\n",
        "\n",
        "Примеры:<br>\n",
        "• `Dropout(rate=0.2)` – возвращает слой dropout c параметром 0.2. 20% обнуления элемента входного тензора;<br>\n",
        "• `Dropout(1.)` – возвращает слой dropout c параметром 1. Все входные данные заменяются нулями;<br>\n",
        "• `Dropout(.0)` – возвращает слой dropout c параметром 0. Слой не влияет на входной тензор.<br>"
      ]
    },
    {
      "cell_type": "markdown",
      "metadata": {
        "id": "8T2MFtVlEim_"
      },
      "source": [
        "##  `noise_shape`"
      ]
    },
    {
      "cell_type": "markdown",
      "metadata": {
        "id": "XyvtxoNTErTU"
      },
      "source": [
        "Тип: 1D целочисленный тензор.\n",
        "\n",
        "Описание: тензор, представляющий форму двоичной маски исключения, которая будет умножена на вход. Например, если ваши входные данные имеют форму `(batch_size, timesteps, features)`, и вы хотите, чтобы маска исключения была одинаковой для всех временных шагов, можете использовать `noise_shape = (batch_size, 1, features)`."
      ]
    },
    {
      "cell_type": "markdown",
      "metadata": {
        "id": "nYQY1xuVMiVs"
      },
      "source": [
        "## `seed`"
      ]
    },
    {
      "cell_type": "markdown",
      "metadata": {
        "id": "TlwRCQpvMld5"
      },
      "source": [
        "Тип: `int`.\n",
        "\n",
        "Описание: положительное число, отвечающее за начальное состояние слоя (под сомнением).\n",
        "\n",
        "*Рекомендуем для воспроизводимости экспериментов использовать `tf.random.set_seed(1)` перед каждым вызовом, так как `seed` в `Dropout` не обеспечивает воспроизводимых состояний.*"
      ]
    },
    {
      "cell_type": "markdown",
      "metadata": {
        "id": "HsQU7_3mST7N"
      },
      "source": [
        "# Аргументы вызова слоя"
      ]
    },
    {
      "cell_type": "markdown",
      "metadata": {
        "id": "4QQPyRivSfWT"
      },
      "source": [
        "## `inputs`"
      ]
    },
    {
      "cell_type": "markdown",
      "metadata": {
        "id": "CP3ooEVvSkWf"
      },
      "source": [
        "Тип: `np.ndarray`, `tf.Tensor` и аналогичные тензоры любого размера и формы.\n",
        "\n",
        "Описание: входной тензор.\n",
        "\n",
        "Примеры:<br>\n",
        "\n",
        "• `Dropout(0.2)([1.,1.,1.])` – создаем слой dropout и сразу вызываем его с тензором `[1.,1.,1.]`;<br>\n",
        "• `Dropout(rate=0.2)(np.array([1.,1.,1.]))` – аналогично предыдущему;<br>\n",
        "• `Dropout(0.2)(np.ones((10, 2, 3))` – создаем слой dropout и вызываем его, подавая тензор формы (10, 2, 3) из единиц;\n"
      ]
    },
    {
      "cell_type": "markdown",
      "metadata": {
        "id": "wwBnUtx2cg_b"
      },
      "source": [
        "## `training`\n"
      ]
    },
    {
      "cell_type": "markdown",
      "metadata": {
        "id": "DZbaLBrXcm-d"
      },
      "source": [
        "Тип: `bool` (по умолчанию: `False`).\n",
        "\n",
        "Описание: указывает, должен ли слой вести себя в режиме обучения (слой dropout выполняет свою функцию) или в режиме вывода (слой dropout ничего не делает). Режим обучения обычно активируется для всей модели."
      ]
    },
    {
      "cell_type": "markdown",
      "metadata": {
        "id": "s0fVHpmbdo31"
      },
      "source": [
        "#### Примеры"
      ]
    },
    {
      "cell_type": "markdown",
      "metadata": {
        "id": "Ad9VWCEgBegh"
      },
      "source": [
        "Если dropout без режима обучения, то тензор проходит через слой без изменений"
      ]
    },
    {
      "cell_type": "code",
      "metadata": {
        "colab": {
          "base_uri": "https://localhost:8080/"
        },
        "id": "J09P0PnddKn-",
        "outputId": "6d9b0d87-afd4-464a-f0c3-b84da0dcd26a"
      },
      "source": [
        "import numpy as np\n",
        "from tensorflow.keras.layers import Dropout\n",
        "\n",
        "# Входной тензор\n",
        "X = np.ones((5, 2))\n",
        "\n",
        "# Создание и вызов слоя в тестовом режиме\n",
        "Dropout(0.2)(X)"
      ],
      "execution_count": null,
      "outputs": [
        {
          "output_type": "execute_result",
          "data": {
            "text/plain": [
              "<tf.Tensor: shape=(5, 2), dtype=float32, numpy=\n",
              "array([[1., 1.],\n",
              "       [1., 1.],\n",
              "       [1., 1.],\n",
              "       [1., 1.],\n",
              "       [1., 1.]], dtype=float32)>"
            ]
          },
          "metadata": {},
          "execution_count": 30
        }
      ]
    },
    {
      "cell_type": "markdown",
      "metadata": {
        "id": "_7qG4x2EBgyT"
      },
      "source": [
        "В режиме обучения dropout активируется"
      ]
    },
    {
      "cell_type": "code",
      "metadata": {
        "colab": {
          "base_uri": "https://localhost:8080/"
        },
        "id": "6sQuZnKNdQsm",
        "outputId": "2aa2a4e4-083f-4994-e813-38063625cebc"
      },
      "source": [
        "# Задание состояния\n",
        "tf.random.set_seed(3)\n",
        "\n",
        "# Создание и вызов слоя в тренировочном режиме\n",
        "Dropout(0.2)(X, training=True)"
      ],
      "execution_count": null,
      "outputs": [
        {
          "output_type": "execute_result",
          "data": {
            "text/plain": [
              "<tf.Tensor: shape=(5, 2), dtype=float32, numpy=\n",
              "array([[0.  , 1.25],\n",
              "       [1.25, 0.  ],\n",
              "       [1.25, 1.25],\n",
              "       [0.  , 1.25],\n",
              "       [1.25, 1.25]], dtype=float32)>"
            ]
          },
          "metadata": {},
          "execution_count": 32
        }
      ]
    },
    {
      "cell_type": "markdown",
      "metadata": {
        "id": "qrat3oD9Bp2j"
      },
      "source": [
        "## Пример"
      ]
    },
    {
      "cell_type": "code",
      "metadata": {
        "id": "oqH5DMeQtTkM"
      },
      "source": [
        "import numpy as np\n",
        "from keras.layers import Dropout"
      ],
      "execution_count": null,
      "outputs": []
    },
    {
      "cell_type": "code",
      "metadata": {
        "colab": {
          "base_uri": "https://localhost:8080/"
        },
        "id": "J0TkiNeDzGkC",
        "outputId": "c08bfb54-deed-4ae4-9192-ea16aa829d4a"
      },
      "source": [
        "# Инициализация входной матрицы\n",
        "X = np.ones((5, 2))\n",
        "X"
      ],
      "execution_count": null,
      "outputs": [
        {
          "output_type": "execute_result",
          "data": {
            "text/plain": [
              "array([[1., 1.],\n",
              "       [1., 1.],\n",
              "       [1., 1.],\n",
              "       [1., 1.],\n",
              "       [1., 1.]])"
            ]
          },
          "metadata": {},
          "execution_count": 34
        }
      ]
    },
    {
      "cell_type": "code",
      "metadata": {
        "id": "ow5BxoS1zOCH"
      },
      "source": [
        "# Создание слоя Dropout с параметром 0.2\n",
        "dropout_layer = Dropout(rate=0.5)"
      ],
      "execution_count": null,
      "outputs": []
    },
    {
      "cell_type": "markdown",
      "metadata": {
        "id": "cKBJ2Ve6Qdr5"
      },
      "source": [
        "Вызываем слой с аргументом созданной ранее матрицы.\n",
        "Не забываем настроить слой на обучение, иначе тензор не изменится."
      ]
    },
    {
      "cell_type": "code",
      "metadata": {
        "id": "FbA_lfY0QO26",
        "colab": {
          "base_uri": "https://localhost:8080/"
        },
        "outputId": "e8e770aa-35cf-4a61-fd9d-2a9892d33115"
      },
      "source": [
        "dropout_layer(X, training=True)"
      ],
      "execution_count": null,
      "outputs": [
        {
          "output_type": "execute_result",
          "data": {
            "text/plain": [
              "<tf.Tensor: shape=(5, 2), dtype=float32, numpy=\n",
              "array([[0., 2.],\n",
              "       [0., 0.],\n",
              "       [0., 0.],\n",
              "       [0., 2.],\n",
              "       [2., 2.]], dtype=float32)>"
            ]
          },
          "metadata": {},
          "execution_count": 38
        }
      ]
    }
  ]
}