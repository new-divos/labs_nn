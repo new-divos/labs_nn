{
  "nbformat": 4,
  "nbformat_minor": 0,
  "metadata": {
    "accelerator": "GPU",
    "colab": {
      "provenance": []
    },
    "kernelspec": {
      "display_name": "Python 3",
      "name": "python3"
    }
  },
  "cells": [
    {
      "cell_type": "markdown",
      "metadata": {
        "id": "f1heaUxHNo6-"
      },
      "source": [
        "В первую очередь загрузите библиотеки. Большая часть из них – уже знакомые инструменты.\n",
        "\n",
        "Рассмотрите подробнее **Activation** – слой, который позволяет отдельно задавать активационную функцию.\n",
        "\n",
        "Если раньше писали `model.add(Dense(46, activation='relu'))`, то теперь можно написать `model.add(Dense(46))` и затем\n",
        "`model.add(Activation('relu'))`.\n",
        "\n",
        "Эти две записи равнозначны и работать они будут\n",
        "одинаково."
      ]
    },
    {
      "cell_type": "code",
      "metadata": {
        "id": "qrfd6FzSLrE2"
      },
      "source": [
        "# Библиотека работы с массивами\n",
        "import numpy as np\n",
        "\n",
        "# Библиотека для работы с таблицами\n",
        "import pandas as pd\n",
        "\n",
        "# Последовательная модель НС\n",
        "from tensorflow.keras.models import Sequential\n",
        "\n",
        "# Основные слои\n",
        "from tensorflow.keras.layers import Dense, Dropout, BatchNormalization\n",
        "\n",
        "# Слой задания активационной функции <----- !!!\n",
        "from tensorflow.keras.layers import Activation\n",
        "\n",
        "# Утилиты предобработки данных\n",
        "from tensorflow.keras import utils\n",
        "\n",
        "# Оптимизаторы\n",
        "from tensorflow.keras.optimizers import Adam\n",
        "\n",
        "# Разделение на обучающую и проверочную/тестовую выборку\n",
        "from sklearn.model_selection import train_test_split\n",
        "\n",
        "# Рисование графиков\n",
        "import matplotlib.pyplot as plt\n",
        "\n",
        "%matplotlib inline"
      ],
      "execution_count": null,
      "outputs": []
    },
    {
      "cell_type": "markdown",
      "metadata": {
        "id": "9z_gmNzph-di"
      },
      "source": [
        "# Подготовка базы"
      ]
    },
    {
      "cell_type": "markdown",
      "metadata": {
        "id": "2xBnS-kldFyq"
      },
      "source": [
        "## Загрузка и просмотр содержимого\n"
      ]
    },
    {
      "cell_type": "markdown",
      "metadata": {
        "id": "luQUXfSnN28N"
      },
      "source": [
        "Импортируйте библиотеку `gdown`, загрузите файл **sonar.csv** из репозитория при помощи метода `.download()`:"
      ]
    },
    {
      "cell_type": "code",
      "metadata": {
        "colab": {
          "base_uri": "https://localhost:8080/",
          "height": 35
        },
        "id": "Dts2bgpZY440",
        "outputId": "da71c5d0-8e24-4a60-c5da-f97c02c64ad3"
      },
      "source": [
        "import gdown\n",
        "\n",
        "gdown.download('https://storage.yandexcloud.net/aiueducation/Content/base/l4/sonar.csv', None, quiet=True)"
      ],
      "execution_count": null,
      "outputs": [
        {
          "output_type": "execute_result",
          "data": {
            "text/plain": [
              "'sonar.csv'"
            ],
            "application/vnd.google.colaboratory.intrinsic+json": {
              "type": "string"
            }
          },
          "metadata": {},
          "execution_count": 2
        }
      ]
    },
    {
      "cell_type": "markdown",
      "metadata": {
        "id": "LuwrAodDN9XU"
      },
      "source": [
        "Прочитайте и запишите его в переменную `df`, указывая, что в таблице нет заголовка `(header=None)`, выведите размерность датафрейма при помощи метода `.shape`:"
      ]
    },
    {
      "cell_type": "code",
      "metadata": {
        "id": "_uO8Fnn3ZsfN",
        "colab": {
          "base_uri": "https://localhost:8080/"
        },
        "outputId": "30e974c5-baee-4ac2-d9e0-fe7f90a602d3"
      },
      "source": [
        "df = pd.read_csv(\"sonar.csv\", header=None)\n",
        "\n",
        "print(df.shape)"
      ],
      "execution_count": null,
      "outputs": [
        {
          "output_type": "stream",
          "name": "stdout",
          "text": [
            "(208, 61)\n"
          ]
        }
      ]
    },
    {
      "cell_type": "markdown",
      "metadata": {
        "id": "UobgZS8SRQXn"
      },
      "source": [
        "Выведите первые пять строчек таблицы, чтобы понимать, с какими данными придется работать:"
      ]
    },
    {
      "cell_type": "code",
      "metadata": {
        "colab": {
          "base_uri": "https://localhost:8080/",
          "height": 236
        },
        "id": "27dLYdZVE0XK",
        "outputId": "6e0fb0fd-7c6c-4ca1-e215-36efea850f9a"
      },
      "source": [
        "df.head()"
      ],
      "execution_count": null,
      "outputs": [
        {
          "output_type": "execute_result",
          "data": {
            "text/plain": [
              "       0       1       2       3       4       5       6       7       8   \\\n",
              "0  0.0200  0.0371  0.0428  0.0207  0.0954  0.0986  0.1539  0.1601  0.3109   \n",
              "1  0.0453  0.0523  0.0843  0.0689  0.1183  0.2583  0.2156  0.3481  0.3337   \n",
              "2  0.0262  0.0582  0.1099  0.1083  0.0974  0.2280  0.2431  0.3771  0.5598   \n",
              "3  0.0100  0.0171  0.0623  0.0205  0.0205  0.0368  0.1098  0.1276  0.0598   \n",
              "4  0.0762  0.0666  0.0481  0.0394  0.0590  0.0649  0.1209  0.2467  0.3564   \n",
              "\n",
              "       9   ...      51      52      53      54      55      56      57  \\\n",
              "0  0.2111  ...  0.0027  0.0065  0.0159  0.0072  0.0167  0.0180  0.0084   \n",
              "1  0.2872  ...  0.0084  0.0089  0.0048  0.0094  0.0191  0.0140  0.0049   \n",
              "2  0.6194  ...  0.0232  0.0166  0.0095  0.0180  0.0244  0.0316  0.0164   \n",
              "3  0.1264  ...  0.0121  0.0036  0.0150  0.0085  0.0073  0.0050  0.0044   \n",
              "4  0.4459  ...  0.0031  0.0054  0.0105  0.0110  0.0015  0.0072  0.0048   \n",
              "\n",
              "       58      59  60  \n",
              "0  0.0090  0.0032   R  \n",
              "1  0.0052  0.0044   R  \n",
              "2  0.0095  0.0078   R  \n",
              "3  0.0040  0.0117   R  \n",
              "4  0.0107  0.0094   R  \n",
              "\n",
              "[5 rows x 61 columns]"
            ],
            "text/html": [
              "\n",
              "  <div id=\"df-52cfa8df-6bfd-46ec-8e9d-4fd4a7b69d89\">\n",
              "    <div class=\"colab-df-container\">\n",
              "      <div>\n",
              "<style scoped>\n",
              "    .dataframe tbody tr th:only-of-type {\n",
              "        vertical-align: middle;\n",
              "    }\n",
              "\n",
              "    .dataframe tbody tr th {\n",
              "        vertical-align: top;\n",
              "    }\n",
              "\n",
              "    .dataframe thead th {\n",
              "        text-align: right;\n",
              "    }\n",
              "</style>\n",
              "<table border=\"1\" class=\"dataframe\">\n",
              "  <thead>\n",
              "    <tr style=\"text-align: right;\">\n",
              "      <th></th>\n",
              "      <th>0</th>\n",
              "      <th>1</th>\n",
              "      <th>2</th>\n",
              "      <th>3</th>\n",
              "      <th>4</th>\n",
              "      <th>5</th>\n",
              "      <th>6</th>\n",
              "      <th>7</th>\n",
              "      <th>8</th>\n",
              "      <th>9</th>\n",
              "      <th>...</th>\n",
              "      <th>51</th>\n",
              "      <th>52</th>\n",
              "      <th>53</th>\n",
              "      <th>54</th>\n",
              "      <th>55</th>\n",
              "      <th>56</th>\n",
              "      <th>57</th>\n",
              "      <th>58</th>\n",
              "      <th>59</th>\n",
              "      <th>60</th>\n",
              "    </tr>\n",
              "  </thead>\n",
              "  <tbody>\n",
              "    <tr>\n",
              "      <th>0</th>\n",
              "      <td>0.0200</td>\n",
              "      <td>0.0371</td>\n",
              "      <td>0.0428</td>\n",
              "      <td>0.0207</td>\n",
              "      <td>0.0954</td>\n",
              "      <td>0.0986</td>\n",
              "      <td>0.1539</td>\n",
              "      <td>0.1601</td>\n",
              "      <td>0.3109</td>\n",
              "      <td>0.2111</td>\n",
              "      <td>...</td>\n",
              "      <td>0.0027</td>\n",
              "      <td>0.0065</td>\n",
              "      <td>0.0159</td>\n",
              "      <td>0.0072</td>\n",
              "      <td>0.0167</td>\n",
              "      <td>0.0180</td>\n",
              "      <td>0.0084</td>\n",
              "      <td>0.0090</td>\n",
              "      <td>0.0032</td>\n",
              "      <td>R</td>\n",
              "    </tr>\n",
              "    <tr>\n",
              "      <th>1</th>\n",
              "      <td>0.0453</td>\n",
              "      <td>0.0523</td>\n",
              "      <td>0.0843</td>\n",
              "      <td>0.0689</td>\n",
              "      <td>0.1183</td>\n",
              "      <td>0.2583</td>\n",
              "      <td>0.2156</td>\n",
              "      <td>0.3481</td>\n",
              "      <td>0.3337</td>\n",
              "      <td>0.2872</td>\n",
              "      <td>...</td>\n",
              "      <td>0.0084</td>\n",
              "      <td>0.0089</td>\n",
              "      <td>0.0048</td>\n",
              "      <td>0.0094</td>\n",
              "      <td>0.0191</td>\n",
              "      <td>0.0140</td>\n",
              "      <td>0.0049</td>\n",
              "      <td>0.0052</td>\n",
              "      <td>0.0044</td>\n",
              "      <td>R</td>\n",
              "    </tr>\n",
              "    <tr>\n",
              "      <th>2</th>\n",
              "      <td>0.0262</td>\n",
              "      <td>0.0582</td>\n",
              "      <td>0.1099</td>\n",
              "      <td>0.1083</td>\n",
              "      <td>0.0974</td>\n",
              "      <td>0.2280</td>\n",
              "      <td>0.2431</td>\n",
              "      <td>0.3771</td>\n",
              "      <td>0.5598</td>\n",
              "      <td>0.6194</td>\n",
              "      <td>...</td>\n",
              "      <td>0.0232</td>\n",
              "      <td>0.0166</td>\n",
              "      <td>0.0095</td>\n",
              "      <td>0.0180</td>\n",
              "      <td>0.0244</td>\n",
              "      <td>0.0316</td>\n",
              "      <td>0.0164</td>\n",
              "      <td>0.0095</td>\n",
              "      <td>0.0078</td>\n",
              "      <td>R</td>\n",
              "    </tr>\n",
              "    <tr>\n",
              "      <th>3</th>\n",
              "      <td>0.0100</td>\n",
              "      <td>0.0171</td>\n",
              "      <td>0.0623</td>\n",
              "      <td>0.0205</td>\n",
              "      <td>0.0205</td>\n",
              "      <td>0.0368</td>\n",
              "      <td>0.1098</td>\n",
              "      <td>0.1276</td>\n",
              "      <td>0.0598</td>\n",
              "      <td>0.1264</td>\n",
              "      <td>...</td>\n",
              "      <td>0.0121</td>\n",
              "      <td>0.0036</td>\n",
              "      <td>0.0150</td>\n",
              "      <td>0.0085</td>\n",
              "      <td>0.0073</td>\n",
              "      <td>0.0050</td>\n",
              "      <td>0.0044</td>\n",
              "      <td>0.0040</td>\n",
              "      <td>0.0117</td>\n",
              "      <td>R</td>\n",
              "    </tr>\n",
              "    <tr>\n",
              "      <th>4</th>\n",
              "      <td>0.0762</td>\n",
              "      <td>0.0666</td>\n",
              "      <td>0.0481</td>\n",
              "      <td>0.0394</td>\n",
              "      <td>0.0590</td>\n",
              "      <td>0.0649</td>\n",
              "      <td>0.1209</td>\n",
              "      <td>0.2467</td>\n",
              "      <td>0.3564</td>\n",
              "      <td>0.4459</td>\n",
              "      <td>...</td>\n",
              "      <td>0.0031</td>\n",
              "      <td>0.0054</td>\n",
              "      <td>0.0105</td>\n",
              "      <td>0.0110</td>\n",
              "      <td>0.0015</td>\n",
              "      <td>0.0072</td>\n",
              "      <td>0.0048</td>\n",
              "      <td>0.0107</td>\n",
              "      <td>0.0094</td>\n",
              "      <td>R</td>\n",
              "    </tr>\n",
              "  </tbody>\n",
              "</table>\n",
              "<p>5 rows × 61 columns</p>\n",
              "</div>\n",
              "      <button class=\"colab-df-convert\" onclick=\"convertToInteractive('df-52cfa8df-6bfd-46ec-8e9d-4fd4a7b69d89')\"\n",
              "              title=\"Convert this dataframe to an interactive table.\"\n",
              "              style=\"display:none;\">\n",
              "        \n",
              "  <svg xmlns=\"http://www.w3.org/2000/svg\" height=\"24px\"viewBox=\"0 0 24 24\"\n",
              "       width=\"24px\">\n",
              "    <path d=\"M0 0h24v24H0V0z\" fill=\"none\"/>\n",
              "    <path d=\"M18.56 5.44l.94 2.06.94-2.06 2.06-.94-2.06-.94-.94-2.06-.94 2.06-2.06.94zm-11 1L8.5 8.5l.94-2.06 2.06-.94-2.06-.94L8.5 2.5l-.94 2.06-2.06.94zm10 10l.94 2.06.94-2.06 2.06-.94-2.06-.94-.94-2.06-.94 2.06-2.06.94z\"/><path d=\"M17.41 7.96l-1.37-1.37c-.4-.4-.92-.59-1.43-.59-.52 0-1.04.2-1.43.59L10.3 9.45l-7.72 7.72c-.78.78-.78 2.05 0 2.83L4 21.41c.39.39.9.59 1.41.59.51 0 1.02-.2 1.41-.59l7.78-7.78 2.81-2.81c.8-.78.8-2.07 0-2.86zM5.41 20L4 18.59l7.72-7.72 1.47 1.35L5.41 20z\"/>\n",
              "  </svg>\n",
              "      </button>\n",
              "      \n",
              "  <style>\n",
              "    .colab-df-container {\n",
              "      display:flex;\n",
              "      flex-wrap:wrap;\n",
              "      gap: 12px;\n",
              "    }\n",
              "\n",
              "    .colab-df-convert {\n",
              "      background-color: #E8F0FE;\n",
              "      border: none;\n",
              "      border-radius: 50%;\n",
              "      cursor: pointer;\n",
              "      display: none;\n",
              "      fill: #1967D2;\n",
              "      height: 32px;\n",
              "      padding: 0 0 0 0;\n",
              "      width: 32px;\n",
              "    }\n",
              "\n",
              "    .colab-df-convert:hover {\n",
              "      background-color: #E2EBFA;\n",
              "      box-shadow: 0px 1px 2px rgba(60, 64, 67, 0.3), 0px 1px 3px 1px rgba(60, 64, 67, 0.15);\n",
              "      fill: #174EA6;\n",
              "    }\n",
              "\n",
              "    [theme=dark] .colab-df-convert {\n",
              "      background-color: #3B4455;\n",
              "      fill: #D2E3FC;\n",
              "    }\n",
              "\n",
              "    [theme=dark] .colab-df-convert:hover {\n",
              "      background-color: #434B5C;\n",
              "      box-shadow: 0px 1px 3px 1px rgba(0, 0, 0, 0.15);\n",
              "      filter: drop-shadow(0px 1px 2px rgba(0, 0, 0, 0.3));\n",
              "      fill: #FFFFFF;\n",
              "    }\n",
              "  </style>\n",
              "\n",
              "      <script>\n",
              "        const buttonEl =\n",
              "          document.querySelector('#df-52cfa8df-6bfd-46ec-8e9d-4fd4a7b69d89 button.colab-df-convert');\n",
              "        buttonEl.style.display =\n",
              "          google.colab.kernel.accessAllowed ? 'block' : 'none';\n",
              "\n",
              "        async function convertToInteractive(key) {\n",
              "          const element = document.querySelector('#df-52cfa8df-6bfd-46ec-8e9d-4fd4a7b69d89');\n",
              "          const dataTable =\n",
              "            await google.colab.kernel.invokeFunction('convertToInteractive',\n",
              "                                                     [key], {});\n",
              "          if (!dataTable) return;\n",
              "\n",
              "          const docLinkHtml = 'Like what you see? Visit the ' +\n",
              "            '<a target=\"_blank\" href=https://colab.research.google.com/notebooks/data_table.ipynb>data table notebook</a>'\n",
              "            + ' to learn more about interactive tables.';\n",
              "          element.innerHTML = '';\n",
              "          dataTable['output_type'] = 'display_data';\n",
              "          await google.colab.output.renderOutput(dataTable, element);\n",
              "          const docLink = document.createElement('div');\n",
              "          docLink.innerHTML = docLinkHtml;\n",
              "          element.appendChild(docLink);\n",
              "        }\n",
              "      </script>\n",
              "    </div>\n",
              "  </div>\n",
              "  "
            ]
          },
          "metadata": {},
          "execution_count": 4
        }
      ]
    },
    {
      "cell_type": "markdown",
      "metadata": {
        "id": "AcAjT0wJSLO2"
      },
      "source": [
        "В таблице вы увидите 61 столбец:\n",
        "- первые 60 описывают параметры объекта\n",
        "- последний 61-й содержит класс объекта (R – скала, M – мина).\n",
        "\n",
        "Задача в том, чтобы научить нейросеть определять по параметрам, скала это или мина. Подобные задачи относятся к типу бинарной классификации."
      ]
    },
    {
      "cell_type": "markdown",
      "metadata": {
        "id": "JS293Wo3lGMd"
      },
      "source": [
        "## Парсинг\n",
        "\n",
        "\n",
        "\n"
      ]
    },
    {
      "cell_type": "markdown",
      "metadata": {
        "id": "E2E-w0-UOcw4"
      },
      "source": [
        "Перед тем как приступить к выполнению задания, давайте немного подготовим базу. Так как НС не работает с буквами, переведите все значения `R` и `M` в числа с плавающей точкой `1.` и `0.` соответственно:"
      ]
    },
    {
      "cell_type": "code",
      "metadata": {
        "id": "WFFnasY1WJo1"
      },
      "source": [
        "dataset = df.replace('R', 1.).replace('M', 0.).astype(float).to_numpy()"
      ],
      "execution_count": null,
      "outputs": []
    },
    {
      "cell_type": "markdown",
      "metadata": {
        "id": "0SPj1vcDWUI8"
      },
      "source": [
        "Почему именно 1 и 0?\n",
        "\n",
        "Вспомните, когда мы учили нейросеть определять цифры от 0 до 9 (на основе базы MNIST), последний выходной слой содержал 10 нейронов. Первый нейрон выдавал вероятность, что изображение относится к классу 0, второй что к классу 1 и пр. Это мультиклассовая классификация.\n",
        "\n",
        "Бинарная классификация строится подобным же образом, но чуть проще. На первый взгляд, в текущей задаче  нужен выходной слой с двумя нейронами, первый выдает вероятность, что это мина, второй что это скала. Но можно обойтись и одним, т.к. если это не скала, то точно мина, других вариантов нет.\n",
        "\n",
        "Если сеть выдает предсказание, что полученный объект на 40% процентов мина, само собой разумеется, что это на 60% скала, так как суммарная вероятность равна 1."
      ]
    },
    {
      "cell_type": "markdown",
      "metadata": {
        "id": "Luuca18TOvxv"
      },
      "source": [
        "В `x_data` добавьте параметры объекта, в `y_data` – класс объекта (правильные ответы).\n",
        "\n",
        "Способ разделения - срез (вариант 1 из ноутбука по теории):\n"
      ]
    },
    {
      "cell_type": "code",
      "metadata": {
        "id": "ZoIGB-NYYFk6"
      },
      "source": [
        "x_data = dataset[:, :60]\n",
        "y_data = dataset[:, 60]"
      ],
      "execution_count": null,
      "outputs": []
    },
    {
      "cell_type": "markdown",
      "metadata": {
        "id": "te30DP9TYH6j"
      },
      "source": [
        "Проверьте форму данных и содержимое `y_data`. В выборке всего `208` примеров."
      ]
    },
    {
      "cell_type": "code",
      "metadata": {
        "colab": {
          "base_uri": "https://localhost:8080/"
        },
        "id": "1xmOlog1GMC2",
        "outputId": "b37287de-2cbf-45eb-e5e3-82da41250c6e"
      },
      "source": [
        "print('Размерность набора параметров объектов', x_data.shape)\n",
        "print('Размерность набора меток класса', y_data.shape)\n",
        "print()\n",
        "print('Содержание y_data:', y_data)"
      ],
      "execution_count": null,
      "outputs": [
        {
          "output_type": "stream",
          "name": "stdout",
          "text": [
            "Размерность набора параметров объектов (208, 60)\n",
            "Размерность набора меток класса (208,)\n",
            "\n",
            "Содержание y_data: [1. 1. 1. 1. 1. 1. 1. 1. 1. 1. 1. 1. 1. 1. 1. 1. 1. 1. 1. 1. 1. 1. 1. 1.\n",
            " 1. 1. 1. 1. 1. 1. 1. 1. 1. 1. 1. 1. 1. 1. 1. 1. 1. 1. 1. 1. 1. 1. 1. 1.\n",
            " 1. 1. 1. 1. 1. 1. 1. 1. 1. 1. 1. 1. 1. 1. 1. 1. 1. 1. 1. 1. 1. 1. 1. 1.\n",
            " 1. 1. 1. 1. 1. 1. 1. 1. 1. 1. 1. 1. 1. 1. 1. 1. 1. 1. 1. 1. 1. 1. 1. 1.\n",
            " 1. 0. 0. 0. 0. 0. 0. 0. 0. 0. 0. 0. 0. 0. 0. 0. 0. 0. 0. 0. 0. 0. 0. 0.\n",
            " 0. 0. 0. 0. 0. 0. 0. 0. 0. 0. 0. 0. 0. 0. 0. 0. 0. 0. 0. 0. 0. 0. 0. 0.\n",
            " 0. 0. 0. 0. 0. 0. 0. 0. 0. 0. 0. 0. 0. 0. 0. 0. 0. 0. 0. 0. 0. 0. 0. 0.\n",
            " 0. 0. 0. 0. 0. 0. 0. 0. 0. 0. 0. 0. 0. 0. 0. 0. 0. 0. 0. 0. 0. 0. 0. 0.\n",
            " 0. 0. 0. 0. 0. 0. 0. 0. 0. 0. 0. 0. 0. 0. 0. 0.]\n"
          ]
        }
      ]
    },
    {
      "cell_type": "markdown",
      "metadata": {
        "id": "wX02lsWcfeza"
      },
      "source": [
        "## Создание обучающей и тестовой выборки\n"
      ]
    },
    {
      "cell_type": "markdown",
      "metadata": {
        "id": "soa7lkRcbUvE"
      },
      "source": [
        "Чуть выше мы разделили весь массив данных на два набора: параметров объекта и соответствующих им меток классов. Пришло время разделить наборы на обучающую и тестовую выборки. Воспользуемся функцией `train_test_split` (см. теоретическую часть):"
      ]
    },
    {
      "cell_type": "code",
      "metadata": {
        "colab": {
          "base_uri": "https://localhost:8080/"
        },
        "id": "BMenuxjkazgh",
        "outputId": "e2fe6775-43fd-45d3-9798-066093c7d78b"
      },
      "source": [
        "x_train, x_test, y_train, y_test = train_test_split(x_data, # набор параметров\n",
        "                                                    y_data, # набор меток классов\n",
        "                                                    test_size=0.2, # процент в тестовую\n",
        "                                                    shuffle=True, #  перемешивание\n",
        "                                                    random_state=3) # воспроизводимость\n",
        "\n",
        "# Выведем размерность полученных выборок\n",
        "\n",
        "print('Обучающая выборка параметров', x_train.shape)\n",
        "print('Обучающая выборка меток классов', y_train.shape)\n",
        "print()\n",
        "print('Тестовая выборка параметров', x_test.shape)\n",
        "print('Тестовая выборка меток классов', y_test.shape)"
      ],
      "execution_count": null,
      "outputs": [
        {
          "output_type": "stream",
          "name": "stdout",
          "text": [
            "Обучающая выборка параметров (166, 60)\n",
            "Обучающая выборка меток классов (166,)\n",
            "\n",
            "Тестовая выборка параметров (42, 60)\n",
            "Тестовая выборка меток классов (42,)\n"
          ]
        }
      ]
    },
    {
      "cell_type": "markdown",
      "metadata": {
        "id": "KyM90_UgiG-v"
      },
      "source": [
        "# Обучение нейросети"
      ]
    },
    {
      "cell_type": "markdown",
      "metadata": {
        "id": "sIMMZQGePZ84"
      },
      "source": [
        "Напишем функцию сборки необученной модели нейронной сети. Это значит, что теперь нам не придется для создания еще одной модели заново прописывать все слои, достаточно будет вызвать функцию.\n",
        "\n",
        "Первый слой НС – полносвязный на `60` нейронов, еще один слой на `30` нейронов, и последний слой на `1` нейрон.\n",
        "\n",
        "В выходном слое используем функцию активации `sigmoid`, т.к. она преобразует вход в число от `0` до `1`.\n",
        "\n",
        "Скомпилируйте НС и укажите `binary_crossentropy` в качестве функции ошибки, т.к. решается задача бинарной классификации:"
      ]
    },
    {
      "cell_type": "code",
      "metadata": {
        "id": "Yi-wF-oyQd41"
      },
      "source": [
        "def create_model():\n",
        "\n",
        "    # Создание модели\n",
        "    model = Sequential()\n",
        "\n",
        "    # Добавление слоев\n",
        "    model.add(Dense(60, input_dim=x_train.shape[1], activation='relu'))\n",
        "    model.add(Dense(30))\n",
        "    model.add(Activation('relu'))\n",
        "    model.add(Dense(1, activation='sigmoid'))\n",
        "\n",
        "    # Компиляция и возврат модели\n",
        "    model.compile(loss='binary_crossentropy',\n",
        "                  optimizer=Adam(learning_rate=0.001),\n",
        "                  metrics=['accuracy'])\n",
        "\n",
        "    return model"
      ],
      "execution_count": null,
      "outputs": []
    },
    {
      "cell_type": "code",
      "metadata": {
        "colab": {
          "base_uri": "https://localhost:8080/"
        },
        "id": "jxBv2gXWa8fZ",
        "outputId": "0c72e676-43f0-4831-9484-8ee3516b8c44"
      },
      "source": [
        "# Создание необученной модели при помощи функции create_model()\n",
        "model = create_model()\n",
        "\n",
        "# Обучение модели\n",
        "history = model.fit(x_train,       # Обучающая выборка параметров\n",
        "          y_train,       # Обучающая выборка меток класса\n",
        "          batch_size=8,  # Размер батча (пакета)\n",
        "          epochs=100,    # Количество эпох обучения\n",
        "          verbose=1)     # Отображение хода обучения"
      ],
      "execution_count": null,
      "outputs": [
        {
          "output_type": "stream",
          "name": "stdout",
          "text": [
            "Epoch 1/100\n",
            "21/21 [==============================] - 3s 4ms/step - loss: 0.6804 - accuracy: 0.6145\n",
            "Epoch 2/100\n",
            "21/21 [==============================] - 0s 3ms/step - loss: 0.6571 - accuracy: 0.6265\n",
            "Epoch 3/100\n",
            "21/21 [==============================] - 0s 4ms/step - loss: 0.6239 - accuracy: 0.6988\n",
            "Epoch 4/100\n",
            "21/21 [==============================] - 0s 4ms/step - loss: 0.5867 - accuracy: 0.7530\n",
            "Epoch 5/100\n",
            "21/21 [==============================] - 0s 4ms/step - loss: 0.5585 - accuracy: 0.7530\n",
            "Epoch 6/100\n",
            "21/21 [==============================] - 0s 4ms/step - loss: 0.5160 - accuracy: 0.7892\n",
            "Epoch 7/100\n",
            "21/21 [==============================] - 0s 4ms/step - loss: 0.4962 - accuracy: 0.7590\n",
            "Epoch 8/100\n",
            "21/21 [==============================] - 0s 4ms/step - loss: 0.4816 - accuracy: 0.7771\n",
            "Epoch 9/100\n",
            "21/21 [==============================] - 0s 4ms/step - loss: 0.4407 - accuracy: 0.8072\n",
            "Epoch 10/100\n",
            "21/21 [==============================] - 0s 4ms/step - loss: 0.4267 - accuracy: 0.8313\n",
            "Epoch 11/100\n",
            "21/21 [==============================] - 0s 4ms/step - loss: 0.4028 - accuracy: 0.8313\n",
            "Epoch 12/100\n",
            "21/21 [==============================] - 0s 4ms/step - loss: 0.3916 - accuracy: 0.8434\n",
            "Epoch 13/100\n",
            "21/21 [==============================] - 0s 4ms/step - loss: 0.3762 - accuracy: 0.8735\n",
            "Epoch 14/100\n",
            "21/21 [==============================] - 0s 4ms/step - loss: 0.3713 - accuracy: 0.8434\n",
            "Epoch 15/100\n",
            "21/21 [==============================] - 0s 4ms/step - loss: 0.3538 - accuracy: 0.8614\n",
            "Epoch 16/100\n",
            "21/21 [==============================] - 0s 4ms/step - loss: 0.3436 - accuracy: 0.8795\n",
            "Epoch 17/100\n",
            "21/21 [==============================] - 0s 4ms/step - loss: 0.3367 - accuracy: 0.8855\n",
            "Epoch 18/100\n",
            "21/21 [==============================] - 0s 4ms/step - loss: 0.3312 - accuracy: 0.8916\n",
            "Epoch 19/100\n",
            "21/21 [==============================] - 0s 4ms/step - loss: 0.3176 - accuracy: 0.8675\n",
            "Epoch 20/100\n",
            "21/21 [==============================] - 0s 4ms/step - loss: 0.3328 - accuracy: 0.8614\n",
            "Epoch 21/100\n",
            "21/21 [==============================] - 0s 4ms/step - loss: 0.3309 - accuracy: 0.8614\n",
            "Epoch 22/100\n",
            "21/21 [==============================] - 0s 4ms/step - loss: 0.3026 - accuracy: 0.8795\n",
            "Epoch 23/100\n",
            "21/21 [==============================] - 0s 4ms/step - loss: 0.3147 - accuracy: 0.8614\n",
            "Epoch 24/100\n",
            "21/21 [==============================] - 0s 4ms/step - loss: 0.3189 - accuracy: 0.8434\n",
            "Epoch 25/100\n",
            "21/21 [==============================] - 0s 4ms/step - loss: 0.2764 - accuracy: 0.8916\n",
            "Epoch 26/100\n",
            "21/21 [==============================] - 0s 4ms/step - loss: 0.2702 - accuracy: 0.8976\n",
            "Epoch 27/100\n",
            "21/21 [==============================] - 0s 4ms/step - loss: 0.2600 - accuracy: 0.9096\n",
            "Epoch 28/100\n",
            "21/21 [==============================] - 0s 4ms/step - loss: 0.2654 - accuracy: 0.8795\n",
            "Epoch 29/100\n",
            "21/21 [==============================] - 0s 4ms/step - loss: 0.2476 - accuracy: 0.9277\n",
            "Epoch 30/100\n",
            "21/21 [==============================] - 0s 3ms/step - loss: 0.2432 - accuracy: 0.9036\n",
            "Epoch 31/100\n",
            "21/21 [==============================] - 0s 4ms/step - loss: 0.2635 - accuracy: 0.9036\n",
            "Epoch 32/100\n",
            "21/21 [==============================] - 0s 4ms/step - loss: 0.2330 - accuracy: 0.9157\n",
            "Epoch 33/100\n",
            "21/21 [==============================] - 0s 4ms/step - loss: 0.2272 - accuracy: 0.9277\n",
            "Epoch 34/100\n",
            "21/21 [==============================] - 0s 4ms/step - loss: 0.2166 - accuracy: 0.9398\n",
            "Epoch 35/100\n",
            "21/21 [==============================] - 0s 4ms/step - loss: 0.1984 - accuracy: 0.9518\n",
            "Epoch 36/100\n",
            "21/21 [==============================] - 0s 4ms/step - loss: 0.2134 - accuracy: 0.9277\n",
            "Epoch 37/100\n",
            "21/21 [==============================] - 0s 4ms/step - loss: 0.2002 - accuracy: 0.9337\n",
            "Epoch 38/100\n",
            "21/21 [==============================] - 0s 4ms/step - loss: 0.1794 - accuracy: 0.9518\n",
            "Epoch 39/100\n",
            "21/21 [==============================] - 0s 3ms/step - loss: 0.1759 - accuracy: 0.9337\n",
            "Epoch 40/100\n",
            "21/21 [==============================] - 0s 4ms/step - loss: 0.1839 - accuracy: 0.9639\n",
            "Epoch 41/100\n",
            "21/21 [==============================] - 0s 4ms/step - loss: 0.1842 - accuracy: 0.9337\n",
            "Epoch 42/100\n",
            "21/21 [==============================] - 0s 4ms/step - loss: 0.1640 - accuracy: 0.9458\n",
            "Epoch 43/100\n",
            "21/21 [==============================] - 0s 4ms/step - loss: 0.1469 - accuracy: 0.9639\n",
            "Epoch 44/100\n",
            "21/21 [==============================] - 0s 4ms/step - loss: 0.1541 - accuracy: 0.9458\n",
            "Epoch 45/100\n",
            "21/21 [==============================] - 0s 4ms/step - loss: 0.1502 - accuracy: 0.9518\n",
            "Epoch 46/100\n",
            "21/21 [==============================] - 0s 4ms/step - loss: 0.1411 - accuracy: 0.9639\n",
            "Epoch 47/100\n",
            "21/21 [==============================] - 0s 4ms/step - loss: 0.1297 - accuracy: 0.9639\n",
            "Epoch 48/100\n",
            "21/21 [==============================] - 0s 4ms/step - loss: 0.1252 - accuracy: 0.9759\n",
            "Epoch 49/100\n",
            "21/21 [==============================] - 0s 4ms/step - loss: 0.1161 - accuracy: 0.9699\n",
            "Epoch 50/100\n",
            "21/21 [==============================] - 0s 4ms/step - loss: 0.1150 - accuracy: 0.9699\n",
            "Epoch 51/100\n",
            "21/21 [==============================] - 0s 4ms/step - loss: 0.1238 - accuracy: 0.9759\n",
            "Epoch 52/100\n",
            "21/21 [==============================] - 0s 4ms/step - loss: 0.1201 - accuracy: 0.9699\n",
            "Epoch 53/100\n",
            "21/21 [==============================] - 0s 4ms/step - loss: 0.1062 - accuracy: 0.9759\n",
            "Epoch 54/100\n",
            "21/21 [==============================] - 0s 4ms/step - loss: 0.1071 - accuracy: 0.9819\n",
            "Epoch 55/100\n",
            "21/21 [==============================] - 0s 4ms/step - loss: 0.0892 - accuracy: 0.9759\n",
            "Epoch 56/100\n",
            "21/21 [==============================] - 0s 4ms/step - loss: 0.0859 - accuracy: 0.9880\n",
            "Epoch 57/100\n",
            "21/21 [==============================] - 0s 4ms/step - loss: 0.0855 - accuracy: 0.9819\n",
            "Epoch 58/100\n",
            "21/21 [==============================] - 0s 4ms/step - loss: 0.0829 - accuracy: 0.9880\n",
            "Epoch 59/100\n",
            "21/21 [==============================] - 0s 4ms/step - loss: 0.0770 - accuracy: 0.9880\n",
            "Epoch 60/100\n",
            "21/21 [==============================] - 0s 4ms/step - loss: 0.0731 - accuracy: 0.9880\n",
            "Epoch 61/100\n",
            "21/21 [==============================] - 0s 4ms/step - loss: 0.0663 - accuracy: 0.9940\n",
            "Epoch 62/100\n",
            "21/21 [==============================] - 0s 3ms/step - loss: 0.0690 - accuracy: 0.9940\n",
            "Epoch 63/100\n",
            "21/21 [==============================] - 0s 4ms/step - loss: 0.0649 - accuracy: 0.9880\n",
            "Epoch 64/100\n",
            "21/21 [==============================] - 0s 4ms/step - loss: 0.0561 - accuracy: 0.9940\n",
            "Epoch 65/100\n",
            "21/21 [==============================] - 0s 4ms/step - loss: 0.0543 - accuracy: 0.9940\n",
            "Epoch 66/100\n",
            "21/21 [==============================] - 0s 4ms/step - loss: 0.0491 - accuracy: 1.0000\n",
            "Epoch 67/100\n",
            "21/21 [==============================] - 0s 4ms/step - loss: 0.0471 - accuracy: 1.0000\n",
            "Epoch 68/100\n",
            "21/21 [==============================] - 0s 4ms/step - loss: 0.0469 - accuracy: 0.9940\n",
            "Epoch 69/100\n",
            "21/21 [==============================] - 0s 4ms/step - loss: 0.0467 - accuracy: 1.0000\n",
            "Epoch 70/100\n",
            "21/21 [==============================] - 0s 3ms/step - loss: 0.0463 - accuracy: 0.9940\n",
            "Epoch 71/100\n",
            "21/21 [==============================] - 0s 4ms/step - loss: 0.0384 - accuracy: 1.0000\n",
            "Epoch 72/100\n",
            "21/21 [==============================] - 0s 4ms/step - loss: 0.0368 - accuracy: 1.0000\n",
            "Epoch 73/100\n",
            "21/21 [==============================] - 0s 4ms/step - loss: 0.0360 - accuracy: 1.0000\n",
            "Epoch 74/100\n",
            "21/21 [==============================] - 0s 4ms/step - loss: 0.0381 - accuracy: 1.0000\n",
            "Epoch 75/100\n",
            "21/21 [==============================] - 0s 4ms/step - loss: 0.0329 - accuracy: 1.0000\n",
            "Epoch 76/100\n",
            "21/21 [==============================] - 0s 4ms/step - loss: 0.0332 - accuracy: 1.0000\n",
            "Epoch 77/100\n",
            "21/21 [==============================] - 0s 4ms/step - loss: 0.0303 - accuracy: 1.0000\n",
            "Epoch 78/100\n",
            "21/21 [==============================] - 0s 4ms/step - loss: 0.0311 - accuracy: 1.0000\n",
            "Epoch 79/100\n",
            "21/21 [==============================] - 0s 4ms/step - loss: 0.0274 - accuracy: 1.0000\n",
            "Epoch 80/100\n",
            "21/21 [==============================] - 0s 4ms/step - loss: 0.0258 - accuracy: 1.0000\n",
            "Epoch 81/100\n",
            "21/21 [==============================] - 0s 4ms/step - loss: 0.0255 - accuracy: 1.0000\n",
            "Epoch 82/100\n",
            "21/21 [==============================] - 0s 4ms/step - loss: 0.0240 - accuracy: 1.0000\n",
            "Epoch 83/100\n",
            "21/21 [==============================] - 0s 4ms/step - loss: 0.0247 - accuracy: 1.0000\n",
            "Epoch 84/100\n",
            "21/21 [==============================] - 0s 4ms/step - loss: 0.0211 - accuracy: 1.0000\n",
            "Epoch 85/100\n",
            "21/21 [==============================] - 0s 4ms/step - loss: 0.0209 - accuracy: 1.0000\n",
            "Epoch 86/100\n",
            "21/21 [==============================] - 0s 4ms/step - loss: 0.0189 - accuracy: 1.0000\n",
            "Epoch 87/100\n",
            "21/21 [==============================] - 0s 4ms/step - loss: 0.0202 - accuracy: 1.0000\n",
            "Epoch 88/100\n",
            "21/21 [==============================] - 0s 4ms/step - loss: 0.0186 - accuracy: 1.0000\n",
            "Epoch 89/100\n",
            "21/21 [==============================] - 0s 4ms/step - loss: 0.0190 - accuracy: 1.0000\n",
            "Epoch 90/100\n",
            "21/21 [==============================] - 0s 4ms/step - loss: 0.0192 - accuracy: 1.0000\n",
            "Epoch 91/100\n",
            "21/21 [==============================] - 0s 4ms/step - loss: 0.0176 - accuracy: 1.0000\n",
            "Epoch 92/100\n",
            "21/21 [==============================] - 0s 4ms/step - loss: 0.0169 - accuracy: 1.0000\n",
            "Epoch 93/100\n",
            "21/21 [==============================] - 0s 4ms/step - loss: 0.0151 - accuracy: 1.0000\n",
            "Epoch 94/100\n",
            "21/21 [==============================] - 0s 4ms/step - loss: 0.0148 - accuracy: 1.0000\n",
            "Epoch 95/100\n",
            "21/21 [==============================] - 0s 4ms/step - loss: 0.0142 - accuracy: 1.0000\n",
            "Epoch 96/100\n",
            "21/21 [==============================] - 0s 4ms/step - loss: 0.0154 - accuracy: 1.0000\n",
            "Epoch 97/100\n",
            "21/21 [==============================] - 0s 4ms/step - loss: 0.0128 - accuracy: 1.0000\n",
            "Epoch 98/100\n",
            "21/21 [==============================] - 0s 4ms/step - loss: 0.0118 - accuracy: 1.0000\n",
            "Epoch 99/100\n",
            "21/21 [==============================] - 0s 4ms/step - loss: 0.0115 - accuracy: 1.0000\n",
            "Epoch 100/100\n",
            "21/21 [==============================] - 0s 4ms/step - loss: 0.0123 - accuracy: 1.0000\n"
          ]
        }
      ]
    },
    {
      "cell_type": "markdown",
      "metadata": {
        "id": "27YXmZi0h4nI"
      },
      "source": [
        "## Оценка качества обучения"
      ]
    },
    {
      "cell_type": "markdown",
      "metadata": {
        "id": "HWa7u8tbbGmJ"
      },
      "source": [
        "На тренировочной выборке НС достигает точности в **100%**. Приятная глазу цифра, но, к сожалению, не отражающая истинное положение дел.\n",
        "\n",
        "Чтобы перепроверить нейросеть, а так же выяснить научилась она выявлять закономерности, или же просто заучила данные - создадим проверочную (валидационную) выборку."
      ]
    },
    {
      "cell_type": "code",
      "metadata": {
        "colab": {
          "base_uri": "https://localhost:8080/"
        },
        "id": "H6EIXu1dKoju",
        "outputId": "20708bdc-e9d2-4e86-9c5a-2ac656ce05a3"
      },
      "source": [
        "# Создание необученной модели при помощи функции create_model()\n",
        "model = create_model()\n",
        "\n",
        "# Обучение нейронной сети\n",
        "history = model.fit(x_train,               # Обучающая выборка параметров\n",
        "          y_train,               # Обучающая выборка меток класса\n",
        "          batch_size=8,          # Размер батча (пакета)\n",
        "          epochs=100,            # Количество эпох обучения\n",
        "          validation_split=0.2,  # Доля проверочной выборки\n",
        "          verbose=1)             # Отображение хода обучения"
      ],
      "execution_count": null,
      "outputs": [
        {
          "output_type": "stream",
          "name": "stdout",
          "text": [
            "Epoch 1/100\n",
            "17/17 [==============================] - 1s 17ms/step - loss: 0.7066 - accuracy: 0.4697 - val_loss: 0.6811 - val_accuracy: 0.6176\n",
            "Epoch 2/100\n",
            "17/17 [==============================] - 0s 6ms/step - loss: 0.6754 - accuracy: 0.6136 - val_loss: 0.6640 - val_accuracy: 0.6471\n",
            "Epoch 3/100\n",
            "17/17 [==============================] - 0s 6ms/step - loss: 0.6521 - accuracy: 0.6667 - val_loss: 0.6821 - val_accuracy: 0.5588\n",
            "Epoch 4/100\n",
            "17/17 [==============================] - 0s 6ms/step - loss: 0.6326 - accuracy: 0.7045 - val_loss: 0.6212 - val_accuracy: 0.7353\n",
            "Epoch 5/100\n",
            "17/17 [==============================] - 0s 6ms/step - loss: 0.6103 - accuracy: 0.7879 - val_loss: 0.6293 - val_accuracy: 0.6765\n",
            "Epoch 6/100\n",
            "17/17 [==============================] - 0s 7ms/step - loss: 0.5857 - accuracy: 0.7652 - val_loss: 0.6066 - val_accuracy: 0.7647\n",
            "Epoch 7/100\n",
            "17/17 [==============================] - 0s 6ms/step - loss: 0.5591 - accuracy: 0.7803 - val_loss: 0.5941 - val_accuracy: 0.7353\n",
            "Epoch 8/100\n",
            "17/17 [==============================] - 0s 6ms/step - loss: 0.5349 - accuracy: 0.8106 - val_loss: 0.5874 - val_accuracy: 0.7059\n",
            "Epoch 9/100\n",
            "17/17 [==============================] - 0s 6ms/step - loss: 0.5070 - accuracy: 0.8333 - val_loss: 0.5532 - val_accuracy: 0.6765\n",
            "Epoch 10/100\n",
            "17/17 [==============================] - 0s 6ms/step - loss: 0.4855 - accuracy: 0.8182 - val_loss: 0.5572 - val_accuracy: 0.7059\n",
            "Epoch 11/100\n",
            "17/17 [==============================] - 0s 7ms/step - loss: 0.4579 - accuracy: 0.8561 - val_loss: 0.5041 - val_accuracy: 0.7647\n",
            "Epoch 12/100\n",
            "17/17 [==============================] - 0s 6ms/step - loss: 0.4487 - accuracy: 0.8106 - val_loss: 0.5100 - val_accuracy: 0.7353\n",
            "Epoch 13/100\n",
            "17/17 [==============================] - 0s 6ms/step - loss: 0.4195 - accuracy: 0.8333 - val_loss: 0.5632 - val_accuracy: 0.6765\n",
            "Epoch 14/100\n",
            "17/17 [==============================] - 0s 6ms/step - loss: 0.3982 - accuracy: 0.8636 - val_loss: 0.4690 - val_accuracy: 0.7353\n",
            "Epoch 15/100\n",
            "17/17 [==============================] - 0s 6ms/step - loss: 0.4033 - accuracy: 0.8106 - val_loss: 0.5889 - val_accuracy: 0.6765\n",
            "Epoch 16/100\n",
            "17/17 [==============================] - 0s 6ms/step - loss: 0.3785 - accuracy: 0.8788 - val_loss: 0.4640 - val_accuracy: 0.7647\n",
            "Epoch 17/100\n",
            "17/17 [==============================] - 0s 7ms/step - loss: 0.3705 - accuracy: 0.8485 - val_loss: 0.4735 - val_accuracy: 0.7353\n",
            "Epoch 18/100\n",
            "17/17 [==============================] - 0s 6ms/step - loss: 0.3518 - accuracy: 0.8636 - val_loss: 0.5071 - val_accuracy: 0.6765\n",
            "Epoch 19/100\n",
            "17/17 [==============================] - 0s 6ms/step - loss: 0.3582 - accuracy: 0.8409 - val_loss: 0.4291 - val_accuracy: 0.8235\n",
            "Epoch 20/100\n",
            "17/17 [==============================] - 0s 6ms/step - loss: 0.3373 - accuracy: 0.8561 - val_loss: 0.4476 - val_accuracy: 0.7647\n",
            "Epoch 21/100\n",
            "17/17 [==============================] - 0s 6ms/step - loss: 0.3206 - accuracy: 0.8939 - val_loss: 0.4679 - val_accuracy: 0.7353\n",
            "Epoch 22/100\n",
            "17/17 [==============================] - 0s 6ms/step - loss: 0.3129 - accuracy: 0.8864 - val_loss: 0.4912 - val_accuracy: 0.7059\n",
            "Epoch 23/100\n",
            "17/17 [==============================] - 0s 7ms/step - loss: 0.3155 - accuracy: 0.8788 - val_loss: 0.5020 - val_accuracy: 0.7059\n",
            "Epoch 24/100\n",
            "17/17 [==============================] - 0s 7ms/step - loss: 0.3129 - accuracy: 0.8636 - val_loss: 0.4403 - val_accuracy: 0.7353\n",
            "Epoch 25/100\n",
            "17/17 [==============================] - 0s 6ms/step - loss: 0.3154 - accuracy: 0.8561 - val_loss: 0.4067 - val_accuracy: 0.8235\n",
            "Epoch 26/100\n",
            "17/17 [==============================] - 0s 6ms/step - loss: 0.3028 - accuracy: 0.8939 - val_loss: 0.4512 - val_accuracy: 0.7059\n",
            "Epoch 27/100\n",
            "17/17 [==============================] - 0s 6ms/step - loss: 0.2772 - accuracy: 0.8939 - val_loss: 0.4003 - val_accuracy: 0.8529\n",
            "Epoch 28/100\n",
            "17/17 [==============================] - 0s 6ms/step - loss: 0.2832 - accuracy: 0.8864 - val_loss: 0.4480 - val_accuracy: 0.7353\n",
            "Epoch 29/100\n",
            "17/17 [==============================] - 0s 6ms/step - loss: 0.2680 - accuracy: 0.8788 - val_loss: 0.4029 - val_accuracy: 0.8529\n",
            "Epoch 30/100\n",
            "17/17 [==============================] - 0s 7ms/step - loss: 0.2686 - accuracy: 0.8939 - val_loss: 0.4320 - val_accuracy: 0.7353\n",
            "Epoch 31/100\n",
            "17/17 [==============================] - 0s 7ms/step - loss: 0.2523 - accuracy: 0.9242 - val_loss: 0.4198 - val_accuracy: 0.7647\n",
            "Epoch 32/100\n",
            "17/17 [==============================] - 0s 7ms/step - loss: 0.2468 - accuracy: 0.9091 - val_loss: 0.4400 - val_accuracy: 0.7059\n",
            "Epoch 33/100\n",
            "17/17 [==============================] - 0s 6ms/step - loss: 0.2569 - accuracy: 0.9091 - val_loss: 0.4026 - val_accuracy: 0.8529\n",
            "Epoch 34/100\n",
            "17/17 [==============================] - 0s 7ms/step - loss: 0.2364 - accuracy: 0.9242 - val_loss: 0.4267 - val_accuracy: 0.7647\n",
            "Epoch 35/100\n",
            "17/17 [==============================] - 0s 7ms/step - loss: 0.2304 - accuracy: 0.9242 - val_loss: 0.4346 - val_accuracy: 0.7647\n",
            "Epoch 36/100\n",
            "17/17 [==============================] - 0s 6ms/step - loss: 0.2288 - accuracy: 0.9167 - val_loss: 0.3882 - val_accuracy: 0.8529\n",
            "Epoch 37/100\n",
            "17/17 [==============================] - 0s 7ms/step - loss: 0.2201 - accuracy: 0.9318 - val_loss: 0.4329 - val_accuracy: 0.7353\n",
            "Epoch 38/100\n",
            "17/17 [==============================] - 0s 6ms/step - loss: 0.2190 - accuracy: 0.9167 - val_loss: 0.4169 - val_accuracy: 0.8235\n",
            "Epoch 39/100\n",
            "17/17 [==============================] - 0s 6ms/step - loss: 0.2125 - accuracy: 0.9167 - val_loss: 0.3849 - val_accuracy: 0.8529\n",
            "Epoch 40/100\n",
            "17/17 [==============================] - 0s 7ms/step - loss: 0.2271 - accuracy: 0.9242 - val_loss: 0.4137 - val_accuracy: 0.8235\n",
            "Epoch 41/100\n",
            "17/17 [==============================] - 0s 6ms/step - loss: 0.2219 - accuracy: 0.9091 - val_loss: 0.5949 - val_accuracy: 0.7059\n",
            "Epoch 42/100\n",
            "17/17 [==============================] - 0s 6ms/step - loss: 0.2434 - accuracy: 0.8939 - val_loss: 0.4057 - val_accuracy: 0.8529\n",
            "Epoch 43/100\n",
            "17/17 [==============================] - 0s 6ms/step - loss: 0.2042 - accuracy: 0.9242 - val_loss: 0.4086 - val_accuracy: 0.8529\n",
            "Epoch 44/100\n",
            "17/17 [==============================] - 0s 6ms/step - loss: 0.1893 - accuracy: 0.9318 - val_loss: 0.4314 - val_accuracy: 0.7647\n",
            "Epoch 45/100\n",
            "17/17 [==============================] - 0s 6ms/step - loss: 0.1863 - accuracy: 0.9394 - val_loss: 0.5047 - val_accuracy: 0.7059\n",
            "Epoch 46/100\n",
            "17/17 [==============================] - 0s 6ms/step - loss: 0.1854 - accuracy: 0.9242 - val_loss: 0.4128 - val_accuracy: 0.8529\n",
            "Epoch 47/100\n",
            "17/17 [==============================] - 0s 6ms/step - loss: 0.1705 - accuracy: 0.9470 - val_loss: 0.4201 - val_accuracy: 0.7941\n",
            "Epoch 48/100\n",
            "17/17 [==============================] - 0s 6ms/step - loss: 0.1767 - accuracy: 0.9394 - val_loss: 0.5628 - val_accuracy: 0.7059\n",
            "Epoch 49/100\n",
            "17/17 [==============================] - 0s 6ms/step - loss: 0.1695 - accuracy: 0.9545 - val_loss: 0.3936 - val_accuracy: 0.8529\n",
            "Epoch 50/100\n",
            "17/17 [==============================] - 0s 6ms/step - loss: 0.1517 - accuracy: 0.9621 - val_loss: 0.4894 - val_accuracy: 0.7059\n",
            "Epoch 51/100\n",
            "17/17 [==============================] - 0s 6ms/step - loss: 0.1558 - accuracy: 0.9394 - val_loss: 0.4185 - val_accuracy: 0.7941\n",
            "Epoch 52/100\n",
            "17/17 [==============================] - 0s 6ms/step - loss: 0.1443 - accuracy: 0.9394 - val_loss: 0.4001 - val_accuracy: 0.8824\n",
            "Epoch 53/100\n",
            "17/17 [==============================] - 0s 6ms/step - loss: 0.1427 - accuracy: 0.9545 - val_loss: 0.4245 - val_accuracy: 0.8824\n",
            "Epoch 54/100\n",
            "17/17 [==============================] - 0s 7ms/step - loss: 0.1437 - accuracy: 0.9470 - val_loss: 0.4704 - val_accuracy: 0.6765\n",
            "Epoch 55/100\n",
            "17/17 [==============================] - 0s 6ms/step - loss: 0.1279 - accuracy: 0.9697 - val_loss: 0.4184 - val_accuracy: 0.8824\n",
            "Epoch 56/100\n",
            "17/17 [==============================] - 0s 6ms/step - loss: 0.1223 - accuracy: 0.9697 - val_loss: 0.4750 - val_accuracy: 0.6765\n",
            "Epoch 57/100\n",
            "17/17 [==============================] - 0s 6ms/step - loss: 0.1252 - accuracy: 0.9621 - val_loss: 0.4452 - val_accuracy: 0.7941\n",
            "Epoch 58/100\n",
            "17/17 [==============================] - 0s 8ms/step - loss: 0.1180 - accuracy: 0.9697 - val_loss: 0.4247 - val_accuracy: 0.8824\n",
            "Epoch 59/100\n",
            "17/17 [==============================] - 0s 7ms/step - loss: 0.1172 - accuracy: 0.9621 - val_loss: 0.4005 - val_accuracy: 0.8824\n",
            "Epoch 60/100\n",
            "17/17 [==============================] - 0s 6ms/step - loss: 0.1088 - accuracy: 0.9697 - val_loss: 0.4294 - val_accuracy: 0.8235\n",
            "Epoch 61/100\n",
            "17/17 [==============================] - 0s 6ms/step - loss: 0.0998 - accuracy: 0.9697 - val_loss: 0.4423 - val_accuracy: 0.8529\n",
            "Epoch 62/100\n",
            "17/17 [==============================] - 0s 6ms/step - loss: 0.0998 - accuracy: 0.9773 - val_loss: 0.4492 - val_accuracy: 0.8235\n",
            "Epoch 63/100\n",
            "17/17 [==============================] - 0s 6ms/step - loss: 0.0905 - accuracy: 0.9773 - val_loss: 0.4278 - val_accuracy: 0.8824\n",
            "Epoch 64/100\n",
            "17/17 [==============================] - 0s 6ms/step - loss: 0.0966 - accuracy: 0.9621 - val_loss: 0.4225 - val_accuracy: 0.8824\n",
            "Epoch 65/100\n",
            "17/17 [==============================] - 0s 7ms/step - loss: 0.0873 - accuracy: 0.9773 - val_loss: 0.4200 - val_accuracy: 0.8824\n",
            "Epoch 66/100\n",
            "17/17 [==============================] - 0s 6ms/step - loss: 0.0849 - accuracy: 0.9848 - val_loss: 0.4233 - val_accuracy: 0.8824\n",
            "Epoch 67/100\n",
            "17/17 [==============================] - 0s 7ms/step - loss: 0.0790 - accuracy: 0.9848 - val_loss: 0.4605 - val_accuracy: 0.7647\n",
            "Epoch 68/100\n",
            "17/17 [==============================] - 0s 6ms/step - loss: 0.0812 - accuracy: 0.9924 - val_loss: 0.4501 - val_accuracy: 0.8529\n",
            "Epoch 69/100\n",
            "17/17 [==============================] - 0s 6ms/step - loss: 0.0741 - accuracy: 0.9924 - val_loss: 0.4478 - val_accuracy: 0.8824\n",
            "Epoch 70/100\n",
            "17/17 [==============================] - 0s 6ms/step - loss: 0.0741 - accuracy: 0.9924 - val_loss: 0.4559 - val_accuracy: 0.8824\n",
            "Epoch 71/100\n",
            "17/17 [==============================] - 0s 6ms/step - loss: 0.0695 - accuracy: 0.9924 - val_loss: 0.4483 - val_accuracy: 0.8824\n",
            "Epoch 72/100\n",
            "17/17 [==============================] - 0s 7ms/step - loss: 0.0657 - accuracy: 1.0000 - val_loss: 0.4298 - val_accuracy: 0.8824\n",
            "Epoch 73/100\n",
            "17/17 [==============================] - 0s 6ms/step - loss: 0.0594 - accuracy: 1.0000 - val_loss: 0.4800 - val_accuracy: 0.8235\n",
            "Epoch 74/100\n",
            "17/17 [==============================] - 0s 6ms/step - loss: 0.0675 - accuracy: 0.9924 - val_loss: 0.4951 - val_accuracy: 0.7353\n",
            "Epoch 75/100\n",
            "17/17 [==============================] - 0s 6ms/step - loss: 0.0672 - accuracy: 0.9924 - val_loss: 0.4293 - val_accuracy: 0.8529\n",
            "Epoch 76/100\n",
            "17/17 [==============================] - 0s 7ms/step - loss: 0.0609 - accuracy: 0.9924 - val_loss: 0.4408 - val_accuracy: 0.8529\n",
            "Epoch 77/100\n",
            "17/17 [==============================] - 0s 6ms/step - loss: 0.0548 - accuracy: 1.0000 - val_loss: 0.4794 - val_accuracy: 0.7941\n",
            "Epoch 78/100\n",
            "17/17 [==============================] - 0s 7ms/step - loss: 0.0499 - accuracy: 1.0000 - val_loss: 0.4450 - val_accuracy: 0.8824\n",
            "Epoch 79/100\n",
            "17/17 [==============================] - 0s 6ms/step - loss: 0.0497 - accuracy: 0.9924 - val_loss: 0.4567 - val_accuracy: 0.8529\n",
            "Epoch 80/100\n",
            "17/17 [==============================] - 0s 6ms/step - loss: 0.0484 - accuracy: 1.0000 - val_loss: 0.4628 - val_accuracy: 0.8824\n",
            "Epoch 81/100\n",
            "17/17 [==============================] - 0s 6ms/step - loss: 0.0565 - accuracy: 1.0000 - val_loss: 0.4899 - val_accuracy: 0.7941\n",
            "Epoch 82/100\n",
            "17/17 [==============================] - 0s 6ms/step - loss: 0.0501 - accuracy: 1.0000 - val_loss: 0.5347 - val_accuracy: 0.7059\n",
            "Epoch 83/100\n",
            "17/17 [==============================] - 0s 6ms/step - loss: 0.0435 - accuracy: 1.0000 - val_loss: 0.4584 - val_accuracy: 0.8529\n",
            "Epoch 84/100\n",
            "17/17 [==============================] - 0s 7ms/step - loss: 0.0421 - accuracy: 1.0000 - val_loss: 0.4789 - val_accuracy: 0.8529\n",
            "Epoch 85/100\n",
            "17/17 [==============================] - 0s 6ms/step - loss: 0.0381 - accuracy: 1.0000 - val_loss: 0.4870 - val_accuracy: 0.8235\n",
            "Epoch 86/100\n",
            "17/17 [==============================] - 0s 7ms/step - loss: 0.0364 - accuracy: 1.0000 - val_loss: 0.5019 - val_accuracy: 0.7941\n",
            "Epoch 87/100\n",
            "17/17 [==============================] - 0s 6ms/step - loss: 0.0350 - accuracy: 1.0000 - val_loss: 0.4741 - val_accuracy: 0.8529\n",
            "Epoch 88/100\n",
            "17/17 [==============================] - 0s 7ms/step - loss: 0.0322 - accuracy: 1.0000 - val_loss: 0.4674 - val_accuracy: 0.8529\n",
            "Epoch 89/100\n",
            "17/17 [==============================] - 0s 7ms/step - loss: 0.0326 - accuracy: 1.0000 - val_loss: 0.4834 - val_accuracy: 0.8529\n",
            "Epoch 90/100\n",
            "17/17 [==============================] - 0s 6ms/step - loss: 0.0303 - accuracy: 1.0000 - val_loss: 0.4922 - val_accuracy: 0.8529\n",
            "Epoch 91/100\n",
            "17/17 [==============================] - 0s 6ms/step - loss: 0.0274 - accuracy: 1.0000 - val_loss: 0.4766 - val_accuracy: 0.8529\n",
            "Epoch 92/100\n",
            "17/17 [==============================] - 0s 6ms/step - loss: 0.0287 - accuracy: 1.0000 - val_loss: 0.5306 - val_accuracy: 0.7647\n",
            "Epoch 93/100\n",
            "17/17 [==============================] - 0s 6ms/step - loss: 0.0306 - accuracy: 1.0000 - val_loss: 0.4989 - val_accuracy: 0.8529\n",
            "Epoch 94/100\n",
            "17/17 [==============================] - 0s 6ms/step - loss: 0.0257 - accuracy: 1.0000 - val_loss: 0.4877 - val_accuracy: 0.8529\n",
            "Epoch 95/100\n",
            "17/17 [==============================] - 0s 6ms/step - loss: 0.0242 - accuracy: 1.0000 - val_loss: 0.5066 - val_accuracy: 0.8529\n",
            "Epoch 96/100\n",
            "17/17 [==============================] - 0s 6ms/step - loss: 0.0246 - accuracy: 1.0000 - val_loss: 0.4934 - val_accuracy: 0.8529\n",
            "Epoch 97/100\n",
            "17/17 [==============================] - 0s 7ms/step - loss: 0.0243 - accuracy: 1.0000 - val_loss: 0.5320 - val_accuracy: 0.7941\n",
            "Epoch 98/100\n",
            "17/17 [==============================] - 0s 6ms/step - loss: 0.0229 - accuracy: 1.0000 - val_loss: 0.4949 - val_accuracy: 0.8529\n",
            "Epoch 99/100\n",
            "17/17 [==============================] - 0s 6ms/step - loss: 0.0210 - accuracy: 1.0000 - val_loss: 0.5039 - val_accuracy: 0.8235\n",
            "Epoch 100/100\n",
            "17/17 [==============================] - 0s 6ms/step - loss: 0.0194 - accuracy: 1.0000 - val_loss: 0.5035 - val_accuracy: 0.8235\n"
          ]
        }
      ]
    },
    {
      "cell_type": "markdown",
      "metadata": {
        "id": "1x_J4joBbu8w"
      },
      "source": [
        "При запуске ячейки можно увидеть, что параметры процесса обучения изменились: добавилась информация о результатах предсказаний на проверочной выборке. Точность на проверочной выборке – **85%**.\n",
        "\n"
      ]
    },
    {
      "cell_type": "markdown",
      "metadata": {
        "id": "jE34mrb5M3v3"
      },
      "source": [
        "Как теперь проходит обучение? После того, как НС прошла первую эпоху, вычислила ошибку и веса нейронов изменились, модель прогоняется на проверочной выборке и предсказывает результаты. На проверочной выборке НС не обучается. Затем начинается следующая эпоха обучения и процесс повторяется."
      ]
    },
    {
      "cell_type": "markdown",
      "metadata": {
        "id": "VxTnF02k-4my"
      },
      "source": [
        "Применим метод `.evaluate()` к нашей модели, в качестве параметров передадим ему тестовые выборки и согласие на отображение хода вычисления. Поместим результат в переменную `scores`:"
      ]
    },
    {
      "cell_type": "code",
      "metadata": {
        "colab": {
          "base_uri": "https://localhost:8080/"
        },
        "id": "VA78vCjWCd7i",
        "outputId": "bac3d9bb-4b8a-4be8-82a3-262b06e92e87"
      },
      "source": [
        "scores = model.evaluate(x_test,\n",
        "                        y_test,\n",
        "                        verbose=1\n",
        "                        )"
      ],
      "execution_count": null,
      "outputs": [
        {
          "output_type": "stream",
          "name": "stdout",
          "text": [
            "2/2 [==============================] - 0s 6ms/step - loss: 0.4105 - accuracy: 0.7857\n"
          ]
        }
      ]
    },
    {
      "cell_type": "code",
      "metadata": {
        "colab": {
          "base_uri": "https://localhost:8080/"
        },
        "id": "2Wm-gAjn_W-9",
        "outputId": "8a73db68-5ec6-4a87-a063-8b9092712d1f"
      },
      "source": [
        "print('Процент верных ответов на тестовых данных:', round(scores[1],2) * 100, '%')"
      ],
      "execution_count": null,
      "outputs": [
        {
          "output_type": "stream",
          "name": "stdout",
          "text": [
            "Процент верных ответов на тестовых данных: 79.0 %\n"
          ]
        }
      ]
    },
    {
      "cell_type": "markdown",
      "metadata": {
        "id": "GdpNWJVYhBHH"
      },
      "source": [
        "**Выводы:**\n",
        "\n",
        "- `Точность на обучающей выборке` имеет самую низкую важность. Поскольку модели НС при обучении предъявляются и входные данные, и правильные ответы к ним, она может их просто зазубрить.\n",
        "\n",
        "- `Точность на проверочной` важнее, так как её сеть видит только после окончания эпохи обучения и использует для проверки.\n",
        "\n",
        "- `Точность на тестовой выборке` самая важная, так как она в процессе обучения в принципе не предъявляется модели."
      ]
    },
    {
      "cell_type": "markdown",
      "metadata": {
        "id": "wYhse8xmmdS5"
      },
      "source": [
        "## Визуализация качества обучения\n"
      ]
    },
    {
      "cell_type": "markdown",
      "metadata": {
        "id": "KS6_1dHtRmlI"
      },
      "source": [
        "Обучите НС, при этом результаты процесса обучения запишите в переменную **history**:"
      ]
    },
    {
      "cell_type": "code",
      "metadata": {
        "colab": {
          "base_uri": "https://localhost:8080/"
        },
        "id": "hBDSaMEUSI3Z",
        "outputId": "e55a2f87-6920-4b9e-8356-f76f57e7be37"
      },
      "source": [
        "# Создание модели\n",
        "model = create_model()\n",
        "\n",
        "# Обучение нейронной сети\n",
        "history = model.fit(x_train,\n",
        "                    y_train,\n",
        "                    batch_size=8,\n",
        "                    epochs=100,\n",
        "                    validation_split=0.2,\n",
        "                    verbose=1)"
      ],
      "execution_count": null,
      "outputs": [
        {
          "output_type": "stream",
          "name": "stdout",
          "text": [
            "Epoch 1/100\n",
            "17/17 [==============================] - 1s 26ms/step - loss: 0.6899 - accuracy: 0.5606 - val_loss: 0.6700 - val_accuracy: 0.6765\n",
            "Epoch 2/100\n",
            "17/17 [==============================] - 0s 6ms/step - loss: 0.6613 - accuracy: 0.6970 - val_loss: 0.6460 - val_accuracy: 0.7059\n",
            "Epoch 3/100\n",
            "17/17 [==============================] - 0s 6ms/step - loss: 0.6457 - accuracy: 0.7045 - val_loss: 0.6481 - val_accuracy: 0.6765\n",
            "Epoch 4/100\n",
            "17/17 [==============================] - 0s 6ms/step - loss: 0.6162 - accuracy: 0.7955 - val_loss: 0.6221 - val_accuracy: 0.7059\n",
            "Epoch 5/100\n",
            "17/17 [==============================] - 0s 5ms/step - loss: 0.5921 - accuracy: 0.7121 - val_loss: 0.6011 - val_accuracy: 0.7353\n",
            "Epoch 6/100\n",
            "17/17 [==============================] - 0s 6ms/step - loss: 0.5723 - accuracy: 0.7652 - val_loss: 0.5823 - val_accuracy: 0.7647\n",
            "Epoch 7/100\n",
            "17/17 [==============================] - 0s 6ms/step - loss: 0.5547 - accuracy: 0.7121 - val_loss: 0.5831 - val_accuracy: 0.6765\n",
            "Epoch 8/100\n",
            "17/17 [==============================] - 0s 6ms/step - loss: 0.5160 - accuracy: 0.7576 - val_loss: 0.5800 - val_accuracy: 0.6765\n",
            "Epoch 9/100\n",
            "17/17 [==============================] - 0s 6ms/step - loss: 0.4970 - accuracy: 0.8182 - val_loss: 0.5430 - val_accuracy: 0.7353\n",
            "Epoch 10/100\n",
            "17/17 [==============================] - 0s 5ms/step - loss: 0.4781 - accuracy: 0.8030 - val_loss: 0.5926 - val_accuracy: 0.6471\n",
            "Epoch 11/100\n",
            "17/17 [==============================] - 0s 6ms/step - loss: 0.4497 - accuracy: 0.8561 - val_loss: 0.5113 - val_accuracy: 0.7059\n",
            "Epoch 12/100\n",
            "17/17 [==============================] - 0s 6ms/step - loss: 0.4400 - accuracy: 0.8258 - val_loss: 0.5503 - val_accuracy: 0.7059\n",
            "Epoch 13/100\n",
            "17/17 [==============================] - 0s 6ms/step - loss: 0.4192 - accuracy: 0.8182 - val_loss: 0.5079 - val_accuracy: 0.7059\n",
            "Epoch 14/100\n",
            "17/17 [==============================] - 0s 6ms/step - loss: 0.4073 - accuracy: 0.8409 - val_loss: 0.5323 - val_accuracy: 0.7059\n",
            "Epoch 15/100\n",
            "17/17 [==============================] - 0s 6ms/step - loss: 0.3935 - accuracy: 0.8485 - val_loss: 0.5223 - val_accuracy: 0.7353\n",
            "Epoch 16/100\n",
            "17/17 [==============================] - 0s 6ms/step - loss: 0.3823 - accuracy: 0.8712 - val_loss: 0.5328 - val_accuracy: 0.7353\n",
            "Epoch 17/100\n",
            "17/17 [==============================] - 0s 6ms/step - loss: 0.3794 - accuracy: 0.8409 - val_loss: 0.4724 - val_accuracy: 0.7647\n",
            "Epoch 18/100\n",
            "17/17 [==============================] - 0s 6ms/step - loss: 0.3727 - accuracy: 0.8636 - val_loss: 0.4642 - val_accuracy: 0.7647\n",
            "Epoch 19/100\n",
            "17/17 [==============================] - 0s 6ms/step - loss: 0.3688 - accuracy: 0.8258 - val_loss: 0.5521 - val_accuracy: 0.7059\n",
            "Epoch 20/100\n",
            "17/17 [==============================] - 0s 6ms/step - loss: 0.3486 - accuracy: 0.8864 - val_loss: 0.4590 - val_accuracy: 0.7647\n",
            "Epoch 21/100\n",
            "17/17 [==============================] - 0s 6ms/step - loss: 0.3436 - accuracy: 0.8712 - val_loss: 0.4766 - val_accuracy: 0.7353\n",
            "Epoch 22/100\n",
            "17/17 [==============================] - 0s 6ms/step - loss: 0.3452 - accuracy: 0.8712 - val_loss: 0.4582 - val_accuracy: 0.7647\n",
            "Epoch 23/100\n",
            "17/17 [==============================] - 0s 6ms/step - loss: 0.3273 - accuracy: 0.8788 - val_loss: 0.5057 - val_accuracy: 0.7059\n",
            "Epoch 24/100\n",
            "17/17 [==============================] - 0s 7ms/step - loss: 0.3259 - accuracy: 0.8712 - val_loss: 0.4386 - val_accuracy: 0.8235\n",
            "Epoch 25/100\n",
            "17/17 [==============================] - 0s 7ms/step - loss: 0.3202 - accuracy: 0.8636 - val_loss: 0.4857 - val_accuracy: 0.7059\n",
            "Epoch 26/100\n",
            "17/17 [==============================] - 0s 6ms/step - loss: 0.3052 - accuracy: 0.9015 - val_loss: 0.4554 - val_accuracy: 0.7647\n",
            "Epoch 27/100\n",
            "17/17 [==============================] - 0s 6ms/step - loss: 0.3025 - accuracy: 0.8864 - val_loss: 0.4727 - val_accuracy: 0.7647\n",
            "Epoch 28/100\n",
            "17/17 [==============================] - 0s 6ms/step - loss: 0.2974 - accuracy: 0.8864 - val_loss: 0.4748 - val_accuracy: 0.7647\n",
            "Epoch 29/100\n",
            "17/17 [==============================] - 0s 6ms/step - loss: 0.2870 - accuracy: 0.9091 - val_loss: 0.4074 - val_accuracy: 0.8529\n",
            "Epoch 30/100\n",
            "17/17 [==============================] - 0s 6ms/step - loss: 0.2961 - accuracy: 0.8864 - val_loss: 0.4888 - val_accuracy: 0.7353\n",
            "Epoch 31/100\n",
            "17/17 [==============================] - 0s 6ms/step - loss: 0.2878 - accuracy: 0.8864 - val_loss: 0.4885 - val_accuracy: 0.7353\n",
            "Epoch 32/100\n",
            "17/17 [==============================] - 0s 6ms/step - loss: 0.2962 - accuracy: 0.8712 - val_loss: 0.4317 - val_accuracy: 0.8235\n",
            "Epoch 33/100\n",
            "17/17 [==============================] - 0s 6ms/step - loss: 0.2719 - accuracy: 0.9091 - val_loss: 0.4890 - val_accuracy: 0.7647\n",
            "Epoch 34/100\n",
            "17/17 [==============================] - 0s 8ms/step - loss: 0.2679 - accuracy: 0.9091 - val_loss: 0.4268 - val_accuracy: 0.8235\n",
            "Epoch 35/100\n",
            "17/17 [==============================] - 0s 6ms/step - loss: 0.2617 - accuracy: 0.9091 - val_loss: 0.4748 - val_accuracy: 0.7647\n",
            "Epoch 36/100\n",
            "17/17 [==============================] - 0s 6ms/step - loss: 0.2525 - accuracy: 0.9318 - val_loss: 0.4924 - val_accuracy: 0.7647\n",
            "Epoch 37/100\n",
            "17/17 [==============================] - 0s 6ms/step - loss: 0.2493 - accuracy: 0.9167 - val_loss: 0.4646 - val_accuracy: 0.7647\n",
            "Epoch 38/100\n",
            "17/17 [==============================] - 0s 6ms/step - loss: 0.2448 - accuracy: 0.9394 - val_loss: 0.4861 - val_accuracy: 0.7647\n",
            "Epoch 39/100\n",
            "17/17 [==============================] - 0s 6ms/step - loss: 0.2423 - accuracy: 0.9091 - val_loss: 0.4164 - val_accuracy: 0.8529\n",
            "Epoch 40/100\n",
            "17/17 [==============================] - 0s 7ms/step - loss: 0.2449 - accuracy: 0.9167 - val_loss: 0.4351 - val_accuracy: 0.7941\n",
            "Epoch 41/100\n",
            "17/17 [==============================] - 0s 7ms/step - loss: 0.2225 - accuracy: 0.9394 - val_loss: 0.4737 - val_accuracy: 0.7647\n",
            "Epoch 42/100\n",
            "17/17 [==============================] - 0s 6ms/step - loss: 0.2175 - accuracy: 0.9318 - val_loss: 0.4056 - val_accuracy: 0.8529\n",
            "Epoch 43/100\n",
            "17/17 [==============================] - 0s 7ms/step - loss: 0.2140 - accuracy: 0.9394 - val_loss: 0.4462 - val_accuracy: 0.7647\n",
            "Epoch 44/100\n",
            "17/17 [==============================] - 0s 6ms/step - loss: 0.2121 - accuracy: 0.9545 - val_loss: 0.5206 - val_accuracy: 0.7353\n",
            "Epoch 45/100\n",
            "17/17 [==============================] - 0s 6ms/step - loss: 0.2149 - accuracy: 0.9167 - val_loss: 0.4027 - val_accuracy: 0.8824\n",
            "Epoch 46/100\n",
            "17/17 [==============================] - 0s 6ms/step - loss: 0.2017 - accuracy: 0.9470 - val_loss: 0.4270 - val_accuracy: 0.8235\n",
            "Epoch 47/100\n",
            "17/17 [==============================] - 0s 6ms/step - loss: 0.1935 - accuracy: 0.9470 - val_loss: 0.4625 - val_accuracy: 0.7941\n",
            "Epoch 48/100\n",
            "17/17 [==============================] - 0s 6ms/step - loss: 0.1960 - accuracy: 0.9545 - val_loss: 0.4419 - val_accuracy: 0.8235\n",
            "Epoch 49/100\n",
            "17/17 [==============================] - 0s 7ms/step - loss: 0.1790 - accuracy: 0.9318 - val_loss: 0.3903 - val_accuracy: 0.8824\n",
            "Epoch 50/100\n",
            "17/17 [==============================] - 0s 6ms/step - loss: 0.1917 - accuracy: 0.9394 - val_loss: 0.4497 - val_accuracy: 0.7941\n",
            "Epoch 51/100\n",
            "17/17 [==============================] - 0s 6ms/step - loss: 0.1803 - accuracy: 0.9470 - val_loss: 0.4335 - val_accuracy: 0.8235\n",
            "Epoch 52/100\n",
            "17/17 [==============================] - 0s 8ms/step - loss: 0.1706 - accuracy: 0.9470 - val_loss: 0.4907 - val_accuracy: 0.7353\n",
            "Epoch 53/100\n",
            "17/17 [==============================] - 0s 6ms/step - loss: 0.1679 - accuracy: 0.9545 - val_loss: 0.4238 - val_accuracy: 0.8824\n",
            "Epoch 54/100\n",
            "17/17 [==============================] - 0s 6ms/step - loss: 0.1612 - accuracy: 0.9621 - val_loss: 0.4236 - val_accuracy: 0.8529\n",
            "Epoch 55/100\n",
            "17/17 [==============================] - 0s 6ms/step - loss: 0.1463 - accuracy: 0.9697 - val_loss: 0.5149 - val_accuracy: 0.7353\n",
            "Epoch 56/100\n",
            "17/17 [==============================] - 0s 6ms/step - loss: 0.1620 - accuracy: 0.9470 - val_loss: 0.4129 - val_accuracy: 0.8824\n",
            "Epoch 57/100\n",
            "17/17 [==============================] - 0s 6ms/step - loss: 0.1445 - accuracy: 0.9621 - val_loss: 0.4218 - val_accuracy: 0.8824\n",
            "Epoch 58/100\n",
            "17/17 [==============================] - 0s 6ms/step - loss: 0.1432 - accuracy: 0.9697 - val_loss: 0.4157 - val_accuracy: 0.8824\n",
            "Epoch 59/100\n",
            "17/17 [==============================] - 0s 6ms/step - loss: 0.1326 - accuracy: 0.9697 - val_loss: 0.4628 - val_accuracy: 0.8235\n",
            "Epoch 60/100\n",
            "17/17 [==============================] - 0s 6ms/step - loss: 0.1278 - accuracy: 0.9697 - val_loss: 0.4173 - val_accuracy: 0.8824\n",
            "Epoch 61/100\n",
            "17/17 [==============================] - 0s 6ms/step - loss: 0.1267 - accuracy: 0.9773 - val_loss: 0.4855 - val_accuracy: 0.7647\n",
            "Epoch 62/100\n",
            "17/17 [==============================] - 0s 6ms/step - loss: 0.1248 - accuracy: 0.9697 - val_loss: 0.4277 - val_accuracy: 0.8824\n",
            "Epoch 63/100\n",
            "17/17 [==============================] - 0s 6ms/step - loss: 0.1151 - accuracy: 0.9697 - val_loss: 0.4310 - val_accuracy: 0.8824\n",
            "Epoch 64/100\n",
            "17/17 [==============================] - 0s 7ms/step - loss: 0.1110 - accuracy: 0.9697 - val_loss: 0.4366 - val_accuracy: 0.8824\n",
            "Epoch 65/100\n",
            "17/17 [==============================] - 0s 6ms/step - loss: 0.1140 - accuracy: 0.9773 - val_loss: 0.4461 - val_accuracy: 0.8529\n",
            "Epoch 66/100\n",
            "17/17 [==============================] - 0s 6ms/step - loss: 0.1036 - accuracy: 0.9848 - val_loss: 0.4274 - val_accuracy: 0.8824\n",
            "Epoch 67/100\n",
            "17/17 [==============================] - 0s 6ms/step - loss: 0.1005 - accuracy: 0.9773 - val_loss: 0.4430 - val_accuracy: 0.8529\n",
            "Epoch 68/100\n",
            "17/17 [==============================] - 0s 9ms/step - loss: 0.0954 - accuracy: 0.9697 - val_loss: 0.4453 - val_accuracy: 0.8824\n",
            "Epoch 69/100\n",
            "17/17 [==============================] - 0s 7ms/step - loss: 0.0907 - accuracy: 0.9924 - val_loss: 0.4602 - val_accuracy: 0.8529\n",
            "Epoch 70/100\n",
            "17/17 [==============================] - 0s 11ms/step - loss: 0.0876 - accuracy: 0.9848 - val_loss: 0.4426 - val_accuracy: 0.8824\n",
            "Epoch 71/100\n",
            "17/17 [==============================] - 0s 8ms/step - loss: 0.0855 - accuracy: 0.9848 - val_loss: 0.4412 - val_accuracy: 0.8824\n",
            "Epoch 72/100\n",
            "17/17 [==============================] - 0s 6ms/step - loss: 0.0901 - accuracy: 0.9924 - val_loss: 0.4554 - val_accuracy: 0.8824\n",
            "Epoch 73/100\n",
            "17/17 [==============================] - 0s 6ms/step - loss: 0.0871 - accuracy: 0.9773 - val_loss: 0.4545 - val_accuracy: 0.8824\n",
            "Epoch 74/100\n",
            "17/17 [==============================] - 0s 6ms/step - loss: 0.0772 - accuracy: 0.9924 - val_loss: 0.4659 - val_accuracy: 0.8529\n",
            "Epoch 75/100\n",
            "17/17 [==============================] - 0s 6ms/step - loss: 0.0738 - accuracy: 1.0000 - val_loss: 0.4496 - val_accuracy: 0.8529\n",
            "Epoch 76/100\n",
            "17/17 [==============================] - 0s 6ms/step - loss: 0.0745 - accuracy: 0.9848 - val_loss: 0.4576 - val_accuracy: 0.8529\n",
            "Epoch 77/100\n",
            "17/17 [==============================] - 0s 6ms/step - loss: 0.0715 - accuracy: 1.0000 - val_loss: 0.4654 - val_accuracy: 0.8824\n",
            "Epoch 78/100\n",
            "17/17 [==============================] - 0s 6ms/step - loss: 0.0654 - accuracy: 0.9924 - val_loss: 0.4782 - val_accuracy: 0.8824\n",
            "Epoch 79/100\n",
            "17/17 [==============================] - 0s 6ms/step - loss: 0.0733 - accuracy: 0.9924 - val_loss: 0.4485 - val_accuracy: 0.8529\n",
            "Epoch 80/100\n",
            "17/17 [==============================] - 0s 6ms/step - loss: 0.0578 - accuracy: 1.0000 - val_loss: 0.4823 - val_accuracy: 0.8824\n",
            "Epoch 81/100\n",
            "17/17 [==============================] - 0s 6ms/step - loss: 0.0561 - accuracy: 1.0000 - val_loss: 0.4689 - val_accuracy: 0.8824\n",
            "Epoch 82/100\n",
            "17/17 [==============================] - 0s 7ms/step - loss: 0.0531 - accuracy: 1.0000 - val_loss: 0.4955 - val_accuracy: 0.8824\n",
            "Epoch 83/100\n",
            "17/17 [==============================] - 0s 6ms/step - loss: 0.0597 - accuracy: 0.9924 - val_loss: 0.4810 - val_accuracy: 0.8529\n",
            "Epoch 84/100\n",
            "17/17 [==============================] - 0s 6ms/step - loss: 0.0548 - accuracy: 1.0000 - val_loss: 0.4980 - val_accuracy: 0.8529\n",
            "Epoch 85/100\n",
            "17/17 [==============================] - 0s 6ms/step - loss: 0.0597 - accuracy: 1.0000 - val_loss: 0.4977 - val_accuracy: 0.8824\n",
            "Epoch 86/100\n",
            "17/17 [==============================] - 0s 6ms/step - loss: 0.0479 - accuracy: 1.0000 - val_loss: 0.4892 - val_accuracy: 0.8824\n",
            "Epoch 87/100\n",
            "17/17 [==============================] - 0s 6ms/step - loss: 0.0462 - accuracy: 1.0000 - val_loss: 0.4873 - val_accuracy: 0.8824\n",
            "Epoch 88/100\n",
            "17/17 [==============================] - 0s 6ms/step - loss: 0.0421 - accuracy: 1.0000 - val_loss: 0.5079 - val_accuracy: 0.8529\n",
            "Epoch 89/100\n",
            "17/17 [==============================] - 0s 6ms/step - loss: 0.0420 - accuracy: 1.0000 - val_loss: 0.5162 - val_accuracy: 0.8529\n",
            "Epoch 90/100\n",
            "17/17 [==============================] - 0s 6ms/step - loss: 0.0416 - accuracy: 1.0000 - val_loss: 0.5141 - val_accuracy: 0.8529\n",
            "Epoch 91/100\n",
            "17/17 [==============================] - 0s 6ms/step - loss: 0.0391 - accuracy: 1.0000 - val_loss: 0.5092 - val_accuracy: 0.8824\n",
            "Epoch 92/100\n",
            "17/17 [==============================] - 0s 7ms/step - loss: 0.0356 - accuracy: 1.0000 - val_loss: 0.5293 - val_accuracy: 0.8824\n",
            "Epoch 93/100\n",
            "17/17 [==============================] - 0s 6ms/step - loss: 0.0354 - accuracy: 1.0000 - val_loss: 0.5314 - val_accuracy: 0.8529\n",
            "Epoch 94/100\n",
            "17/17 [==============================] - 0s 5ms/step - loss: 0.0329 - accuracy: 1.0000 - val_loss: 0.5200 - val_accuracy: 0.8824\n",
            "Epoch 95/100\n",
            "17/17 [==============================] - 0s 6ms/step - loss: 0.0322 - accuracy: 1.0000 - val_loss: 0.5307 - val_accuracy: 0.8529\n",
            "Epoch 96/100\n",
            "17/17 [==============================] - 0s 6ms/step - loss: 0.0342 - accuracy: 1.0000 - val_loss: 0.5300 - val_accuracy: 0.8529\n",
            "Epoch 97/100\n",
            "17/17 [==============================] - 0s 7ms/step - loss: 0.0292 - accuracy: 1.0000 - val_loss: 0.5395 - val_accuracy: 0.8529\n",
            "Epoch 98/100\n",
            "17/17 [==============================] - 0s 7ms/step - loss: 0.0303 - accuracy: 1.0000 - val_loss: 0.5481 - val_accuracy: 0.8529\n",
            "Epoch 99/100\n",
            "17/17 [==============================] - 0s 6ms/step - loss: 0.0293 - accuracy: 1.0000 - val_loss: 0.5463 - val_accuracy: 0.8529\n",
            "Epoch 100/100\n",
            "17/17 [==============================] - 0s 6ms/step - loss: 0.0255 - accuracy: 1.0000 - val_loss: 0.5454 - val_accuracy: 0.8824\n"
          ]
        }
      ]
    },
    {
      "cell_type": "markdown",
      "metadata": {
        "id": "x_8q_gEyFnFy"
      },
      "source": [
        "Постройте график точности на протяжении всего обучения."
      ]
    },
    {
      "cell_type": "code",
      "metadata": {
        "colab": {
          "base_uri": "https://localhost:8080/",
          "height": 279
        },
        "id": "ty0iVxcXmgHt",
        "outputId": "285f1676-f68c-40bb-dda9-0db3f77fadb8"
      },
      "source": [
        "# Визуализация точности на обучающей выборке\n",
        "\n",
        "plt.plot(history.history['accuracy'],\n",
        "         label='Доля верных ответов на обучающем наборе')\n",
        "\n",
        "# Визуализация точности на проверочной выборке\n",
        "plt.plot(history.history['val_accuracy'],\n",
        "         label='Доля верных ответов на проверочном наборе')\n",
        "\n",
        "# Отрисовка подписей осей\n",
        "plt.xlabel('Эпоха обучения')\n",
        "plt.ylabel('Доля верных ответов')\n",
        "\n",
        "# Отрисовка легенды\n",
        "plt.legend()\n",
        "\n",
        "# Вывод графика\n",
        "plt.show()"
      ],
      "execution_count": null,
      "outputs": [
        {
          "output_type": "display_data",
          "data": {
            "text/plain": [
              "<Figure size 432x288 with 1 Axes>"
            ],
            "image/png": "[encoded data removed]"
          },
          "metadata": {
            "needs_background": "light"
          }
        }
      ]
    },
    {
      "cell_type": "markdown",
      "metadata": {
        "id": "eACYzyiGF0Qk"
      },
      "source": [
        "На картинке можно видеть, что на последних эпохах точность на обучающей выборке достигла **100%**.\n",
        "\n",
        "Также видно, что примерно на **30** эпохе обучения точность распознавания на проверочном наборе приблизилась к **85%**."
      ]
    },
    {
      "cell_type": "markdown",
      "metadata": {
        "id": "oz8kbSPrSoG1"
      },
      "source": [
        "Теперь выведите график ошибки:"
      ]
    },
    {
      "cell_type": "code",
      "metadata": {
        "colab": {
          "base_uri": "https://localhost:8080/",
          "height": 279
        },
        "id": "-UOcvkr62Z6p",
        "outputId": "d84d820d-c422-4053-b891-92352ccfb0e8"
      },
      "source": [
        "plt.plot(history.history['loss'],\n",
        "         label='Ошибка на обучающем наборе')\n",
        "\n",
        "plt.plot(history.history['val_loss'],\n",
        "         label='Ошибка на проверочном наборе')\n",
        "\n",
        "plt.xlabel('Эпоха обучения')\n",
        "plt.ylabel('Ошибка')\n",
        "\n",
        "plt.legend()\n",
        "\n",
        "plt.show()"
      ],
      "execution_count": null,
      "outputs": [
        {
          "output_type": "display_data",
          "data": {
            "text/plain": [
              "<Figure size 432x288 with 1 Axes>"
            ],
            "image/png": "[encoded data removed]"
          },
          "metadata": {
            "needs_background": "light"
          }
        }
      ]
    },
    {
      "cell_type": "markdown",
      "metadata": {
        "id": "7-sldTG-G282"
      },
      "source": [
        "Последний график имеет большое значение для нейронщика. Если ошибка на обучающей выборке стремится к **0**, а на проверочной выборке снижается, но потом снова растет – это эффект переобучения. Примерно после **30** эпохи НС начинает заучивать ответы."
      ]
    },
    {
      "cell_type": "markdown",
      "metadata": {
        "id": "7aeyWiq6lnCT"
      },
      "source": [
        "##Что делать с переобучением?"
      ]
    },
    {
      "cell_type": "markdown",
      "metadata": {
        "id": "tpd4odLcltMb"
      },
      "source": [
        "Попробуем решить проблему переобучения в исследуемой задаче."
      ]
    },
    {
      "cell_type": "markdown",
      "metadata": {
        "id": "2hixPFMeSRH2"
      },
      "source": [
        "### Слой  Dropout"
      ]
    },
    {
      "cell_type": "markdown",
      "metadata": {
        "id": "er8CVNUeS1MR"
      },
      "source": [
        "Возьмите исходную архитектуру НС и добавьте слои `Dropout` (см. теоретическая часть):"
      ]
    },
    {
      "cell_type": "code",
      "metadata": {
        "colab": {
          "base_uri": "https://localhost:8080/"
        },
        "id": "WbmwTQpcSVxV",
        "outputId": "884fe520-f00b-4ffe-e3bd-e0d440a80907"
      },
      "source": [
        "# Создание последовательной модели\n",
        "model = Sequential()\n",
        "model.add(Dropout(0.3, input_shape=(x_train.shape[1],)))\n",
        "model.add(Dense(60, activation='relu'))\n",
        "model.add(Dropout(0.3))\n",
        "model.add(Dense(30, activation='relu'))\n",
        "model.add(Dropout(0.3))\n",
        "model.add(Dense(1, activation='sigmoid'))\n",
        "\n",
        "# Компиляция модели\n",
        "model.compile(loss='binary_crossentropy', optimizer=Adam(learning_rate=0.001), metrics=['accuracy'])\n",
        "\n",
        "# Обучение сети\n",
        "history = model.fit(x_train,\n",
        "                    y_train,\n",
        "                    batch_size=8,\n",
        "                    epochs=200,\n",
        "                    validation_split=0.2,\n",
        "                    verbose=1)"
      ],
      "execution_count": null,
      "outputs": [
        {
          "output_type": "stream",
          "name": "stdout",
          "text": [
            "Epoch 1/200\n",
            "17/17 [==============================] - 1s 16ms/step - loss: 0.6859 - accuracy: 0.5909 - val_loss: 0.6853 - val_accuracy: 0.5588\n",
            "Epoch 2/200\n",
            "17/17 [==============================] - 0s 6ms/step - loss: 0.6900 - accuracy: 0.5985 - val_loss: 0.6790 - val_accuracy: 0.5882\n",
            "Epoch 3/200\n",
            "17/17 [==============================] - 0s 7ms/step - loss: 0.6625 - accuracy: 0.6136 - val_loss: 0.6787 - val_accuracy: 0.5882\n",
            "Epoch 4/200\n",
            "17/17 [==============================] - 0s 7ms/step - loss: 0.6799 - accuracy: 0.5379 - val_loss: 0.6634 - val_accuracy: 0.6471\n",
            "Epoch 5/200\n",
            "17/17 [==============================] - 0s 6ms/step - loss: 0.6794 - accuracy: 0.6061 - val_loss: 0.6820 - val_accuracy: 0.6471\n",
            "Epoch 6/200\n",
            "17/17 [==============================] - 0s 6ms/step - loss: 0.6977 - accuracy: 0.5606 - val_loss: 0.7432 - val_accuracy: 0.3824\n",
            "Epoch 7/200\n",
            "17/17 [==============================] - 0s 7ms/step - loss: 0.6302 - accuracy: 0.6364 - val_loss: 0.6855 - val_accuracy: 0.5588\n",
            "Epoch 8/200\n",
            "17/17 [==============================] - 0s 6ms/step - loss: 0.6117 - accuracy: 0.6742 - val_loss: 0.6697 - val_accuracy: 0.6176\n",
            "Epoch 9/200\n",
            "17/17 [==============================] - 0s 6ms/step - loss: 0.6346 - accuracy: 0.6439 - val_loss: 0.6712 - val_accuracy: 0.5882\n",
            "Epoch 10/200\n",
            "17/17 [==============================] - 0s 6ms/step - loss: 0.6737 - accuracy: 0.6212 - val_loss: 0.6282 - val_accuracy: 0.7059\n",
            "Epoch 11/200\n",
            "17/17 [==============================] - 0s 6ms/step - loss: 0.6457 - accuracy: 0.6136 - val_loss: 0.6187 - val_accuracy: 0.7059\n",
            "Epoch 12/200\n",
            "17/17 [==============================] - 0s 7ms/step - loss: 0.6010 - accuracy: 0.6742 - val_loss: 0.6402 - val_accuracy: 0.6471\n",
            "Epoch 13/200\n",
            "17/17 [==============================] - 0s 6ms/step - loss: 0.6208 - accuracy: 0.6818 - val_loss: 0.6098 - val_accuracy: 0.6765\n",
            "Epoch 14/200\n",
            "17/17 [==============================] - 0s 7ms/step - loss: 0.5927 - accuracy: 0.6742 - val_loss: 0.5716 - val_accuracy: 0.7353\n",
            "Epoch 15/200\n",
            "17/17 [==============================] - 0s 7ms/step - loss: 0.6019 - accuracy: 0.7121 - val_loss: 0.6075 - val_accuracy: 0.6765\n",
            "Epoch 16/200\n",
            "17/17 [==============================] - 0s 6ms/step - loss: 0.5989 - accuracy: 0.6591 - val_loss: 0.5797 - val_accuracy: 0.6765\n",
            "Epoch 17/200\n",
            "17/17 [==============================] - 0s 6ms/step - loss: 0.6063 - accuracy: 0.7121 - val_loss: 0.6209 - val_accuracy: 0.6176\n",
            "Epoch 18/200\n",
            "17/17 [==============================] - 0s 7ms/step - loss: 0.5829 - accuracy: 0.7121 - val_loss: 0.5647 - val_accuracy: 0.7059\n",
            "Epoch 19/200\n",
            "17/17 [==============================] - 0s 6ms/step - loss: 0.5861 - accuracy: 0.7273 - val_loss: 0.5738 - val_accuracy: 0.6471\n",
            "Epoch 20/200\n",
            "17/17 [==============================] - 0s 7ms/step - loss: 0.6387 - accuracy: 0.6667 - val_loss: 0.5481 - val_accuracy: 0.7353\n",
            "Epoch 21/200\n",
            "17/17 [==============================] - 0s 6ms/step - loss: 0.6347 - accuracy: 0.6591 - val_loss: 0.5849 - val_accuracy: 0.6471\n",
            "Epoch 22/200\n",
            "17/17 [==============================] - 0s 7ms/step - loss: 0.5819 - accuracy: 0.6970 - val_loss: 0.6062 - val_accuracy: 0.6765\n",
            "Epoch 23/200\n",
            "17/17 [==============================] - 0s 6ms/step - loss: 0.6050 - accuracy: 0.6667 - val_loss: 0.5599 - val_accuracy: 0.7353\n",
            "Epoch 24/200\n",
            "17/17 [==============================] - 0s 6ms/step - loss: 0.5857 - accuracy: 0.6970 - val_loss: 0.5670 - val_accuracy: 0.7647\n",
            "Epoch 25/200\n",
            "17/17 [==============================] - 0s 6ms/step - loss: 0.5822 - accuracy: 0.6742 - val_loss: 0.5506 - val_accuracy: 0.7647\n",
            "Epoch 26/200\n",
            "17/17 [==============================] - 0s 6ms/step - loss: 0.5525 - accuracy: 0.7348 - val_loss: 0.5743 - val_accuracy: 0.6765\n",
            "Epoch 27/200\n",
            "17/17 [==============================] - 0s 6ms/step - loss: 0.5673 - accuracy: 0.7121 - val_loss: 0.5795 - val_accuracy: 0.7059\n",
            "Epoch 28/200\n",
            "17/17 [==============================] - 0s 7ms/step - loss: 0.5716 - accuracy: 0.7121 - val_loss: 0.5460 - val_accuracy: 0.7353\n",
            "Epoch 29/200\n",
            "17/17 [==============================] - 0s 7ms/step - loss: 0.5373 - accuracy: 0.7045 - val_loss: 0.5401 - val_accuracy: 0.7353\n",
            "Epoch 30/200\n",
            "17/17 [==============================] - 0s 6ms/step - loss: 0.6101 - accuracy: 0.6515 - val_loss: 0.5352 - val_accuracy: 0.7353\n",
            "Epoch 31/200\n",
            "17/17 [==============================] - 0s 6ms/step - loss: 0.6317 - accuracy: 0.6742 - val_loss: 0.5539 - val_accuracy: 0.7353\n",
            "Epoch 32/200\n",
            "17/17 [==============================] - 0s 6ms/step - loss: 0.5683 - accuracy: 0.7424 - val_loss: 0.5042 - val_accuracy: 0.7941\n",
            "Epoch 33/200\n",
            "17/17 [==============================] - 0s 6ms/step - loss: 0.5427 - accuracy: 0.7273 - val_loss: 0.5780 - val_accuracy: 0.7059\n",
            "Epoch 34/200\n",
            "17/17 [==============================] - 0s 6ms/step - loss: 0.5110 - accuracy: 0.7955 - val_loss: 0.5817 - val_accuracy: 0.7059\n",
            "Epoch 35/200\n",
            "17/17 [==============================] - 0s 6ms/step - loss: 0.6272 - accuracy: 0.6818 - val_loss: 0.5073 - val_accuracy: 0.7059\n",
            "Epoch 36/200\n",
            "17/17 [==============================] - 0s 6ms/step - loss: 0.5543 - accuracy: 0.6742 - val_loss: 0.5489 - val_accuracy: 0.7353\n",
            "Epoch 37/200\n",
            "17/17 [==============================] - 0s 6ms/step - loss: 0.5036 - accuracy: 0.7727 - val_loss: 0.5199 - val_accuracy: 0.7059\n",
            "Epoch 38/200\n",
            "17/17 [==============================] - 0s 7ms/step - loss: 0.5436 - accuracy: 0.7576 - val_loss: 0.5191 - val_accuracy: 0.7353\n",
            "Epoch 39/200\n",
            "17/17 [==============================] - 0s 7ms/step - loss: 0.5845 - accuracy: 0.6515 - val_loss: 0.5654 - val_accuracy: 0.7353\n",
            "Epoch 40/200\n",
            "17/17 [==============================] - 0s 6ms/step - loss: 0.5527 - accuracy: 0.7424 - val_loss: 0.5461 - val_accuracy: 0.7353\n",
            "Epoch 41/200\n",
            "17/17 [==============================] - 0s 6ms/step - loss: 0.5212 - accuracy: 0.7348 - val_loss: 0.5476 - val_accuracy: 0.7353\n",
            "Epoch 42/200\n",
            "17/17 [==============================] - 0s 6ms/step - loss: 0.5390 - accuracy: 0.6970 - val_loss: 0.5795 - val_accuracy: 0.6765\n",
            "Epoch 43/200\n",
            "17/17 [==============================] - 0s 7ms/step - loss: 0.5645 - accuracy: 0.7197 - val_loss: 0.5159 - val_accuracy: 0.7647\n",
            "Epoch 44/200\n",
            "17/17 [==============================] - 0s 6ms/step - loss: 0.6114 - accuracy: 0.7045 - val_loss: 0.5060 - val_accuracy: 0.7353\n",
            "Epoch 45/200\n",
            "17/17 [==============================] - 0s 6ms/step - loss: 0.5566 - accuracy: 0.7273 - val_loss: 0.5416 - val_accuracy: 0.7353\n",
            "Epoch 46/200\n",
            "17/17 [==============================] - 0s 6ms/step - loss: 0.5552 - accuracy: 0.7121 - val_loss: 0.5081 - val_accuracy: 0.7353\n",
            "Epoch 47/200\n",
            "17/17 [==============================] - 0s 7ms/step - loss: 0.5016 - accuracy: 0.7348 - val_loss: 0.4861 - val_accuracy: 0.7353\n",
            "Epoch 48/200\n",
            "17/17 [==============================] - 0s 6ms/step - loss: 0.5478 - accuracy: 0.7273 - val_loss: 0.5319 - val_accuracy: 0.7353\n",
            "Epoch 49/200\n",
            "17/17 [==============================] - 0s 6ms/step - loss: 0.5190 - accuracy: 0.7197 - val_loss: 0.5659 - val_accuracy: 0.7059\n",
            "Epoch 50/200\n",
            "17/17 [==============================] - 0s 6ms/step - loss: 0.5246 - accuracy: 0.7197 - val_loss: 0.5536 - val_accuracy: 0.7353\n",
            "Epoch 51/200\n",
            "17/17 [==============================] - 0s 6ms/step - loss: 0.5556 - accuracy: 0.7348 - val_loss: 0.5063 - val_accuracy: 0.7647\n",
            "Epoch 52/200\n",
            "17/17 [==============================] - 0s 7ms/step - loss: 0.5367 - accuracy: 0.7500 - val_loss: 0.5229 - val_accuracy: 0.7353\n",
            "Epoch 53/200\n",
            "17/17 [==============================] - 0s 6ms/step - loss: 0.4865 - accuracy: 0.8106 - val_loss: 0.5301 - val_accuracy: 0.7353\n",
            "Epoch 54/200\n",
            "17/17 [==============================] - 0s 6ms/step - loss: 0.5617 - accuracy: 0.6818 - val_loss: 0.5251 - val_accuracy: 0.7647\n",
            "Epoch 55/200\n",
            "17/17 [==============================] - 0s 7ms/step - loss: 0.5071 - accuracy: 0.7652 - val_loss: 0.5461 - val_accuracy: 0.7059\n",
            "Epoch 56/200\n",
            "17/17 [==============================] - 0s 7ms/step - loss: 0.4937 - accuracy: 0.7424 - val_loss: 0.5408 - val_accuracy: 0.7059\n",
            "Epoch 57/200\n",
            "17/17 [==============================] - 0s 7ms/step - loss: 0.4647 - accuracy: 0.8409 - val_loss: 0.4808 - val_accuracy: 0.7059\n",
            "Epoch 58/200\n",
            "17/17 [==============================] - 0s 6ms/step - loss: 0.5646 - accuracy: 0.7045 - val_loss: 0.4911 - val_accuracy: 0.7353\n",
            "Epoch 59/200\n",
            "17/17 [==============================] - 0s 6ms/step - loss: 0.5535 - accuracy: 0.6970 - val_loss: 0.5354 - val_accuracy: 0.7647\n",
            "Epoch 60/200\n",
            "17/17 [==============================] - 0s 6ms/step - loss: 0.4985 - accuracy: 0.7273 - val_loss: 0.5407 - val_accuracy: 0.7353\n",
            "Epoch 61/200\n",
            "17/17 [==============================] - 0s 6ms/step - loss: 0.5516 - accuracy: 0.7500 - val_loss: 0.5206 - val_accuracy: 0.7353\n",
            "Epoch 62/200\n",
            "17/17 [==============================] - 0s 7ms/step - loss: 0.5015 - accuracy: 0.7652 - val_loss: 0.5047 - val_accuracy: 0.7353\n",
            "Epoch 63/200\n",
            "17/17 [==============================] - 0s 6ms/step - loss: 0.5089 - accuracy: 0.7727 - val_loss: 0.4868 - val_accuracy: 0.7353\n",
            "Epoch 64/200\n",
            "17/17 [==============================] - 0s 6ms/step - loss: 0.4937 - accuracy: 0.7424 - val_loss: 0.5347 - val_accuracy: 0.7353\n",
            "Epoch 65/200\n",
            "17/17 [==============================] - 0s 6ms/step - loss: 0.5389 - accuracy: 0.7197 - val_loss: 0.5223 - val_accuracy: 0.7353\n",
            "Epoch 66/200\n",
            "17/17 [==============================] - 0s 7ms/step - loss: 0.5384 - accuracy: 0.7121 - val_loss: 0.5037 - val_accuracy: 0.7059\n",
            "Epoch 67/200\n",
            "17/17 [==============================] - 0s 6ms/step - loss: 0.5125 - accuracy: 0.7500 - val_loss: 0.5009 - val_accuracy: 0.7059\n",
            "Epoch 68/200\n",
            "17/17 [==============================] - 0s 6ms/step - loss: 0.5436 - accuracy: 0.7348 - val_loss: 0.4822 - val_accuracy: 0.7059\n",
            "Epoch 69/200\n",
            "17/17 [==============================] - 0s 6ms/step - loss: 0.5366 - accuracy: 0.7045 - val_loss: 0.5020 - val_accuracy: 0.7059\n",
            "Epoch 70/200\n",
            "17/17 [==============================] - 0s 6ms/step - loss: 0.5075 - accuracy: 0.7197 - val_loss: 0.5212 - val_accuracy: 0.7353\n",
            "Epoch 71/200\n",
            "17/17 [==============================] - 0s 7ms/step - loss: 0.5370 - accuracy: 0.7121 - val_loss: 0.5224 - val_accuracy: 0.7353\n",
            "Epoch 72/200\n",
            "17/17 [==============================] - 0s 7ms/step - loss: 0.5110 - accuracy: 0.7727 - val_loss: 0.5818 - val_accuracy: 0.7059\n",
            "Epoch 73/200\n",
            "17/17 [==============================] - 0s 7ms/step - loss: 0.4905 - accuracy: 0.7424 - val_loss: 0.5408 - val_accuracy: 0.7059\n",
            "Epoch 74/200\n",
            "17/17 [==============================] - 0s 7ms/step - loss: 0.4618 - accuracy: 0.7652 - val_loss: 0.4839 - val_accuracy: 0.7353\n",
            "Epoch 75/200\n",
            "17/17 [==============================] - 0s 7ms/step - loss: 0.4608 - accuracy: 0.7803 - val_loss: 0.4922 - val_accuracy: 0.7059\n",
            "Epoch 76/200\n",
            "17/17 [==============================] - 0s 6ms/step - loss: 0.4377 - accuracy: 0.7727 - val_loss: 0.5220 - val_accuracy: 0.7059\n",
            "Epoch 77/200\n",
            "17/17 [==============================] - 0s 7ms/step - loss: 0.5012 - accuracy: 0.7348 - val_loss: 0.5421 - val_accuracy: 0.7647\n",
            "Epoch 78/200\n",
            "17/17 [==============================] - 0s 6ms/step - loss: 0.4679 - accuracy: 0.7727 - val_loss: 0.5086 - val_accuracy: 0.7353\n",
            "Epoch 79/200\n",
            "17/17 [==============================] - 0s 6ms/step - loss: 0.4591 - accuracy: 0.7955 - val_loss: 0.4683 - val_accuracy: 0.7353\n",
            "Epoch 80/200\n",
            "17/17 [==============================] - 0s 7ms/step - loss: 0.5366 - accuracy: 0.7424 - val_loss: 0.5059 - val_accuracy: 0.7059\n",
            "Epoch 81/200\n",
            "17/17 [==============================] - 0s 7ms/step - loss: 0.5422 - accuracy: 0.7045 - val_loss: 0.4842 - val_accuracy: 0.7059\n",
            "Epoch 82/200\n",
            "17/17 [==============================] - 0s 6ms/step - loss: 0.5422 - accuracy: 0.7424 - val_loss: 0.4690 - val_accuracy: 0.7353\n",
            "Epoch 83/200\n",
            "17/17 [==============================] - 0s 6ms/step - loss: 0.4846 - accuracy: 0.7576 - val_loss: 0.4890 - val_accuracy: 0.6765\n",
            "Epoch 84/200\n",
            "17/17 [==============================] - 0s 7ms/step - loss: 0.4652 - accuracy: 0.7500 - val_loss: 0.4945 - val_accuracy: 0.6765\n",
            "Epoch 85/200\n",
            "17/17 [==============================] - 0s 6ms/step - loss: 0.4404 - accuracy: 0.7955 - val_loss: 0.5030 - val_accuracy: 0.7059\n",
            "Epoch 86/200\n",
            "17/17 [==============================] - 0s 7ms/step - loss: 0.4761 - accuracy: 0.7500 - val_loss: 0.4699 - val_accuracy: 0.7353\n",
            "Epoch 87/200\n",
            "17/17 [==============================] - 0s 6ms/step - loss: 0.4642 - accuracy: 0.7803 - val_loss: 0.4479 - val_accuracy: 0.7941\n",
            "Epoch 88/200\n",
            "17/17 [==============================] - 0s 6ms/step - loss: 0.5098 - accuracy: 0.7500 - val_loss: 0.4669 - val_accuracy: 0.7353\n",
            "Epoch 89/200\n",
            "17/17 [==============================] - 0s 6ms/step - loss: 0.5312 - accuracy: 0.7727 - val_loss: 0.4875 - val_accuracy: 0.7647\n",
            "Epoch 90/200\n",
            "17/17 [==============================] - 0s 6ms/step - loss: 0.4831 - accuracy: 0.7879 - val_loss: 0.4614 - val_accuracy: 0.7353\n",
            "Epoch 91/200\n",
            "17/17 [==============================] - 0s 6ms/step - loss: 0.5220 - accuracy: 0.7273 - val_loss: 0.4628 - val_accuracy: 0.7941\n",
            "Epoch 92/200\n",
            "17/17 [==============================] - 0s 6ms/step - loss: 0.5096 - accuracy: 0.7652 - val_loss: 0.4622 - val_accuracy: 0.7941\n",
            "Epoch 93/200\n",
            "17/17 [==============================] - 0s 6ms/step - loss: 0.5266 - accuracy: 0.6970 - val_loss: 0.4582 - val_accuracy: 0.7941\n",
            "Epoch 94/200\n",
            "17/17 [==============================] - 0s 6ms/step - loss: 0.5145 - accuracy: 0.7121 - val_loss: 0.4743 - val_accuracy: 0.7353\n",
            "Epoch 95/200\n",
            "17/17 [==============================] - 0s 7ms/step - loss: 0.4492 - accuracy: 0.7348 - val_loss: 0.4970 - val_accuracy: 0.7353\n",
            "Epoch 96/200\n",
            "17/17 [==============================] - 0s 6ms/step - loss: 0.4744 - accuracy: 0.7273 - val_loss: 0.4922 - val_accuracy: 0.7059\n",
            "Epoch 97/200\n",
            "17/17 [==============================] - 0s 7ms/step - loss: 0.5128 - accuracy: 0.7273 - val_loss: 0.4768 - val_accuracy: 0.7059\n",
            "Epoch 98/200\n",
            "17/17 [==============================] - 0s 6ms/step - loss: 0.4738 - accuracy: 0.7348 - val_loss: 0.4980 - val_accuracy: 0.7059\n",
            "Epoch 99/200\n",
            "17/17 [==============================] - 0s 7ms/step - loss: 0.4991 - accuracy: 0.7955 - val_loss: 0.5004 - val_accuracy: 0.7353\n",
            "Epoch 100/200\n",
            "17/17 [==============================] - 0s 6ms/step - loss: 0.4899 - accuracy: 0.8182 - val_loss: 0.4956 - val_accuracy: 0.7059\n",
            "Epoch 101/200\n",
            "17/17 [==============================] - 0s 6ms/step - loss: 0.4445 - accuracy: 0.7955 - val_loss: 0.4787 - val_accuracy: 0.7059\n",
            "Epoch 102/200\n",
            "17/17 [==============================] - 0s 6ms/step - loss: 0.5143 - accuracy: 0.7121 - val_loss: 0.5014 - val_accuracy: 0.7059\n",
            "Epoch 103/200\n",
            "17/17 [==============================] - 0s 7ms/step - loss: 0.5509 - accuracy: 0.7045 - val_loss: 0.4937 - val_accuracy: 0.7059\n",
            "Epoch 104/200\n",
            "17/17 [==============================] - 0s 6ms/step - loss: 0.4955 - accuracy: 0.7045 - val_loss: 0.4606 - val_accuracy: 0.7941\n",
            "Epoch 105/200\n",
            "17/17 [==============================] - 0s 6ms/step - loss: 0.4417 - accuracy: 0.7803 - val_loss: 0.4688 - val_accuracy: 0.7647\n",
            "Epoch 106/200\n",
            "17/17 [==============================] - 0s 6ms/step - loss: 0.4567 - accuracy: 0.7803 - val_loss: 0.4732 - val_accuracy: 0.7647\n",
            "Epoch 107/200\n",
            "17/17 [==============================] - 0s 6ms/step - loss: 0.4986 - accuracy: 0.7500 - val_loss: 0.4777 - val_accuracy: 0.7353\n",
            "Epoch 108/200\n",
            "17/17 [==============================] - 0s 6ms/step - loss: 0.4652 - accuracy: 0.7652 - val_loss: 0.4768 - val_accuracy: 0.7647\n",
            "Epoch 109/200\n",
            "17/17 [==============================] - 0s 6ms/step - loss: 0.4696 - accuracy: 0.7652 - val_loss: 0.4403 - val_accuracy: 0.7647\n",
            "Epoch 110/200\n",
            "17/17 [==============================] - 0s 7ms/step - loss: 0.3872 - accuracy: 0.8333 - val_loss: 0.4527 - val_accuracy: 0.7353\n",
            "Epoch 111/200\n",
            "17/17 [==============================] - 0s 6ms/step - loss: 0.3853 - accuracy: 0.8182 - val_loss: 0.4410 - val_accuracy: 0.7647\n",
            "Epoch 112/200\n",
            "17/17 [==============================] - 0s 7ms/step - loss: 0.4829 - accuracy: 0.7879 - val_loss: 0.4363 - val_accuracy: 0.7647\n",
            "Epoch 113/200\n",
            "17/17 [==============================] - 0s 7ms/step - loss: 0.4724 - accuracy: 0.7652 - val_loss: 0.4584 - val_accuracy: 0.7353\n",
            "Epoch 114/200\n",
            "17/17 [==============================] - 0s 6ms/step - loss: 0.5700 - accuracy: 0.6894 - val_loss: 0.4372 - val_accuracy: 0.8235\n",
            "Epoch 115/200\n",
            "17/17 [==============================] - 0s 6ms/step - loss: 0.4648 - accuracy: 0.7652 - val_loss: 0.4694 - val_accuracy: 0.7059\n",
            "Epoch 116/200\n",
            "17/17 [==============================] - 0s 7ms/step - loss: 0.4210 - accuracy: 0.8333 - val_loss: 0.4429 - val_accuracy: 0.7647\n",
            "Epoch 117/200\n",
            "17/17 [==============================] - 0s 7ms/step - loss: 0.4760 - accuracy: 0.7500 - val_loss: 0.4453 - val_accuracy: 0.7353\n",
            "Epoch 118/200\n",
            "17/17 [==============================] - 0s 7ms/step - loss: 0.4739 - accuracy: 0.7652 - val_loss: 0.4619 - val_accuracy: 0.7059\n",
            "Epoch 119/200\n",
            "17/17 [==============================] - 0s 6ms/step - loss: 0.4545 - accuracy: 0.7955 - val_loss: 0.4710 - val_accuracy: 0.7647\n",
            "Epoch 120/200\n",
            "17/17 [==============================] - 0s 7ms/step - loss: 0.4779 - accuracy: 0.7652 - val_loss: 0.4548 - val_accuracy: 0.7353\n",
            "Epoch 121/200\n",
            "17/17 [==============================] - 0s 6ms/step - loss: 0.4842 - accuracy: 0.7576 - val_loss: 0.4598 - val_accuracy: 0.7647\n",
            "Epoch 122/200\n",
            "17/17 [==============================] - 0s 6ms/step - loss: 0.4345 - accuracy: 0.8030 - val_loss: 0.4690 - val_accuracy: 0.7353\n",
            "Epoch 123/200\n",
            "17/17 [==============================] - 0s 6ms/step - loss: 0.4408 - accuracy: 0.7424 - val_loss: 0.4457 - val_accuracy: 0.7353\n",
            "Epoch 124/200\n",
            "17/17 [==============================] - 0s 6ms/step - loss: 0.4810 - accuracy: 0.7273 - val_loss: 0.4550 - val_accuracy: 0.7353\n",
            "Epoch 125/200\n",
            "17/17 [==============================] - 0s 7ms/step - loss: 0.4277 - accuracy: 0.7727 - val_loss: 0.4690 - val_accuracy: 0.6765\n",
            "Epoch 126/200\n",
            "17/17 [==============================] - 0s 6ms/step - loss: 0.4432 - accuracy: 0.7879 - val_loss: 0.4697 - val_accuracy: 0.6471\n",
            "Epoch 127/200\n",
            "17/17 [==============================] - 0s 6ms/step - loss: 0.4570 - accuracy: 0.8106 - val_loss: 0.4909 - val_accuracy: 0.7059\n",
            "Epoch 128/200\n",
            "17/17 [==============================] - 0s 7ms/step - loss: 0.3933 - accuracy: 0.7803 - val_loss: 0.4587 - val_accuracy: 0.6765\n",
            "Epoch 129/200\n",
            "17/17 [==============================] - 0s 6ms/step - loss: 0.4357 - accuracy: 0.7727 - val_loss: 0.4658 - val_accuracy: 0.6765\n",
            "Epoch 130/200\n",
            "17/17 [==============================] - 0s 6ms/step - loss: 0.4731 - accuracy: 0.7652 - val_loss: 0.4499 - val_accuracy: 0.7941\n",
            "Epoch 131/200\n",
            "17/17 [==============================] - 0s 7ms/step - loss: 0.4767 - accuracy: 0.7652 - val_loss: 0.4558 - val_accuracy: 0.7647\n",
            "Epoch 132/200\n",
            "17/17 [==============================] - 0s 7ms/step - loss: 0.4978 - accuracy: 0.7727 - val_loss: 0.4568 - val_accuracy: 0.7941\n",
            "Epoch 133/200\n",
            "17/17 [==============================] - 0s 6ms/step - loss: 0.4539 - accuracy: 0.7803 - val_loss: 0.4603 - val_accuracy: 0.7647\n",
            "Epoch 134/200\n",
            "17/17 [==============================] - 0s 6ms/step - loss: 0.5120 - accuracy: 0.7121 - val_loss: 0.4590 - val_accuracy: 0.7941\n",
            "Epoch 135/200\n",
            "17/17 [==============================] - 0s 6ms/step - loss: 0.4744 - accuracy: 0.7803 - val_loss: 0.4714 - val_accuracy: 0.7941\n",
            "Epoch 136/200\n",
            "17/17 [==============================] - 0s 6ms/step - loss: 0.4174 - accuracy: 0.8030 - val_loss: 0.4528 - val_accuracy: 0.7941\n",
            "Epoch 137/200\n",
            "17/17 [==============================] - 0s 7ms/step - loss: 0.4776 - accuracy: 0.7652 - val_loss: 0.4731 - val_accuracy: 0.7353\n",
            "Epoch 138/200\n",
            "17/17 [==============================] - 0s 7ms/step - loss: 0.4127 - accuracy: 0.8106 - val_loss: 0.4522 - val_accuracy: 0.7647\n",
            "Epoch 139/200\n",
            "17/17 [==============================] - 0s 7ms/step - loss: 0.4651 - accuracy: 0.7045 - val_loss: 0.4421 - val_accuracy: 0.8235\n",
            "Epoch 140/200\n",
            "17/17 [==============================] - 0s 7ms/step - loss: 0.4197 - accuracy: 0.8030 - val_loss: 0.4429 - val_accuracy: 0.7941\n",
            "Epoch 141/200\n",
            "17/17 [==============================] - 0s 6ms/step - loss: 0.4197 - accuracy: 0.7803 - val_loss: 0.4462 - val_accuracy: 0.7941\n",
            "Epoch 142/200\n",
            "17/17 [==============================] - 0s 7ms/step - loss: 0.4453 - accuracy: 0.8106 - val_loss: 0.4437 - val_accuracy: 0.7353\n",
            "Epoch 143/200\n",
            "17/17 [==============================] - 0s 7ms/step - loss: 0.4493 - accuracy: 0.7879 - val_loss: 0.4506 - val_accuracy: 0.7647\n",
            "Epoch 144/200\n",
            "17/17 [==============================] - 0s 7ms/step - loss: 0.3777 - accuracy: 0.8258 - val_loss: 0.4406 - val_accuracy: 0.7647\n",
            "Epoch 145/200\n",
            "17/17 [==============================] - 0s 6ms/step - loss: 0.4297 - accuracy: 0.8182 - val_loss: 0.4257 - val_accuracy: 0.8235\n",
            "Epoch 146/200\n",
            "17/17 [==============================] - 0s 7ms/step - loss: 0.4945 - accuracy: 0.7576 - val_loss: 0.4474 - val_accuracy: 0.7647\n",
            "Epoch 147/200\n",
            "17/17 [==============================] - 0s 7ms/step - loss: 0.4663 - accuracy: 0.7727 - val_loss: 0.4356 - val_accuracy: 0.8529\n",
            "Epoch 148/200\n",
            "17/17 [==============================] - 0s 6ms/step - loss: 0.4804 - accuracy: 0.7803 - val_loss: 0.4389 - val_accuracy: 0.8529\n",
            "Epoch 149/200\n",
            "17/17 [==============================] - 0s 6ms/step - loss: 0.4672 - accuracy: 0.7348 - val_loss: 0.4661 - val_accuracy: 0.7353\n",
            "Epoch 150/200\n",
            "17/17 [==============================] - 0s 8ms/step - loss: 0.5020 - accuracy: 0.7652 - val_loss: 0.4650 - val_accuracy: 0.7647\n",
            "Epoch 151/200\n",
            "17/17 [==============================] - 0s 7ms/step - loss: 0.3828 - accuracy: 0.8333 - val_loss: 0.4450 - val_accuracy: 0.7647\n",
            "Epoch 152/200\n",
            "17/17 [==============================] - 0s 6ms/step - loss: 0.5107 - accuracy: 0.7273 - val_loss: 0.4454 - val_accuracy: 0.7647\n",
            "Epoch 153/200\n",
            "17/17 [==============================] - 0s 6ms/step - loss: 0.4510 - accuracy: 0.7955 - val_loss: 0.4559 - val_accuracy: 0.7353\n",
            "Epoch 154/200\n",
            "17/17 [==============================] - 0s 6ms/step - loss: 0.4560 - accuracy: 0.7727 - val_loss: 0.4536 - val_accuracy: 0.7647\n",
            "Epoch 155/200\n",
            "17/17 [==============================] - 0s 7ms/step - loss: 0.4523 - accuracy: 0.7955 - val_loss: 0.4495 - val_accuracy: 0.7941\n",
            "Epoch 156/200\n",
            "17/17 [==============================] - 0s 6ms/step - loss: 0.4534 - accuracy: 0.7955 - val_loss: 0.5040 - val_accuracy: 0.7059\n",
            "Epoch 157/200\n",
            "17/17 [==============================] - 0s 7ms/step - loss: 0.4597 - accuracy: 0.7727 - val_loss: 0.4669 - val_accuracy: 0.7647\n",
            "Epoch 158/200\n",
            "17/17 [==============================] - 0s 7ms/step - loss: 0.4719 - accuracy: 0.7652 - val_loss: 0.4382 - val_accuracy: 0.7941\n",
            "Epoch 159/200\n",
            "17/17 [==============================] - 0s 6ms/step - loss: 0.4428 - accuracy: 0.7803 - val_loss: 0.4353 - val_accuracy: 0.8235\n",
            "Epoch 160/200\n",
            "17/17 [==============================] - 0s 6ms/step - loss: 0.4712 - accuracy: 0.7652 - val_loss: 0.4504 - val_accuracy: 0.8235\n",
            "Epoch 161/200\n",
            "17/17 [==============================] - 0s 7ms/step - loss: 0.5235 - accuracy: 0.7197 - val_loss: 0.4464 - val_accuracy: 0.7941\n",
            "Epoch 162/200\n",
            "17/17 [==============================] - 0s 6ms/step - loss: 0.4815 - accuracy: 0.7348 - val_loss: 0.4772 - val_accuracy: 0.7353\n",
            "Epoch 163/200\n",
            "17/17 [==============================] - 0s 7ms/step - loss: 0.4411 - accuracy: 0.7955 - val_loss: 0.4772 - val_accuracy: 0.7353\n",
            "Epoch 164/200\n",
            "17/17 [==============================] - 0s 7ms/step - loss: 0.4506 - accuracy: 0.7955 - val_loss: 0.4672 - val_accuracy: 0.7353\n",
            "Epoch 165/200\n",
            "17/17 [==============================] - 0s 6ms/step - loss: 0.4511 - accuracy: 0.7955 - val_loss: 0.4673 - val_accuracy: 0.7353\n",
            "Epoch 166/200\n",
            "17/17 [==============================] - 0s 6ms/step - loss: 0.4695 - accuracy: 0.7576 - val_loss: 0.4590 - val_accuracy: 0.7353\n",
            "Epoch 167/200\n",
            "17/17 [==============================] - 0s 7ms/step - loss: 0.4523 - accuracy: 0.7727 - val_loss: 0.4301 - val_accuracy: 0.7941\n",
            "Epoch 168/200\n",
            "17/17 [==============================] - 0s 6ms/step - loss: 0.4065 - accuracy: 0.8030 - val_loss: 0.4408 - val_accuracy: 0.8235\n",
            "Epoch 169/200\n",
            "17/17 [==============================] - 0s 7ms/step - loss: 0.3994 - accuracy: 0.8030 - val_loss: 0.4370 - val_accuracy: 0.7353\n",
            "Epoch 170/200\n",
            "17/17 [==============================] - 0s 7ms/step - loss: 0.4482 - accuracy: 0.8106 - val_loss: 0.4579 - val_accuracy: 0.7059\n",
            "Epoch 171/200\n",
            "17/17 [==============================] - 0s 6ms/step - loss: 0.4135 - accuracy: 0.8182 - val_loss: 0.4843 - val_accuracy: 0.7353\n",
            "Epoch 172/200\n",
            "17/17 [==============================] - 0s 6ms/step - loss: 0.4051 - accuracy: 0.8030 - val_loss: 0.4481 - val_accuracy: 0.7059\n",
            "Epoch 173/200\n",
            "17/17 [==============================] - 0s 7ms/step - loss: 0.4550 - accuracy: 0.8182 - val_loss: 0.4352 - val_accuracy: 0.7941\n",
            "Epoch 174/200\n",
            "17/17 [==============================] - 0s 6ms/step - loss: 0.4456 - accuracy: 0.8030 - val_loss: 0.4361 - val_accuracy: 0.7941\n",
            "Epoch 175/200\n",
            "17/17 [==============================] - 0s 7ms/step - loss: 0.4689 - accuracy: 0.7500 - val_loss: 0.4632 - val_accuracy: 0.7059\n",
            "Epoch 176/200\n",
            "17/17 [==============================] - 0s 7ms/step - loss: 0.4754 - accuracy: 0.7652 - val_loss: 0.4840 - val_accuracy: 0.7353\n",
            "Epoch 177/200\n",
            "17/17 [==============================] - 0s 7ms/step - loss: 0.4437 - accuracy: 0.7500 - val_loss: 0.4752 - val_accuracy: 0.7353\n",
            "Epoch 178/200\n",
            "17/17 [==============================] - 0s 6ms/step - loss: 0.3812 - accuracy: 0.7879 - val_loss: 0.4736 - val_accuracy: 0.7059\n",
            "Epoch 179/200\n",
            "17/17 [==============================] - 0s 6ms/step - loss: 0.4746 - accuracy: 0.7652 - val_loss: 0.4458 - val_accuracy: 0.8529\n",
            "Epoch 180/200\n",
            "17/17 [==============================] - 0s 8ms/step - loss: 0.3553 - accuracy: 0.8333 - val_loss: 0.4334 - val_accuracy: 0.8235\n",
            "Epoch 181/200\n",
            "17/17 [==============================] - 0s 7ms/step - loss: 0.4285 - accuracy: 0.7955 - val_loss: 0.4249 - val_accuracy: 0.8529\n",
            "Epoch 182/200\n",
            "17/17 [==============================] - 0s 6ms/step - loss: 0.3742 - accuracy: 0.8182 - val_loss: 0.4484 - val_accuracy: 0.7647\n",
            "Epoch 183/200\n",
            "17/17 [==============================] - 0s 7ms/step - loss: 0.4490 - accuracy: 0.7955 - val_loss: 0.4448 - val_accuracy: 0.7647\n",
            "Epoch 184/200\n",
            "17/17 [==============================] - 0s 7ms/step - loss: 0.4395 - accuracy: 0.7955 - val_loss: 0.4375 - val_accuracy: 0.8235\n",
            "Epoch 185/200\n",
            "17/17 [==============================] - 0s 7ms/step - loss: 0.4037 - accuracy: 0.7424 - val_loss: 0.4577 - val_accuracy: 0.7941\n",
            "Epoch 186/200\n",
            "17/17 [==============================] - 0s 6ms/step - loss: 0.3745 - accuracy: 0.8409 - val_loss: 0.4282 - val_accuracy: 0.7941\n",
            "Epoch 187/200\n",
            "17/17 [==============================] - 0s 7ms/step - loss: 0.4749 - accuracy: 0.7348 - val_loss: 0.4278 - val_accuracy: 0.7941\n",
            "Epoch 188/200\n",
            "17/17 [==============================] - 0s 7ms/step - loss: 0.4125 - accuracy: 0.8106 - val_loss: 0.4354 - val_accuracy: 0.8235\n",
            "Epoch 189/200\n",
            "17/17 [==============================] - 0s 6ms/step - loss: 0.4483 - accuracy: 0.7955 - val_loss: 0.4579 - val_accuracy: 0.7647\n",
            "Epoch 190/200\n",
            "17/17 [==============================] - 0s 7ms/step - loss: 0.4172 - accuracy: 0.8030 - val_loss: 0.4499 - val_accuracy: 0.7941\n",
            "Epoch 191/200\n",
            "17/17 [==============================] - 0s 7ms/step - loss: 0.4549 - accuracy: 0.7879 - val_loss: 0.4398 - val_accuracy: 0.7941\n",
            "Epoch 192/200\n",
            "17/17 [==============================] - 0s 6ms/step - loss: 0.4244 - accuracy: 0.7652 - val_loss: 0.4313 - val_accuracy: 0.8529\n",
            "Epoch 193/200\n",
            "17/17 [==============================] - 0s 7ms/step - loss: 0.4724 - accuracy: 0.7727 - val_loss: 0.4212 - val_accuracy: 0.7941\n",
            "Epoch 194/200\n",
            "17/17 [==============================] - 0s 7ms/step - loss: 0.3420 - accuracy: 0.8636 - val_loss: 0.4315 - val_accuracy: 0.8529\n",
            "Epoch 195/200\n",
            "17/17 [==============================] - 0s 6ms/step - loss: 0.4307 - accuracy: 0.7652 - val_loss: 0.4492 - val_accuracy: 0.8235\n",
            "Epoch 196/200\n",
            "17/17 [==============================] - 0s 7ms/step - loss: 0.4769 - accuracy: 0.7576 - val_loss: 0.4176 - val_accuracy: 0.8235\n",
            "Epoch 197/200\n",
            "17/17 [==============================] - 0s 7ms/step - loss: 0.4184 - accuracy: 0.8258 - val_loss: 0.4316 - val_accuracy: 0.8235\n",
            "Epoch 198/200\n",
            "17/17 [==============================] - 0s 6ms/step - loss: 0.3781 - accuracy: 0.8258 - val_loss: 0.4416 - val_accuracy: 0.8235\n",
            "Epoch 199/200\n",
            "17/17 [==============================] - 0s 6ms/step - loss: 0.3736 - accuracy: 0.8409 - val_loss: 0.4665 - val_accuracy: 0.7647\n",
            "Epoch 200/200\n",
            "17/17 [==============================] - 0s 7ms/step - loss: 0.4234 - accuracy: 0.8030 - val_loss: 0.4446 - val_accuracy: 0.7941\n"
          ]
        }
      ]
    },
    {
      "cell_type": "markdown",
      "metadata": {
        "id": "BerlQ8-VH_pr"
      },
      "source": [
        "Результаты показывают, что даже после **200** эпох точность на обучающей выборке\n",
        "остановилось на **85%**. Переобучения нет."
      ]
    },
    {
      "cell_type": "code",
      "metadata": {
        "colab": {
          "base_uri": "https://localhost:8080/"
        },
        "id": "48EpZ0geI3aj",
        "outputId": "328ca449-45bb-4a76-8d05-6cbed036d130"
      },
      "source": [
        "# Краткая сводка архитектуры модели\n",
        "model.summary()"
      ],
      "execution_count": null,
      "outputs": [
        {
          "output_type": "stream",
          "name": "stdout",
          "text": [
            "Model: \"sequential_3\"\n",
            "_________________________________________________________________\n",
            " Layer (type)                Output Shape              Param #   \n",
            "=================================================================\n",
            " dropout (Dropout)           (None, 60)                0         \n",
            "                                                                 \n",
            " dense_9 (Dense)             (None, 60)                3660      \n",
            "                                                                 \n",
            " dropout_1 (Dropout)         (None, 60)                0         \n",
            "                                                                 \n",
            " dense_10 (Dense)            (None, 30)                1830      \n",
            "                                                                 \n",
            " dropout_2 (Dropout)         (None, 30)                0         \n",
            "                                                                 \n",
            " dense_11 (Dense)            (None, 1)                 31        \n",
            "                                                                 \n",
            "=================================================================\n",
            "Total params: 5,521\n",
            "Trainable params: 5,521\n",
            "Non-trainable params: 0\n",
            "_________________________________________________________________\n"
          ]
        }
      ]
    },
    {
      "cell_type": "code",
      "metadata": {
        "colab": {
          "base_uri": "https://localhost:8080/",
          "height": 279
        },
        "id": "4rWqUfM5dLCV",
        "outputId": "c32407c4-73fc-4436-8eaf-9f9b34915f2b"
      },
      "source": [
        "# Отрисовка графика точности на обучающей выборке\n",
        "# label - имя графика в легенде\n",
        "plt.plot(history.history['accuracy'],\n",
        "         label='Доля верных ответов на обучающем наборе')\n",
        "\n",
        "# Отрисовка графика точности на проверочной выборке\n",
        "plt.plot(history.history['val_accuracy'],\n",
        "         label='Доля верных ответов на проверочном наборе')\n",
        "\n",
        "# Отрисовка подписей осей\n",
        "plt.xlabel('Эпоха обучения')\n",
        "plt.ylabel('Доля верных ответов')\n",
        "\n",
        "# Отрисовка легенду\n",
        "plt.legend()\n",
        "\n",
        "# Вывод графика\n",
        "plt.show()"
      ],
      "execution_count": null,
      "outputs": [
        {
          "output_type": "display_data",
          "data": {
            "text/plain": [
              "<Figure size 432x288 with 1 Axes>"
            ],
            "image/png": "[encoded data removed]"
          },
          "metadata": {
            "needs_background": "light"
          }
        }
      ]
    },
    {
      "cell_type": "code",
      "metadata": {
        "colab": {
          "base_uri": "https://localhost:8080/",
          "height": 279
        },
        "id": "PrEPS996dLCW",
        "outputId": "e2f8d676-af1b-4253-848c-935b0bc85d3e"
      },
      "source": [
        "# Вывод графика ошибки\n",
        "plt.plot(history.history['loss'],\n",
        "         label='Ошибка на обучающем наборе')\n",
        "plt.plot(history.history['val_loss'],\n",
        "         label='Ошибка на проверочном наборе')\n",
        "plt.xlabel('Эпоха обучения')\n",
        "plt.ylabel('Ошибка')\n",
        "plt.legend()\n",
        "plt.show()"
      ],
      "execution_count": null,
      "outputs": [
        {
          "output_type": "display_data",
          "data": {
            "text/plain": [
              "<Figure size 432x288 with 1 Axes>"
            ],
            "image/png": "[encoded data removed]"
          },
          "metadata": {
            "needs_background": "light"
          }
        }
      ]
    },
    {
      "cell_type": "markdown",
      "metadata": {
        "id": "9uuHvusTJd9U"
      },
      "source": [
        "Оба графика подтверждают, что переобучения больше нет."
      ]
    },
    {
      "cell_type": "code",
      "metadata": {
        "colab": {
          "base_uri": "https://localhost:8080/"
        },
        "id": "f8AGGXr3DXGa",
        "outputId": "e8fe652a-436c-4294-8b55-6f08c7cc3869"
      },
      "source": [
        "# Вычисление результата (предсказания) сети на тестовом наборе\n",
        "scores = model.evaluate(x_test, y_test, verbose=1)\n",
        "\n",
        "print(scores)\n",
        "print('Доля верных ответов на тестовых данных, в процентах: {:7.4%}'.format(scores[1]))"
      ],
      "execution_count": null,
      "outputs": [
        {
          "output_type": "stream",
          "name": "stdout",
          "text": [
            "2/2 [==============================] - 0s 7ms/step - loss: 0.3712 - accuracy: 0.9048\n",
            "[0.37116172909736633, 0.9047619104385376]\n",
            "Доля верных ответов на тестовых данных, в процентах: 90.4762%\n"
          ]
        }
      ]
    },
    {
      "cell_type": "markdown",
      "metadata": {
        "id": "QMJVeYylJ6rS"
      },
      "source": [
        "Теперь проверка НС на тестовом наборе показала, что точность выросла почти на **4%** и приблизилась к отметке в **90%**."
      ]
    },
    {
      "cell_type": "markdown",
      "metadata": {
        "id": "3rDAPx24qc6E"
      },
      "source": [
        "### Слой BatchNormalization\n"
      ]
    },
    {
      "cell_type": "code",
      "metadata": {
        "colab": {
          "base_uri": "https://localhost:8080/",
          "height": 1000
        },
        "id": "ZJrUWd_JsJXQ",
        "outputId": "c7800453-7f94-4458-df7e-405a89f4d7de"
      },
      "source": [
        "model = Sequential()\n",
        "\n",
        "model.add(BatchNormalization(input_shape=(x_train.shape[1], )))\n",
        "model.add(Dense(60, activation='relu'))\n",
        "model.add(BatchNormalization())\n",
        "model.add(Dense(30, activation='relu'))\n",
        "model.add(Dense(1, activation='sigmoid'))\n",
        "\n",
        "model.compile(loss='binary_crossentropy',\n",
        "              optimizer=Adam(learning_rate=0.001),\n",
        "              metrics=['accuracy'])\n",
        "\n",
        "history = model.fit(x_train,\n",
        "                    y_train,\n",
        "                    batch_size=200,\n",
        "                    epochs=100,\n",
        "                    validation_split=0.2,\n",
        "                    verbose=1)\n",
        "\n",
        "plt.plot(history.history['accuracy'],\n",
        "         label='Доля верных ответов на обучающем наборе')\n",
        "plt.plot(history.history['val_accuracy'],\n",
        "         label='Доля верных ответов на проверочном наборе')\n",
        "plt.xlabel('Эпоха обучения')\n",
        "plt.ylabel('Доля верных ответов')\n",
        "plt.legend()\n",
        "plt.show()\n",
        "\n",
        "plt.plot(history.history['loss'],\n",
        "         label='Ошибка на обучающем наборе')\n",
        "plt.plot(history.history['val_loss'],\n",
        "         label='Ошибка на проверочном наборе')\n",
        "plt.xlabel('Эпоха обучения')\n",
        "plt.ylabel('Ошибка')\n",
        "plt.legend()\n",
        "plt.show()"
      ],
      "execution_count": null,
      "outputs": [
        {
          "output_type": "stream",
          "name": "stdout",
          "text": [
            "Epoch 1/100\n",
            "1/1 [==============================] - 1s 1s/step - loss: 0.7771 - accuracy: 0.5455 - val_loss: 0.6717 - val_accuracy: 0.7059\n",
            "Epoch 2/100\n",
            "1/1 [==============================] - 0s 36ms/step - loss: 0.7189 - accuracy: 0.5682 - val_loss: 0.6696 - val_accuracy: 0.6765\n",
            "Epoch 3/100\n",
            "1/1 [==============================] - 0s 38ms/step - loss: 0.6667 - accuracy: 0.6136 - val_loss: 0.6674 - val_accuracy: 0.6765\n",
            "Epoch 4/100\n",
            "1/1 [==============================] - 0s 61ms/step - loss: 0.6197 - accuracy: 0.6742 - val_loss: 0.6652 - val_accuracy: 0.6765\n",
            "Epoch 5/100\n",
            "1/1 [==============================] - 0s 34ms/step - loss: 0.5775 - accuracy: 0.7121 - val_loss: 0.6630 - val_accuracy: 0.7059\n",
            "Epoch 6/100\n",
            "1/1 [==============================] - 0s 33ms/step - loss: 0.5395 - accuracy: 0.7424 - val_loss: 0.6607 - val_accuracy: 0.7353\n",
            "Epoch 7/100\n",
            "1/1 [==============================] - 0s 38ms/step - loss: 0.5055 - accuracy: 0.7652 - val_loss: 0.6582 - val_accuracy: 0.7647\n",
            "Epoch 8/100\n",
            "1/1 [==============================] - 0s 34ms/step - loss: 0.4753 - accuracy: 0.7955 - val_loss: 0.6554 - val_accuracy: 0.7647\n",
            "Epoch 9/100\n",
            "1/1 [==============================] - 0s 37ms/step - loss: 0.4480 - accuracy: 0.8182 - val_loss: 0.6525 - val_accuracy: 0.7647\n",
            "Epoch 10/100\n",
            "1/1 [==============================] - 0s 35ms/step - loss: 0.4234 - accuracy: 0.8258 - val_loss: 0.6496 - val_accuracy: 0.7647\n",
            "Epoch 11/100\n",
            "1/1 [==============================] - 0s 34ms/step - loss: 0.4009 - accuracy: 0.8409 - val_loss: 0.6465 - val_accuracy: 0.7647\n",
            "Epoch 12/100\n",
            "1/1 [==============================] - 0s 38ms/step - loss: 0.3802 - accuracy: 0.8485 - val_loss: 0.6434 - val_accuracy: 0.7647\n",
            "Epoch 13/100\n",
            "1/1 [==============================] - 0s 40ms/step - loss: 0.3613 - accuracy: 0.8561 - val_loss: 0.6403 - val_accuracy: 0.7647\n",
            "Epoch 14/100\n",
            "1/1 [==============================] - 0s 38ms/step - loss: 0.3440 - accuracy: 0.8864 - val_loss: 0.6370 - val_accuracy: 0.7647\n",
            "Epoch 15/100\n",
            "1/1 [==============================] - 0s 37ms/step - loss: 0.3281 - accuracy: 0.8939 - val_loss: 0.6337 - val_accuracy: 0.7647\n",
            "Epoch 16/100\n",
            "1/1 [==============================] - 0s 39ms/step - loss: 0.3137 - accuracy: 0.9091 - val_loss: 0.6303 - val_accuracy: 0.7353\n",
            "Epoch 17/100\n",
            "1/1 [==============================] - 0s 35ms/step - loss: 0.3002 - accuracy: 0.9318 - val_loss: 0.6268 - val_accuracy: 0.7353\n",
            "Epoch 18/100\n",
            "1/1 [==============================] - 0s 35ms/step - loss: 0.2874 - accuracy: 0.9394 - val_loss: 0.6233 - val_accuracy: 0.7353\n",
            "Epoch 19/100\n",
            "1/1 [==============================] - 0s 48ms/step - loss: 0.2754 - accuracy: 0.9394 - val_loss: 0.6200 - val_accuracy: 0.7353\n",
            "Epoch 20/100\n",
            "1/1 [==============================] - 0s 35ms/step - loss: 0.2640 - accuracy: 0.9394 - val_loss: 0.6166 - val_accuracy: 0.7353\n",
            "Epoch 21/100\n",
            "1/1 [==============================] - 0s 34ms/step - loss: 0.2535 - accuracy: 0.9470 - val_loss: 0.6133 - val_accuracy: 0.7353\n",
            "Epoch 22/100\n",
            "1/1 [==============================] - 0s 37ms/step - loss: 0.2436 - accuracy: 0.9470 - val_loss: 0.6100 - val_accuracy: 0.7353\n",
            "Epoch 23/100\n",
            "1/1 [==============================] - 0s 36ms/step - loss: 0.2342 - accuracy: 0.9470 - val_loss: 0.6066 - val_accuracy: 0.7353\n",
            "Epoch 24/100\n",
            "1/1 [==============================] - 0s 35ms/step - loss: 0.2254 - accuracy: 0.9545 - val_loss: 0.6034 - val_accuracy: 0.7353\n",
            "Epoch 25/100\n",
            "1/1 [==============================] - 0s 40ms/step - loss: 0.2170 - accuracy: 0.9545 - val_loss: 0.6001 - val_accuracy: 0.7353\n",
            "Epoch 26/100\n",
            "1/1 [==============================] - 0s 36ms/step - loss: 0.2090 - accuracy: 0.9545 - val_loss: 0.5970 - val_accuracy: 0.7647\n",
            "Epoch 27/100\n",
            "1/1 [==============================] - 0s 36ms/step - loss: 0.2014 - accuracy: 0.9545 - val_loss: 0.5937 - val_accuracy: 0.7647\n",
            "Epoch 28/100\n",
            "1/1 [==============================] - 0s 43ms/step - loss: 0.1941 - accuracy: 0.9545 - val_loss: 0.5904 - val_accuracy: 0.7647\n",
            "Epoch 29/100\n",
            "1/1 [==============================] - 0s 52ms/step - loss: 0.1870 - accuracy: 0.9545 - val_loss: 0.5871 - val_accuracy: 0.7647\n",
            "Epoch 30/100\n",
            "1/1 [==============================] - 0s 39ms/step - loss: 0.1801 - accuracy: 0.9545 - val_loss: 0.5839 - val_accuracy: 0.7647\n",
            "Epoch 31/100\n",
            "1/1 [==============================] - 0s 37ms/step - loss: 0.1736 - accuracy: 0.9621 - val_loss: 0.5807 - val_accuracy: 0.7647\n",
            "Epoch 32/100\n",
            "1/1 [==============================] - 0s 39ms/step - loss: 0.1675 - accuracy: 0.9697 - val_loss: 0.5776 - val_accuracy: 0.7647\n",
            "Epoch 33/100\n",
            "1/1 [==============================] - 0s 35ms/step - loss: 0.1617 - accuracy: 0.9697 - val_loss: 0.5746 - val_accuracy: 0.7647\n",
            "Epoch 34/100\n",
            "1/1 [==============================] - 0s 45ms/step - loss: 0.1560 - accuracy: 0.9773 - val_loss: 0.5717 - val_accuracy: 0.7647\n",
            "Epoch 35/100\n",
            "1/1 [==============================] - 0s 42ms/step - loss: 0.1506 - accuracy: 0.9773 - val_loss: 0.5688 - val_accuracy: 0.7647\n",
            "Epoch 36/100\n",
            "1/1 [==============================] - 0s 39ms/step - loss: 0.1453 - accuracy: 0.9848 - val_loss: 0.5661 - val_accuracy: 0.7647\n",
            "Epoch 37/100\n",
            "1/1 [==============================] - 0s 40ms/step - loss: 0.1402 - accuracy: 0.9924 - val_loss: 0.5634 - val_accuracy: 0.7647\n",
            "Epoch 38/100\n",
            "1/1 [==============================] - 0s 37ms/step - loss: 0.1353 - accuracy: 0.9924 - val_loss: 0.5609 - val_accuracy: 0.7647\n",
            "Epoch 39/100\n",
            "1/1 [==============================] - 0s 34ms/step - loss: 0.1306 - accuracy: 0.9924 - val_loss: 0.5584 - val_accuracy: 0.7647\n",
            "Epoch 40/100\n",
            "1/1 [==============================] - 0s 47ms/step - loss: 0.1261 - accuracy: 0.9924 - val_loss: 0.5561 - val_accuracy: 0.7647\n",
            "Epoch 41/100\n",
            "1/1 [==============================] - 0s 36ms/step - loss: 0.1217 - accuracy: 0.9924 - val_loss: 0.5538 - val_accuracy: 0.7647\n",
            "Epoch 42/100\n",
            "1/1 [==============================] - 0s 44ms/step - loss: 0.1175 - accuracy: 0.9924 - val_loss: 0.5516 - val_accuracy: 0.7647\n",
            "Epoch 43/100\n",
            "1/1 [==============================] - 0s 36ms/step - loss: 0.1135 - accuracy: 0.9924 - val_loss: 0.5493 - val_accuracy: 0.7647\n",
            "Epoch 44/100\n",
            "1/1 [==============================] - 0s 36ms/step - loss: 0.1095 - accuracy: 0.9924 - val_loss: 0.5472 - val_accuracy: 0.7647\n",
            "Epoch 45/100\n",
            "1/1 [==============================] - 0s 39ms/step - loss: 0.1057 - accuracy: 0.9924 - val_loss: 0.5452 - val_accuracy: 0.7647\n",
            "Epoch 46/100\n",
            "1/1 [==============================] - 0s 40ms/step - loss: 0.1020 - accuracy: 0.9924 - val_loss: 0.5433 - val_accuracy: 0.7647\n",
            "Epoch 47/100\n",
            "1/1 [==============================] - 0s 54ms/step - loss: 0.0984 - accuracy: 0.9924 - val_loss: 0.5414 - val_accuracy: 0.7647\n",
            "Epoch 48/100\n",
            "1/1 [==============================] - 0s 38ms/step - loss: 0.0950 - accuracy: 0.9924 - val_loss: 0.5396 - val_accuracy: 0.7647\n",
            "Epoch 49/100\n",
            "1/1 [==============================] - 0s 34ms/step - loss: 0.0918 - accuracy: 0.9924 - val_loss: 0.5379 - val_accuracy: 0.7647\n",
            "Epoch 50/100\n",
            "1/1 [==============================] - 0s 35ms/step - loss: 0.0887 - accuracy: 0.9924 - val_loss: 0.5364 - val_accuracy: 0.7647\n",
            "Epoch 51/100\n",
            "1/1 [==============================] - 0s 39ms/step - loss: 0.0857 - accuracy: 0.9924 - val_loss: 0.5349 - val_accuracy: 0.7647\n",
            "Epoch 52/100\n",
            "1/1 [==============================] - 0s 35ms/step - loss: 0.0828 - accuracy: 1.0000 - val_loss: 0.5336 - val_accuracy: 0.7647\n",
            "Epoch 53/100\n",
            "1/1 [==============================] - 0s 35ms/step - loss: 0.0800 - accuracy: 1.0000 - val_loss: 0.5324 - val_accuracy: 0.7647\n",
            "Epoch 54/100\n",
            "1/1 [==============================] - 0s 35ms/step - loss: 0.0773 - accuracy: 1.0000 - val_loss: 0.5312 - val_accuracy: 0.7647\n",
            "Epoch 55/100\n",
            "1/1 [==============================] - 0s 38ms/step - loss: 0.0746 - accuracy: 1.0000 - val_loss: 0.5301 - val_accuracy: 0.7647\n",
            "Epoch 56/100\n",
            "1/1 [==============================] - 0s 42ms/step - loss: 0.0721 - accuracy: 1.0000 - val_loss: 0.5291 - val_accuracy: 0.7647\n",
            "Epoch 57/100\n",
            "1/1 [==============================] - 0s 52ms/step - loss: 0.0697 - accuracy: 1.0000 - val_loss: 0.5282 - val_accuracy: 0.7647\n",
            "Epoch 58/100\n",
            "1/1 [==============================] - 0s 34ms/step - loss: 0.0674 - accuracy: 1.0000 - val_loss: 0.5274 - val_accuracy: 0.7647\n",
            "Epoch 59/100\n",
            "1/1 [==============================] - 0s 35ms/step - loss: 0.0652 - accuracy: 1.0000 - val_loss: 0.5265 - val_accuracy: 0.7647\n",
            "Epoch 60/100\n",
            "1/1 [==============================] - 0s 34ms/step - loss: 0.0631 - accuracy: 1.0000 - val_loss: 0.5257 - val_accuracy: 0.7647\n",
            "Epoch 61/100\n",
            "1/1 [==============================] - 0s 35ms/step - loss: 0.0610 - accuracy: 1.0000 - val_loss: 0.5249 - val_accuracy: 0.7647\n",
            "Epoch 62/100\n",
            "1/1 [==============================] - 0s 40ms/step - loss: 0.0590 - accuracy: 1.0000 - val_loss: 0.5241 - val_accuracy: 0.7647\n",
            "Epoch 63/100\n",
            "1/1 [==============================] - 0s 35ms/step - loss: 0.0571 - accuracy: 1.0000 - val_loss: 0.5233 - val_accuracy: 0.7647\n",
            "Epoch 64/100\n",
            "1/1 [==============================] - 0s 39ms/step - loss: 0.0552 - accuracy: 1.0000 - val_loss: 0.5226 - val_accuracy: 0.7647\n",
            "Epoch 65/100\n",
            "1/1 [==============================] - 0s 45ms/step - loss: 0.0534 - accuracy: 1.0000 - val_loss: 0.5218 - val_accuracy: 0.7647\n",
            "Epoch 66/100\n",
            "1/1 [==============================] - 0s 35ms/step - loss: 0.0517 - accuracy: 1.0000 - val_loss: 0.5211 - val_accuracy: 0.7647\n",
            "Epoch 67/100\n",
            "1/1 [==============================] - 0s 40ms/step - loss: 0.0500 - accuracy: 1.0000 - val_loss: 0.5204 - val_accuracy: 0.7647\n",
            "Epoch 68/100\n",
            "1/1 [==============================] - 0s 36ms/step - loss: 0.0484 - accuracy: 1.0000 - val_loss: 0.5197 - val_accuracy: 0.7647\n",
            "Epoch 69/100\n",
            "1/1 [==============================] - 0s 39ms/step - loss: 0.0468 - accuracy: 1.0000 - val_loss: 0.5190 - val_accuracy: 0.7647\n",
            "Epoch 70/100\n",
            "1/1 [==============================] - 0s 33ms/step - loss: 0.0453 - accuracy: 1.0000 - val_loss: 0.5185 - val_accuracy: 0.7647\n",
            "Epoch 71/100\n",
            "1/1 [==============================] - 0s 37ms/step - loss: 0.0438 - accuracy: 1.0000 - val_loss: 0.5179 - val_accuracy: 0.7941\n",
            "Epoch 72/100\n",
            "1/1 [==============================] - 0s 35ms/step - loss: 0.0424 - accuracy: 1.0000 - val_loss: 0.5174 - val_accuracy: 0.7941\n",
            "Epoch 73/100\n",
            "1/1 [==============================] - 0s 37ms/step - loss: 0.0410 - accuracy: 1.0000 - val_loss: 0.5169 - val_accuracy: 0.7941\n",
            "Epoch 74/100\n",
            "1/1 [==============================] - 0s 34ms/step - loss: 0.0397 - accuracy: 1.0000 - val_loss: 0.5164 - val_accuracy: 0.7941\n",
            "Epoch 75/100\n",
            "1/1 [==============================] - 0s 41ms/step - loss: 0.0384 - accuracy: 1.0000 - val_loss: 0.5158 - val_accuracy: 0.7941\n",
            "Epoch 76/100\n",
            "1/1 [==============================] - 0s 34ms/step - loss: 0.0372 - accuracy: 1.0000 - val_loss: 0.5152 - val_accuracy: 0.7941\n",
            "Epoch 77/100\n",
            "1/1 [==============================] - 0s 38ms/step - loss: 0.0360 - accuracy: 1.0000 - val_loss: 0.5146 - val_accuracy: 0.7941\n",
            "Epoch 78/100\n",
            "1/1 [==============================] - 0s 36ms/step - loss: 0.0349 - accuracy: 1.0000 - val_loss: 0.5140 - val_accuracy: 0.7941\n",
            "Epoch 79/100\n",
            "1/1 [==============================] - 0s 38ms/step - loss: 0.0338 - accuracy: 1.0000 - val_loss: 0.5133 - val_accuracy: 0.7941\n",
            "Epoch 80/100\n",
            "1/1 [==============================] - 0s 34ms/step - loss: 0.0327 - accuracy: 1.0000 - val_loss: 0.5127 - val_accuracy: 0.7941\n",
            "Epoch 81/100\n",
            "1/1 [==============================] - 0s 35ms/step - loss: 0.0317 - accuracy: 1.0000 - val_loss: 0.5121 - val_accuracy: 0.7941\n",
            "Epoch 82/100\n",
            "1/1 [==============================] - 0s 39ms/step - loss: 0.0308 - accuracy: 1.0000 - val_loss: 0.5114 - val_accuracy: 0.7941\n",
            "Epoch 83/100\n",
            "1/1 [==============================] - 0s 34ms/step - loss: 0.0298 - accuracy: 1.0000 - val_loss: 0.5108 - val_accuracy: 0.7941\n",
            "Epoch 84/100\n",
            "1/1 [==============================] - 0s 42ms/step - loss: 0.0289 - accuracy: 1.0000 - val_loss: 0.5102 - val_accuracy: 0.7941\n",
            "Epoch 85/100\n",
            "1/1 [==============================] - 0s 35ms/step - loss: 0.0281 - accuracy: 1.0000 - val_loss: 0.5096 - val_accuracy: 0.7941\n",
            "Epoch 86/100\n",
            "1/1 [==============================] - 0s 40ms/step - loss: 0.0273 - accuracy: 1.0000 - val_loss: 0.5090 - val_accuracy: 0.7941\n",
            "Epoch 87/100\n",
            "1/1 [==============================] - 0s 34ms/step - loss: 0.0265 - accuracy: 1.0000 - val_loss: 0.5085 - val_accuracy: 0.7941\n",
            "Epoch 88/100\n",
            "1/1 [==============================] - 0s 45ms/step - loss: 0.0257 - accuracy: 1.0000 - val_loss: 0.5079 - val_accuracy: 0.7941\n",
            "Epoch 89/100\n",
            "1/1 [==============================] - 0s 36ms/step - loss: 0.0249 - accuracy: 1.0000 - val_loss: 0.5074 - val_accuracy: 0.7941\n",
            "Epoch 90/100\n",
            "1/1 [==============================] - 0s 37ms/step - loss: 0.0242 - accuracy: 1.0000 - val_loss: 0.5069 - val_accuracy: 0.7941\n",
            "Epoch 91/100\n",
            "1/1 [==============================] - 0s 35ms/step - loss: 0.0235 - accuracy: 1.0000 - val_loss: 0.5063 - val_accuracy: 0.7941\n",
            "Epoch 92/100\n",
            "1/1 [==============================] - 0s 37ms/step - loss: 0.0228 - accuracy: 1.0000 - val_loss: 0.5058 - val_accuracy: 0.7941\n",
            "Epoch 93/100\n",
            "1/1 [==============================] - 0s 34ms/step - loss: 0.0222 - accuracy: 1.0000 - val_loss: 0.5052 - val_accuracy: 0.7941\n",
            "Epoch 94/100\n",
            "1/1 [==============================] - 0s 37ms/step - loss: 0.0215 - accuracy: 1.0000 - val_loss: 0.5047 - val_accuracy: 0.7941\n",
            "Epoch 95/100\n",
            "1/1 [==============================] - 0s 34ms/step - loss: 0.0209 - accuracy: 1.0000 - val_loss: 0.5041 - val_accuracy: 0.7941\n",
            "Epoch 96/100\n",
            "1/1 [==============================] - 0s 38ms/step - loss: 0.0203 - accuracy: 1.0000 - val_loss: 0.5035 - val_accuracy: 0.7941\n",
            "Epoch 97/100\n",
            "1/1 [==============================] - 0s 35ms/step - loss: 0.0198 - accuracy: 1.0000 - val_loss: 0.5029 - val_accuracy: 0.7941\n",
            "Epoch 98/100\n",
            "1/1 [==============================] - 0s 36ms/step - loss: 0.0192 - accuracy: 1.0000 - val_loss: 0.5023 - val_accuracy: 0.7941\n",
            "Epoch 99/100\n",
            "1/1 [==============================] - 0s 35ms/step - loss: 0.0187 - accuracy: 1.0000 - val_loss: 0.5017 - val_accuracy: 0.7941\n",
            "Epoch 100/100\n",
            "1/1 [==============================] - 0s 37ms/step - loss: 0.0182 - accuracy: 1.0000 - val_loss: 0.5011 - val_accuracy: 0.7941\n"
          ]
        },
        {
          "output_type": "display_data",
          "data": {
            "text/plain": [
              "<Figure size 432x288 with 1 Axes>"
            ],
            "image/png": "[encoded data removed]"
          },
          "metadata": {
            "needs_background": "light"
          }
        },
        {
          "output_type": "display_data",
          "data": {
            "text/plain": [
              "<Figure size 432x288 with 1 Axes>"
            ],
            "image/png": "[encoded data removed]"
          },
          "metadata": {
            "needs_background": "light"
          }
        }
      ]
    },
    {
      "cell_type": "markdown",
      "metadata": {
        "id": "tb40F7IEMCiA"
      },
      "source": [
        "Как видите, результата почти никакого.\n",
        "\n",
        "При этом на тестовой выборке результат очень сильно ухудшился. Возможно, стоит изменить архитектуру модели."
      ]
    },
    {
      "cell_type": "code",
      "metadata": {
        "colab": {
          "base_uri": "https://localhost:8080/"
        },
        "id": "e-3ZtpAdDeA_",
        "outputId": "467508aa-da6d-4ef0-a685-0306413b7232"
      },
      "source": [
        "# Вычисление результата (предсказания) сети на тестовом наборе\n",
        "\n",
        "scores = model.evaluate(x_test, y_test, verbose=1)\n",
        "\n",
        "print(scores)\n",
        "print('Доля верных ответов на тестовых данных, в процентах: {:7.4%}'.format(scores[1]))"
      ],
      "execution_count": null,
      "outputs": [
        {
          "output_type": "stream",
          "name": "stdout",
          "text": [
            "2/2 [==============================] - 0s 8ms/step - loss: 0.6312 - accuracy: 0.5714\n",
            "[0.6312006711959839, 0.5714285969734192]\n",
            "Доля верных ответов на тестовых данных, в процентах: 57.1429%\n"
          ]
        }
      ]
    },
    {
      "cell_type": "markdown",
      "metadata": {
        "id": "2uIzZQ6CMbGU"
      },
      "source": [
        "### Совмещение Dropout и BatchNormalization"
      ]
    },
    {
      "cell_type": "code",
      "metadata": {
        "colab": {
          "base_uri": "https://localhost:8080/",
          "height": 1000
        },
        "id": "0FSmNr34dMxw",
        "outputId": "c14d187a-1f7a-4acc-810d-9c6049d40cb8"
      },
      "source": [
        "model = Sequential()\n",
        "\n",
        "model.add(Dense(60, activation='relu', input_shape=(x_train.shape[1], )))\n",
        "model.add(BatchNormalization())\n",
        "model.add(Dropout(0.3))\n",
        "model.add(Dense(30, activation='relu'))\n",
        "model.add(BatchNormalization())\n",
        "model.add(Dropout(0.3))\n",
        "model.add(Dense(1, activation='sigmoid'))\n",
        "\n",
        "model.compile(loss='binary_crossentropy',\n",
        "              optimizer=Adam(learning_rate=0.001),\n",
        "              metrics=['accuracy'])\n",
        "\n",
        "history = model.fit(x_train,\n",
        "                    y_train,\n",
        "                    batch_size=200,\n",
        "                    epochs=100,\n",
        "                    validation_split=0.2,\n",
        "                    verbose=1)\n",
        "\n",
        "plt.plot(history.history['accuracy'],\n",
        "         label='Доля верных ответов на обучающем наборе')\n",
        "plt.plot(history.history['val_accuracy'],\n",
        "         label='Доля верных ответов на проверочном наборе')\n",
        "plt.xlabel('Эпоха обучения')\n",
        "plt.ylabel('Доля верных ответов')\n",
        "plt.legend()\n",
        "plt.show()\n",
        "\n",
        "plt.plot(history.history['loss'],\n",
        "         label='Ошибка на обучающем наборе')\n",
        "plt.plot(history.history['val_loss'],\n",
        "         label='Ошибка на проверочном наборе')\n",
        "plt.xlabel('Эпоха обучения')\n",
        "plt.ylabel('Ошибка')\n",
        "plt.legend()\n",
        "plt.show()"
      ],
      "execution_count": null,
      "outputs": [
        {
          "output_type": "stream",
          "name": "stdout",
          "text": [
            "Epoch 1/100\n",
            "1/1 [==============================] - 1s 1s/step - loss: 0.8218 - accuracy: 0.5682 - val_loss: 0.8021 - val_accuracy: 0.3235\n",
            "Epoch 2/100\n",
            "1/1 [==============================] - 0s 37ms/step - loss: 0.8923 - accuracy: 0.5455 - val_loss: 0.7947 - val_accuracy: 0.3235\n",
            "Epoch 3/100\n",
            "1/1 [==============================] - 0s 34ms/step - loss: 0.8757 - accuracy: 0.5682 - val_loss: 0.7879 - val_accuracy: 0.3235\n",
            "Epoch 4/100\n",
            "1/1 [==============================] - 0s 35ms/step - loss: 0.6757 - accuracy: 0.5985 - val_loss: 0.7812 - val_accuracy: 0.3235\n",
            "Epoch 5/100\n",
            "1/1 [==============================] - 0s 53ms/step - loss: 0.8155 - accuracy: 0.5303 - val_loss: 0.7745 - val_accuracy: 0.3235\n",
            "Epoch 6/100\n",
            "1/1 [==============================] - 0s 35ms/step - loss: 0.6189 - accuracy: 0.6136 - val_loss: 0.7680 - val_accuracy: 0.3235\n",
            "Epoch 7/100\n",
            "1/1 [==============================] - 0s 35ms/step - loss: 0.6767 - accuracy: 0.6364 - val_loss: 0.7614 - val_accuracy: 0.3235\n",
            "Epoch 8/100\n",
            "1/1 [==============================] - 0s 33ms/step - loss: 0.5559 - accuracy: 0.7348 - val_loss: 0.7546 - val_accuracy: 0.3235\n",
            "Epoch 9/100\n",
            "1/1 [==============================] - 0s 35ms/step - loss: 0.6839 - accuracy: 0.6591 - val_loss: 0.7480 - val_accuracy: 0.3235\n",
            "Epoch 10/100\n",
            "1/1 [==============================] - 0s 36ms/step - loss: 0.6104 - accuracy: 0.6818 - val_loss: 0.7418 - val_accuracy: 0.2941\n",
            "Epoch 11/100\n",
            "1/1 [==============================] - 0s 34ms/step - loss: 0.6118 - accuracy: 0.6591 - val_loss: 0.7352 - val_accuracy: 0.3235\n",
            "Epoch 12/100\n",
            "1/1 [==============================] - 0s 43ms/step - loss: 0.5345 - accuracy: 0.7424 - val_loss: 0.7280 - val_accuracy: 0.3824\n",
            "Epoch 13/100\n",
            "1/1 [==============================] - 0s 42ms/step - loss: 0.5112 - accuracy: 0.7348 - val_loss: 0.7209 - val_accuracy: 0.4118\n",
            "Epoch 14/100\n",
            "1/1 [==============================] - 0s 41ms/step - loss: 0.5930 - accuracy: 0.7045 - val_loss: 0.7139 - val_accuracy: 0.4412\n",
            "Epoch 15/100\n",
            "1/1 [==============================] - 0s 43ms/step - loss: 0.5316 - accuracy: 0.7424 - val_loss: 0.7079 - val_accuracy: 0.4412\n",
            "Epoch 16/100\n",
            "1/1 [==============================] - 0s 35ms/step - loss: 0.5844 - accuracy: 0.6894 - val_loss: 0.7020 - val_accuracy: 0.4706\n",
            "Epoch 17/100\n",
            "1/1 [==============================] - 0s 33ms/step - loss: 0.5026 - accuracy: 0.7500 - val_loss: 0.6960 - val_accuracy: 0.5294\n",
            "Epoch 18/100\n",
            "1/1 [==============================] - 0s 35ms/step - loss: 0.5622 - accuracy: 0.7197 - val_loss: 0.6903 - val_accuracy: 0.5294\n",
            "Epoch 19/100\n",
            "1/1 [==============================] - 0s 37ms/step - loss: 0.5183 - accuracy: 0.7121 - val_loss: 0.6845 - val_accuracy: 0.5294\n",
            "Epoch 20/100\n",
            "1/1 [==============================] - 0s 42ms/step - loss: 0.4851 - accuracy: 0.7273 - val_loss: 0.6787 - val_accuracy: 0.5588\n",
            "Epoch 21/100\n",
            "1/1 [==============================] - 0s 37ms/step - loss: 0.4845 - accuracy: 0.7652 - val_loss: 0.6733 - val_accuracy: 0.5588\n",
            "Epoch 22/100\n",
            "1/1 [==============================] - 0s 36ms/step - loss: 0.4474 - accuracy: 0.7955 - val_loss: 0.6681 - val_accuracy: 0.5588\n",
            "Epoch 23/100\n",
            "1/1 [==============================] - 0s 33ms/step - loss: 0.4316 - accuracy: 0.7879 - val_loss: 0.6629 - val_accuracy: 0.6176\n",
            "Epoch 24/100\n",
            "1/1 [==============================] - 0s 34ms/step - loss: 0.4166 - accuracy: 0.7955 - val_loss: 0.6580 - val_accuracy: 0.6765\n",
            "Epoch 25/100\n",
            "1/1 [==============================] - 0s 37ms/step - loss: 0.4642 - accuracy: 0.7803 - val_loss: 0.6531 - val_accuracy: 0.6765\n",
            "Epoch 26/100\n",
            "1/1 [==============================] - 0s 35ms/step - loss: 0.3971 - accuracy: 0.8106 - val_loss: 0.6485 - val_accuracy: 0.7059\n",
            "Epoch 27/100\n",
            "1/1 [==============================] - 0s 38ms/step - loss: 0.4885 - accuracy: 0.7273 - val_loss: 0.6441 - val_accuracy: 0.7059\n",
            "Epoch 28/100\n",
            "1/1 [==============================] - 0s 36ms/step - loss: 0.4612 - accuracy: 0.7803 - val_loss: 0.6396 - val_accuracy: 0.7059\n",
            "Epoch 29/100\n",
            "1/1 [==============================] - 0s 43ms/step - loss: 0.3752 - accuracy: 0.8636 - val_loss: 0.6351 - val_accuracy: 0.7353\n",
            "Epoch 30/100\n",
            "1/1 [==============================] - 0s 40ms/step - loss: 0.4061 - accuracy: 0.8333 - val_loss: 0.6309 - val_accuracy: 0.7647\n",
            "Epoch 31/100\n",
            "1/1 [==============================] - 0s 36ms/step - loss: 0.3731 - accuracy: 0.8333 - val_loss: 0.6272 - val_accuracy: 0.7647\n",
            "Epoch 32/100\n",
            "1/1 [==============================] - 0s 34ms/step - loss: 0.3709 - accuracy: 0.8561 - val_loss: 0.6236 - val_accuracy: 0.7647\n",
            "Epoch 33/100\n",
            "1/1 [==============================] - 0s 37ms/step - loss: 0.3958 - accuracy: 0.8106 - val_loss: 0.6202 - val_accuracy: 0.7647\n",
            "Epoch 34/100\n",
            "1/1 [==============================] - 0s 33ms/step - loss: 0.4130 - accuracy: 0.8030 - val_loss: 0.6169 - val_accuracy: 0.7647\n",
            "Epoch 35/100\n",
            "1/1 [==============================] - 0s 37ms/step - loss: 0.3662 - accuracy: 0.8409 - val_loss: 0.6138 - val_accuracy: 0.7647\n",
            "Epoch 36/100\n",
            "1/1 [==============================] - 0s 37ms/step - loss: 0.3817 - accuracy: 0.8182 - val_loss: 0.6114 - val_accuracy: 0.7941\n",
            "Epoch 37/100\n",
            "1/1 [==============================] - 0s 44ms/step - loss: 0.3848 - accuracy: 0.8258 - val_loss: 0.6093 - val_accuracy: 0.8235\n",
            "Epoch 38/100\n",
            "1/1 [==============================] - 0s 36ms/step - loss: 0.3264 - accuracy: 0.8712 - val_loss: 0.6077 - val_accuracy: 0.8235\n",
            "Epoch 39/100\n",
            "1/1 [==============================] - 0s 37ms/step - loss: 0.3745 - accuracy: 0.8409 - val_loss: 0.6061 - val_accuracy: 0.8235\n",
            "Epoch 40/100\n",
            "1/1 [==============================] - 0s 37ms/step - loss: 0.3520 - accuracy: 0.8485 - val_loss: 0.6049 - val_accuracy: 0.8235\n",
            "Epoch 41/100\n",
            "1/1 [==============================] - 0s 39ms/step - loss: 0.2969 - accuracy: 0.9091 - val_loss: 0.6036 - val_accuracy: 0.8235\n",
            "Epoch 42/100\n",
            "1/1 [==============================] - 0s 37ms/step - loss: 0.3640 - accuracy: 0.7955 - val_loss: 0.6024 - val_accuracy: 0.8235\n",
            "Epoch 43/100\n",
            "1/1 [==============================] - 0s 34ms/step - loss: 0.4190 - accuracy: 0.8106 - val_loss: 0.6010 - val_accuracy: 0.8235\n",
            "Epoch 44/100\n",
            "1/1 [==============================] - 0s 38ms/step - loss: 0.3395 - accuracy: 0.8788 - val_loss: 0.5995 - val_accuracy: 0.8235\n",
            "Epoch 45/100\n",
            "1/1 [==============================] - 0s 33ms/step - loss: 0.3332 - accuracy: 0.8864 - val_loss: 0.5980 - val_accuracy: 0.8235\n",
            "Epoch 46/100\n",
            "1/1 [==============================] - 0s 34ms/step - loss: 0.3341 - accuracy: 0.8333 - val_loss: 0.5964 - val_accuracy: 0.8235\n",
            "Epoch 47/100\n",
            "1/1 [==============================] - 0s 43ms/step - loss: 0.3470 - accuracy: 0.8561 - val_loss: 0.5950 - val_accuracy: 0.8235\n",
            "Epoch 48/100\n",
            "1/1 [==============================] - 0s 38ms/step - loss: 0.2838 - accuracy: 0.9015 - val_loss: 0.5934 - val_accuracy: 0.8235\n",
            "Epoch 49/100\n",
            "1/1 [==============================] - 0s 34ms/step - loss: 0.3254 - accuracy: 0.8788 - val_loss: 0.5918 - val_accuracy: 0.8235\n",
            "Epoch 50/100\n",
            "1/1 [==============================] - 0s 33ms/step - loss: 0.3188 - accuracy: 0.8409 - val_loss: 0.5902 - val_accuracy: 0.8235\n",
            "Epoch 51/100\n",
            "1/1 [==============================] - 0s 37ms/step - loss: 0.4014 - accuracy: 0.7955 - val_loss: 0.5885 - val_accuracy: 0.8235\n",
            "Epoch 52/100\n",
            "1/1 [==============================] - 0s 34ms/step - loss: 0.3544 - accuracy: 0.8258 - val_loss: 0.5866 - val_accuracy: 0.8235\n",
            "Epoch 53/100\n",
            "1/1 [==============================] - 0s 36ms/step - loss: 0.2904 - accuracy: 0.8864 - val_loss: 0.5847 - val_accuracy: 0.8235\n",
            "Epoch 54/100\n",
            "1/1 [==============================] - 0s 52ms/step - loss: 0.2890 - accuracy: 0.8712 - val_loss: 0.5831 - val_accuracy: 0.8235\n",
            "Epoch 55/100\n",
            "1/1 [==============================] - 0s 40ms/step - loss: 0.3186 - accuracy: 0.8788 - val_loss: 0.5817 - val_accuracy: 0.8235\n",
            "Epoch 56/100\n",
            "1/1 [==============================] - 0s 37ms/step - loss: 0.3040 - accuracy: 0.8712 - val_loss: 0.5801 - val_accuracy: 0.8235\n",
            "Epoch 57/100\n",
            "1/1 [==============================] - 0s 34ms/step - loss: 0.3008 - accuracy: 0.8864 - val_loss: 0.5786 - val_accuracy: 0.8235\n",
            "Epoch 58/100\n",
            "1/1 [==============================] - 0s 47ms/step - loss: 0.2867 - accuracy: 0.8864 - val_loss: 0.5772 - val_accuracy: 0.8235\n",
            "Epoch 59/100\n",
            "1/1 [==============================] - 0s 53ms/step - loss: 0.2910 - accuracy: 0.9167 - val_loss: 0.5758 - val_accuracy: 0.8235\n",
            "Epoch 60/100\n",
            "1/1 [==============================] - 0s 48ms/step - loss: 0.3051 - accuracy: 0.8788 - val_loss: 0.5746 - val_accuracy: 0.8235\n",
            "Epoch 61/100\n",
            "1/1 [==============================] - 0s 40ms/step - loss: 0.3059 - accuracy: 0.9015 - val_loss: 0.5735 - val_accuracy: 0.8235\n",
            "Epoch 62/100\n",
            "1/1 [==============================] - 0s 37ms/step - loss: 0.2738 - accuracy: 0.8939 - val_loss: 0.5722 - val_accuracy: 0.8235\n",
            "Epoch 63/100\n",
            "1/1 [==============================] - 0s 34ms/step - loss: 0.2553 - accuracy: 0.9167 - val_loss: 0.5709 - val_accuracy: 0.8235\n",
            "Epoch 64/100\n",
            "1/1 [==============================] - 0s 39ms/step - loss: 0.2781 - accuracy: 0.8788 - val_loss: 0.5694 - val_accuracy: 0.8235\n",
            "Epoch 65/100\n",
            "1/1 [==============================] - 0s 36ms/step - loss: 0.2509 - accuracy: 0.8939 - val_loss: 0.5678 - val_accuracy: 0.8235\n",
            "Epoch 66/100\n",
            "1/1 [==============================] - 0s 35ms/step - loss: 0.2892 - accuracy: 0.8864 - val_loss: 0.5662 - val_accuracy: 0.8235\n",
            "Epoch 67/100\n",
            "1/1 [==============================] - 0s 37ms/step - loss: 0.2467 - accuracy: 0.9091 - val_loss: 0.5643 - val_accuracy: 0.8235\n",
            "Epoch 68/100\n",
            "1/1 [==============================] - 0s 38ms/step - loss: 0.2559 - accuracy: 0.9242 - val_loss: 0.5629 - val_accuracy: 0.8235\n",
            "Epoch 69/100\n",
            "1/1 [==============================] - 0s 36ms/step - loss: 0.2656 - accuracy: 0.8939 - val_loss: 0.5613 - val_accuracy: 0.8235\n",
            "Epoch 70/100\n",
            "1/1 [==============================] - 0s 35ms/step - loss: 0.2372 - accuracy: 0.9091 - val_loss: 0.5596 - val_accuracy: 0.8235\n",
            "Epoch 71/100\n",
            "1/1 [==============================] - 0s 44ms/step - loss: 0.2295 - accuracy: 0.9318 - val_loss: 0.5576 - val_accuracy: 0.8235\n",
            "Epoch 72/100\n",
            "1/1 [==============================] - 0s 38ms/step - loss: 0.2847 - accuracy: 0.8636 - val_loss: 0.5557 - val_accuracy: 0.8235\n",
            "Epoch 73/100\n",
            "1/1 [==============================] - 0s 42ms/step - loss: 0.2414 - accuracy: 0.9091 - val_loss: 0.5541 - val_accuracy: 0.8235\n",
            "Epoch 74/100\n",
            "1/1 [==============================] - 0s 37ms/step - loss: 0.2010 - accuracy: 0.9545 - val_loss: 0.5525 - val_accuracy: 0.8235\n",
            "Epoch 75/100\n",
            "1/1 [==============================] - 0s 34ms/step - loss: 0.2290 - accuracy: 0.9394 - val_loss: 0.5510 - val_accuracy: 0.8235\n",
            "Epoch 76/100\n",
            "1/1 [==============================] - 0s 46ms/step - loss: 0.2335 - accuracy: 0.9167 - val_loss: 0.5496 - val_accuracy: 0.8235\n",
            "Epoch 77/100\n",
            "1/1 [==============================] - 0s 39ms/step - loss: 0.2157 - accuracy: 0.9470 - val_loss: 0.5482 - val_accuracy: 0.8235\n",
            "Epoch 78/100\n",
            "1/1 [==============================] - 0s 37ms/step - loss: 0.2019 - accuracy: 0.9242 - val_loss: 0.5467 - val_accuracy: 0.8235\n",
            "Epoch 79/100\n",
            "1/1 [==============================] - 0s 34ms/step - loss: 0.2419 - accuracy: 0.9015 - val_loss: 0.5456 - val_accuracy: 0.8235\n",
            "Epoch 80/100\n",
            "1/1 [==============================] - 0s 35ms/step - loss: 0.2068 - accuracy: 0.9773 - val_loss: 0.5445 - val_accuracy: 0.8235\n",
            "Epoch 81/100\n",
            "1/1 [==============================] - 0s 38ms/step - loss: 0.2220 - accuracy: 0.9394 - val_loss: 0.5432 - val_accuracy: 0.8235\n",
            "Epoch 82/100\n",
            "1/1 [==============================] - 0s 39ms/step - loss: 0.2315 - accuracy: 0.9015 - val_loss: 0.5420 - val_accuracy: 0.8235\n",
            "Epoch 83/100\n",
            "1/1 [==============================] - 0s 48ms/step - loss: 0.2184 - accuracy: 0.9318 - val_loss: 0.5407 - val_accuracy: 0.8235\n",
            "Epoch 84/100\n",
            "1/1 [==============================] - 0s 36ms/step - loss: 0.2025 - accuracy: 0.9470 - val_loss: 0.5391 - val_accuracy: 0.8235\n",
            "Epoch 85/100\n",
            "1/1 [==============================] - 0s 37ms/step - loss: 0.2085 - accuracy: 0.9470 - val_loss: 0.5374 - val_accuracy: 0.8235\n",
            "Epoch 86/100\n",
            "1/1 [==============================] - 0s 37ms/step - loss: 0.2150 - accuracy: 0.9318 - val_loss: 0.5358 - val_accuracy: 0.8529\n",
            "Epoch 87/100\n",
            "1/1 [==============================] - 0s 35ms/step - loss: 0.2073 - accuracy: 0.9470 - val_loss: 0.5340 - val_accuracy: 0.8529\n",
            "Epoch 88/100\n",
            "1/1 [==============================] - 0s 35ms/step - loss: 0.2359 - accuracy: 0.9167 - val_loss: 0.5322 - val_accuracy: 0.8529\n",
            "Epoch 89/100\n",
            "1/1 [==============================] - 0s 34ms/step - loss: 0.1910 - accuracy: 0.9318 - val_loss: 0.5305 - val_accuracy: 0.8529\n",
            "Epoch 90/100\n",
            "1/1 [==============================] - 0s 43ms/step - loss: 0.1781 - accuracy: 0.9545 - val_loss: 0.5291 - val_accuracy: 0.8529\n",
            "Epoch 91/100\n",
            "1/1 [==============================] - 0s 38ms/step - loss: 0.2209 - accuracy: 0.9394 - val_loss: 0.5281 - val_accuracy: 0.8529\n",
            "Epoch 92/100\n",
            "1/1 [==============================] - 0s 39ms/step - loss: 0.2159 - accuracy: 0.9242 - val_loss: 0.5271 - val_accuracy: 0.8529\n",
            "Epoch 93/100\n",
            "1/1 [==============================] - 0s 37ms/step - loss: 0.2105 - accuracy: 0.9318 - val_loss: 0.5261 - val_accuracy: 0.8529\n",
            "Epoch 94/100\n",
            "1/1 [==============================] - 0s 40ms/step - loss: 0.1692 - accuracy: 0.9697 - val_loss: 0.5250 - val_accuracy: 0.8529\n",
            "Epoch 95/100\n",
            "1/1 [==============================] - 0s 38ms/step - loss: 0.1973 - accuracy: 0.9167 - val_loss: 0.5240 - val_accuracy: 0.8529\n",
            "Epoch 96/100\n",
            "1/1 [==============================] - 0s 38ms/step - loss: 0.2209 - accuracy: 0.9394 - val_loss: 0.5229 - val_accuracy: 0.8529\n",
            "Epoch 97/100\n",
            "1/1 [==============================] - 0s 47ms/step - loss: 0.2236 - accuracy: 0.9242 - val_loss: 0.5220 - val_accuracy: 0.8529\n",
            "Epoch 98/100\n",
            "1/1 [==============================] - 0s 38ms/step - loss: 0.1901 - accuracy: 0.9318 - val_loss: 0.5214 - val_accuracy: 0.8529\n",
            "Epoch 99/100\n",
            "1/1 [==============================] - 0s 38ms/step - loss: 0.1864 - accuracy: 0.9470 - val_loss: 0.5207 - val_accuracy: 0.8529\n",
            "Epoch 100/100\n",
            "1/1 [==============================] - 0s 41ms/step - loss: 0.1736 - accuracy: 0.9621 - val_loss: 0.5199 - val_accuracy: 0.8529\n"
          ]
        },
        {
          "output_type": "display_data",
          "data": {
            "text/plain": [
              "<Figure size 432x288 with 1 Axes>"
            ],
            "image/png": "[encoded data removed]"
          },
          "metadata": {
            "needs_background": "light"
          }
        },
        {
          "output_type": "display_data",
          "data": {
            "text/plain": [
              "<Figure size 432x288 with 1 Axes>"
            ],
            "image/png": "[encoded data removed]"
          },
          "metadata": {
            "needs_background": "light"
          }
        }
      ]
    },
    {
      "cell_type": "code",
      "metadata": {
        "colab": {
          "base_uri": "https://localhost:8080/"
        },
        "id": "BhzlGbfmDiHv",
        "outputId": "0724f0a9-6754-426a-d408-d881eff1d193"
      },
      "source": [
        "# Вычисление результата (предсказания) сети на тестовом наборе\n",
        "\n",
        "scores = model.evaluate(x_test, y_test, verbose=1)\n",
        "\n",
        "print(scores)\n",
        "print('Доля верных ответов на тестовых данных, в процентах: {:7.4%}'.format(scores[1]))"
      ],
      "execution_count": null,
      "outputs": [
        {
          "output_type": "stream",
          "name": "stdout",
          "text": [
            "2/2 [==============================] - 0s 8ms/step - loss: 0.5709 - accuracy: 0.6905\n",
            "[0.5708683133125305, 0.6904761791229248]\n",
            "Доля верных ответов на тестовых данных, в процентах: 69.0476%\n"
          ]
        }
      ]
    },
    {
      "cell_type": "markdown",
      "metadata": {
        "id": "53_Zf34wM5CP"
      },
      "source": [
        "Это не дало лучшего результата. Можно сделать вывод, что для изучаемых данных батч-нормализация больше вредна, чем полезна.\n",
        "\n",
        "В этом и заключается работа нейронщика: подбирать необходимую архитектуру и проводить множество экспериментов для достижения наилучшего результата."
      ]
    },
    {
      "cell_type": "markdown",
      "metadata": {
        "id": "rjspVrNsWzFO"
      },
      "source": [
        "**Содержание**:\n",
        "\n",
        "1. [Теория](https://colab.research.google.com/drive/1C7fIw4owXEU7sMENvK6q45-BYLoWGjaT?usp=sharing)\n",
        "2. Практический ноутбук"
      ]
    }
  ]
}