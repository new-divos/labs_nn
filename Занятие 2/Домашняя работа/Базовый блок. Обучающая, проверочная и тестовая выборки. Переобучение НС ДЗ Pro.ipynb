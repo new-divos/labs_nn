{
  "nbformat": 4,
  "nbformat_minor": 0,
  "metadata": {
    "colab": {
      "provenance": []
    },
    "kernelspec": {
      "name": "python3",
      "display_name": "Python 3"
    },
    "language_info": {
      "name": "python"
    },
    "accelerator": "GPU"
  },
  "cells": [
    {
      "cell_type": "markdown",
      "metadata": {
        "id": "wG1FmWUXHy-s"
      },
      "source": [
        "#Задание"
      ]
    },
    {
      "cell_type": "markdown",
      "metadata": {
        "id": "3cLYSK8MIU7D"
      },
      "source": [
        "Используя модуль **datasets** библиотеки **sklearn**, загрузите базу вин (`.load_wine()`).\n",
        "\n",
        "Используя шаблон ноутбука, выполните загрузку, подготовку и предобработку данных. Обязательное условие: разделение данных на три выборки осуществляется по шаблону (изменять параметры подготовки данных запрещается)!\n",
        "\n",
        "Проведите серию экспериментов и добейтесь максимальной точности классификации на тестовой выборке выше 94%.\n",
        "\n",
        "---\n",
        "\n",
        "С помощью метода `.summary()` зафиксируйте количество параметров созданной вами нейронной сети.\n"
      ]
    },
    {
      "cell_type": "markdown",
      "metadata": {
        "id": "f6qN94mFJ8lC"
      },
      "source": [
        "#Шаблон ноутбука"
      ]
    },
    {
      "cell_type": "code",
      "metadata": {
        "id": "3eQX1X5PHEkI"
      },
      "source": [
        "# Последовательная модель НС\n",
        "from tensorflow.keras.models import Sequential\n",
        "\n",
        "# Основные слои\n",
        "from tensorflow.keras.layers import Dense, Activation, Dropout, BatchNormalization\n",
        "\n",
        "# Утилиты для to_categorical()\n",
        "from tensorflow.keras import utils\n",
        "\n",
        "# Алгоритмы оптимизации для обучения модели\n",
        "from tensorflow.keras.optimizers import Adam\n",
        "\n",
        "# Библиотека для работы с массивами\n",
        "import numpy as np\n",
        "\n",
        "# Отрисовка графиков\n",
        "import matplotlib.pyplot as plt\n",
        "\n",
        "# Разделение данных на выборки\n",
        "from sklearn.model_selection import train_test_split\n",
        "\n",
        "# Для загрузки датасета\n",
        "from sklearn.datasets import load_wine\n",
        "\n",
        "# Отрисовка изображений в ноутбуке, а не в консоли или файле\n",
        "%matplotlib inline"
      ],
      "execution_count": null,
      "outputs": []
    },
    {
      "cell_type": "markdown",
      "metadata": {
        "id": "qNwEV1hkLYwa"
      },
      "source": [
        "##Описание базы\n",
        "\n",
        "1. Датасет состоит из набора данных о винах и их классах.\n",
        "2. Данные по одному вину хранятся в numpy-массиве `x_data`: (`13` параметров).\n",
        "3. В датасете `3` класса вин: `y_data`.\n",
        "4. Количество примеров: `178`."
      ]
    },
    {
      "cell_type": "code",
      "metadata": {
        "colab": {
          "base_uri": "https://localhost:8080/"
        },
        "id": "R7nBHaKTkNLN",
        "outputId": "5bde8627-d7fe-4c0a-a4d2-89ef6ddd7146"
      },
      "source": [
        "x_data = load_wine()['data']              # Загрузка набора данных о винах\n",
        "y_data = load_wine()['target']            # Загрузка классов вин\n",
        "\n",
        "print('Размерность x_data -', x_data.shape)\n",
        "print('Размерность y_data -', y_data.shape)\n",
        "print()\n",
        "\n",
        "# Вывод примера данных\n",
        "print('Данные по первому вину:',x_data[0])\n",
        "print('Класс вина:',y_data[0])"
      ],
      "execution_count": null,
      "outputs": [
        {
          "output_type": "stream",
          "name": "stdout",
          "text": [
            "Размерность x_data - (178, 13)\n",
            "Размерность y_data - (178,)\n",
            "\n",
            "Данные по первому вину: [1.423e+01 1.710e+00 2.430e+00 1.560e+01 1.270e+02 2.800e+00 3.060e+00\n",
            " 2.800e-01 2.290e+00 5.640e+00 1.040e+00 3.920e+00 1.065e+03]\n",
            "Класс вина: 0\n"
          ]
        }
      ]
    },
    {
      "cell_type": "markdown",
      "metadata": {
        "id": "SCsKSPhNMXQw"
      },
      "source": [
        "##Подготовка данных"
      ]
    },
    {
      "cell_type": "code",
      "metadata": {
        "id": "S7z-yghQcWsW",
        "colab": {
          "base_uri": "https://localhost:8080/"
        },
        "outputId": "9ccfdd34-94de-41f7-ba02-58578d9e2c1c"
      },
      "source": [
        "# Перевод в one hot encoding\n",
        "y_data = utils.to_categorical(y_data, 3)\n",
        "\n",
        "# Разбиение наборов на общую и тестовую выборки\n",
        "x_all, x_test, y_all, y_test = train_test_split(x_data,\n",
        "                                                y_data,\n",
        "                                                test_size=0.1,\n",
        "                                                shuffle=True,\n",
        "                                                random_state = 6)\n",
        "\n",
        "# Разбиение общей выборки на обучающую и проверочную\n",
        "x_train, x_val, y_train, y_val = train_test_split(x_all,\n",
        "                                                  y_all,\n",
        "                                                  test_size=0.1,\n",
        "                                                  shuffle=True,\n",
        "                                                  random_state = 6)\n",
        "\n",
        "print(x_train.shape)\n",
        "print(y_train.shape)\n",
        "print()\n",
        "print(x_val.shape)\n",
        "print(y_val.shape)"
      ],
      "execution_count": null,
      "outputs": [
        {
          "output_type": "stream",
          "name": "stdout",
          "text": [
            "(144, 13)\n",
            "(144, 3)\n",
            "\n",
            "(16, 13)\n",
            "(16, 3)\n"
          ]
        }
      ]
    },
    {
      "cell_type": "code",
      "metadata": {
        "id": "N7-1IW6F97BL"
      },
      "source": [
        "# ваше решение"
      ],
      "execution_count": null,
      "outputs": []
    }
  ]
}