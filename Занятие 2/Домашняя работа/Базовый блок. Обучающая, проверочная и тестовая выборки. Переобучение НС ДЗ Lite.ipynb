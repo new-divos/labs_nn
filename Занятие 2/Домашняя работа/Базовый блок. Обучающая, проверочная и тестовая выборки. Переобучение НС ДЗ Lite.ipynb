{
  "nbformat": 4,
  "nbformat_minor": 0,
  "metadata": {
    "colab": {
      "provenance": []
    },
    "kernelspec": {
      "name": "python3",
      "display_name": "Python 3"
    },
    "language_info": {
      "name": "python"
    },
    "accelerator": "GPU"
  },
  "cells": [
    {
      "cell_type": "markdown",
      "metadata": {
        "id": "_0527B7Z6fN3"
      },
      "source": [
        "#Задание"
      ]
    },
    {
      "cell_type": "markdown",
      "metadata": {
        "id": "tyt7Xg5G4nVe"
      },
      "source": [
        "Используя шаблон ноутбука для распознавания видов одежды и аксессуаров из набора **fashion_mnist**, выполните следующие действия:\n",
        "\n",
        "1. Создайте **9** моделей нейронной сети с различными архитектурами и сравните в них значения точности на проверочной выборке (на последней эпохе) и на тестовой выборке.  Используйте следующее деление: обучающая выборка - **50000** примеров, проверочная выборка - **10000** примеров, тестовая выборка - **10000** примеров.\n",
        "\n",
        "2. Создайте сравнительную таблицу в конце ноутбука, напишите свои выводы по результатам проведенных тестов."
      ]
    },
    {
      "cell_type": "markdown",
      "metadata": {
        "id": "MYbDjFwh6w5f"
      },
      "source": [
        "# Шаблон ноутбука"
      ]
    },
    {
      "cell_type": "markdown",
      "metadata": {
        "id": "iKVf4kq5_LkZ"
      },
      "source": [
        "##Импорт библиотек"
      ]
    },
    {
      "cell_type": "code",
      "metadata": {
        "id": "b2-CygQC2DMy"
      },
      "source": [
        "# Последовательная модель НС\n",
        "from tensorflow.keras.models import Sequential\n",
        "\n",
        "# Основные слои\n",
        "from tensorflow.keras.layers import Dense, Activation, Dropout, BatchNormalization\n",
        "\n",
        "# Утилиты для to_categorical()\n",
        "from tensorflow.keras import utils\n",
        "\n",
        "# Алгоритмы оптимизации для обучения модели\n",
        "from tensorflow.keras.optimizers import Adam, Adadelta\n",
        "\n",
        "# Библиотека для работы с массивами\n",
        "import numpy as np\n",
        "\n",
        "# Библиотека для работы с таблицами\n",
        "import pandas as pd\n",
        "\n",
        "# Отрисовка графиков\n",
        "import matplotlib.pyplot as plt\n",
        "\n",
        "# Связь с google-диском\n",
        "from google.colab import files\n",
        "\n",
        "# Предварительная обработка данных\n",
        "from sklearn import preprocessing\n",
        "\n",
        "# Разделение данных на выборки\n",
        "from sklearn.model_selection import train_test_split\n",
        "\n",
        "# Для загрузки датасета\n",
        "from keras.datasets import fashion_mnist\n",
        "\n",
        "# Отрисовывать изображения в ноутбуке, а не в консоль или файл\n",
        "%matplotlib inline"
      ],
      "execution_count": null,
      "outputs": []
    },
    {
      "cell_type": "markdown",
      "metadata": {
        "id": "CgHbBuEU_Ied"
      },
      "source": [
        "##Описание базы"
      ]
    },
    {
      "cell_type": "markdown",
      "metadata": {
        "id": "Ts1x7caq8MAO"
      },
      "source": [
        "###База: одежда, обувь и аксессуары\n",
        "- Датасет состоит из набора изображений одежды, обуви, аксессуаров и их классов.\n",
        "- Изображения одного вида хранятся в numpy-массиве **(28, 28)** - **x_train, x_test**.\n",
        "- База содержит **10** классов: (Футболка, Брюки, Пуловер, Платье, Пальто, Сандалии/Босоножки, Рубашка, Кроссовки, Сумочка, Ботильоны) - **y_train, y_test**.\n",
        "- Примеров: train - **60000**, test - **10000**."
      ]
    },
    {
      "cell_type": "markdown",
      "metadata": {
        "id": "f7nIQfV8_FSt"
      },
      "source": [
        "###Вывод примеров"
      ]
    },
    {
      "cell_type": "code",
      "metadata": {
        "colab": {
          "base_uri": "https://localhost:8080/"
        },
        "id": "yHTW8aud4FV4",
        "outputId": "0493c7e2-d729-4ad6-88af-fcdf91518375"
      },
      "source": [
        "# Загрузка датасета\n",
        "(x_train, y_train), (x_test, y_test) = fashion_mnist.load_data()\n",
        "\n",
        "# Вывод размерностей выборок\n",
        "\n",
        "print('Размер x_train:',x_train.shape)\n",
        "print('Размер y_train:',y_train.shape)\n",
        "print('Размер x_test:',x_test.shape)\n",
        "print('Размер y_test:',y_test.shape)"
      ],
      "execution_count": null,
      "outputs": [
        {
          "output_type": "stream",
          "name": "stdout",
          "text": [
            "Downloading data from https://storage.googleapis.com/tensorflow/tf-keras-datasets/train-labels-idx1-ubyte.gz\n",
            "32768/29515 [=================================] - 0s 0us/step\n",
            "40960/29515 [=========================================] - 0s 0us/step\n",
            "Downloading data from https://storage.googleapis.com/tensorflow/tf-keras-datasets/train-images-idx3-ubyte.gz\n",
            "26427392/26421880 [==============================] - 0s 0us/step\n",
            "26435584/26421880 [==============================] - 0s 0us/step\n",
            "Downloading data from https://storage.googleapis.com/tensorflow/tf-keras-datasets/t10k-labels-idx1-ubyte.gz\n",
            "16384/5148 [===============================================================================================] - 0s 0us/step\n",
            "Downloading data from https://storage.googleapis.com/tensorflow/tf-keras-datasets/t10k-images-idx3-ubyte.gz\n",
            "4423680/4422102 [==============================] - 0s 0us/step\n",
            "4431872/4422102 [==============================] - 0s 0us/step\n",
            "Размер x_train: (60000, 28, 28)\n",
            "Размер y_train: (60000,)\n",
            "Размер x_test: (10000, 28, 28)\n",
            "Размер y_test: (10000,)\n"
          ]
        }
      ]
    },
    {
      "cell_type": "code",
      "metadata": {
        "colab": {
          "base_uri": "https://localhost:8080/",
          "height": 198
        },
        "id": "VKM4z51g3sSX",
        "outputId": "d68373ab-d2ee-4d1b-da66-6ec38ddf7945"
      },
      "source": [
        "# Выбор 1 изображения каждого класса\n",
        "imgs = np.array([x_train[y_train==i][0] for i in range(10)])\n",
        "\n",
        "# Соединение изображения в одну линию\n",
        "imgs = np.concatenate(imgs, axis=1)\n",
        "\n",
        "# Создание поля для изображения\n",
        "plt.figure(figsize=(30, 6))\n",
        "\n",
        "# Отрисовка итогового изображения\n",
        "plt.imshow(imgs, cmap='Greys_r')\n",
        "\n",
        "# Без сетки\n",
        "plt.grid(False)\n",
        "\n",
        "# Без осей\n",
        "plt.axis('off')\n",
        "\n",
        "# Вывод результата\n",
        "plt.show()"
      ],
      "execution_count": null,
      "outputs": [
        {
          "output_type": "display_data",
          "data": {
            "text/plain": [
              "<Figure size 2160x432 with 1 Axes>"
            ],
            "image/png": "[encoded data removed]"
          },
          "metadata": {
            "needs_background": "light"
          }
        }
      ]
    },
    {
      "cell_type": "code",
      "metadata": {
        "id": "Sdh0t9_o4lAe"
      },
      "source": [
        "# Ваше решение"
      ],
      "execution_count": null,
      "outputs": []
    },
    {
      "cell_type": "code",
      "source": [],
      "metadata": {
        "id": "ZUV7eltE5gQC"
      },
      "execution_count": null,
      "outputs": []
    }
  ]
}